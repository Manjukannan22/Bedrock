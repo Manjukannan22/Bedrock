{
 "cells": [
  {
   "cell_type": "markdown",
   "id": "be8da33c-eeb6-4d72-a0fc-89f9fb6a19fc",
   "metadata": {
    "tags": []
   },
   "source": [
    "<div class=\"alert alert-block alert-info\">\n",
    "Last updated: 01/30/2024\n",
    "\n",
    "# Model Evaluation Framework\n",
    "    \n",
    "This notebook attempts to provide a systematic approach for large language model evaluation, starting from a given business problem."
   ]
  },
  {
   "cell_type": "markdown",
   "id": "d24283ee-03c6-45bf-a593-325a309e7ed5",
   "metadata": {},
   "source": [
    "Evaluating LLMs is a complex task. While there are benchmarks (e.g. https://huggingface.co/spaces/HuggingFaceH4/open_llm_leaderboard or https://crfm.stanford.edu/helm/latest/)\n",
    " available that provide a general view of how a particular LLM would perform in some common NLP tasks, most of evaluation frameworks/approaches are still evolving and none of them cover all aspects. It is important to understand which benchmark is the most relevant to a given use case, and to be mindful of social aspects, and ultimately to evaluate LLMs against the data of your specific use case.\n",
    "    \n",
    "# Business problem\n",
    "Let's assume a financial analyst wants to use financial statements (balance sheets, income statements, operational reports, annual reports) to better understand the financial strength of a company to help assess risk and guide future investment decisions.\n",
    "\n",
    "To do this efficiently they need to extract information from these documents which consist largely of unstructured text.\n",
    "This notebook focuses on Amazon's annual report, but the this approach can easily be adopted to other documents and an entire corpus of documents."
   ]
  },
  {
   "cell_type": "markdown",
   "id": "ad47020c-9266-4740-99c2-0d330b90d460",
   "metadata": {},
   "source": [
    "# Solution architecture\n",
    "<img src=\"https://d3q8adh3y5sxpk.cloudfront.net/meetingrecordings/modelevaluation/architecture.png\" alt=\"LLM selection process\" width=\"900\" height=\"550\">\n",
    "\n",
    "There are various options for you to choose from in this process:\n",
    "\n",
    "1) Embeddings: Currently we are using amazon.titan-embed-text-v1, but there are many other embedding models available. \n",
    "2) Text Splitter: We used TokenTextSplitter from langchain. Other supported options within langchain are CharacterTextSplitter, RecursiveCharacterTextSplitter, or RecursiveCharacterTextSplitter. Which Splitter works best will vary based on your use case and source data types. In addition there are other libraries like unstructured or eparse available that can further improve retrieval relevance.\n",
    "3) Vector Store: We used OpenSearch Serverless as our vector database to store embeddings. And while there are many vector databases available, you typically don't need a dedicated vector database. You can leverage a database that already hosts your data and supports vetor search such as PG Vector with RDS or OpenSearch. Data gravity is definitely a strong decision factor.  \n",
    "4) Retrievers: OpenSearch VectorStoreRetriever using KNN for similarity search. In general to retrieve text, there are two search types: “similarity” or “mmr”. search_type=\"similarity\" uses similarity search. The retriever selects text chunk vectors that are most similar to the question vector. search_type=\"mmr\" uses the maximum marginal relevance search where it optimizes for similarity to query AND diversity among selected documents.\n",
    "5) Chain Type: The default chain_type=\"stuff\" uses ALL of the text from the documents in the prompt. This might work fine for information extraction within one document, but will not work for information extraction from very large documents or a large corpus of documents. This is where the \"map_reduce\" chain type comes in. map_reduce separates texts into batches and feeds each batch with the question to the LLM separately, and comes up with the final answer based on the answers from each batch. In contrast the \"refine\" chain type separates texts into batches, feeds the first batch to LLM, and feeds the answer and the second batch to LLM. It refines the answer by going through all the batches. And lastly, \"map-rerank\"  separates texts into batches, feeds each batch to LLM, returns a score of how fully it answers the question, and comes up with the final answer based on the high-scored answers from each batch.\n",
    "6) Prompt Template: In addition to the model size, model type (instruct, chat, light, instant), precision (fp32, fp16), and quantization itself and the options referenced above, there are other variables that impact the response of an LLM, such as:<br>\n",
    " Model parameters: Maximum tokens, temperature, top-p, top-k, and frequency penalty<br>\n",
    " User prompt: Changing even a single word or punctuation may result in vastly different responses<br>\n",
    " Prompt template: Determines tone, tenor, pace, mood, voice, syntax, diction, format, and length of response and helps enforce the use of the supplied contextual reference\n"
   ]
  },
  {
   "cell_type": "markdown",
   "id": "755e3868-2d5b-4c5f-8f45-9a5e68f0a78b",
   "metadata": {},
   "source": [
    "# Evaluation\n",
    "\n",
    "There are numerous evaluation methods and metrics available, and which one you want to consider will depend on the use case. For example for text summarization, ROUGE or a Judge approach are quite common. Given that the focus of this notebook is an information extraction use case, we will focus on the below evaluation methods and metrics.\n",
    "\n",
    "1) Visualize results for human review\n",
    "2) Calculate Jaccard Similarity scores of LLM responses compared to Ground Truth \n",
    "3) Calculate Cosine Similarity scores of LLM responses compared to Ground Truth\n",
    "4) Perform a qualitative assessment of the responses using Claude-as-a-Judge"
   ]
  },
  {
   "cell_type": "code",
   "execution_count": null,
   "id": "ea6dd86c-115c-49b9-b112-548edf312d33",
   "metadata": {
    "tags": []
   },
   "outputs": [],
   "source": [
    "# install dependencies\n",
    "%pip install --force-reinstall -r requirements.txt"
   ]
  },
  {
   "cell_type": "code",
   "execution_count": 26,
   "id": "ba52a1c8-3b25-4bfa-bbff-5bbbd5de31c6",
   "metadata": {
    "tags": []
   },
   "outputs": [
    {
     "data": {
      "text/html": [
       "<script>Jupyter.notebook.kernel.restart()</script>"
      ]
     },
     "metadata": {},
     "output_type": "display_data"
    }
   ],
   "source": [
    "# restart kernel to ensure proper version of libraries is loaded\n",
    "from IPython.display import display_html\n",
    "def restartkernel() :\n",
    "    display_html(\"<script>Jupyter.notebook.kernel.restart()</script>\",raw=True)\n",
    "restartkernel()"
   ]
  },
  {
   "cell_type": "code",
   "execution_count": 27,
   "id": "6b6646c5-8ccf-4e0b-8ea8-0501c379d551",
   "metadata": {
    "tags": []
   },
   "outputs": [
    {
     "name": "stdout",
     "output_type": "stream",
     "text": [
      "awscli                    1.32.19\n",
      "boto3                     1.34.19\n",
      "botocore                  1.34.19\n",
      "langchain                 0.1.0\n",
      "langchain-community       0.0.18\n",
      "langchain-core            0.1.19\n",
      "langsmith                 0.0.83\n",
      "mypy-boto3-bedrock        1.34.0\n",
      "nltk                      3.8.1\n",
      "opensearch-py             2.4.2\n",
      "plotly                    5.9.0\n",
      "pypdf                     3.17.4\n",
      "python-dotenv             1.0.0\n",
      "requests-aws4auth         1.2.3\n",
      "sagemaker                 2.203.1\n",
      "tiktoken                  0.5.2\n",
      "xmltodict                 0.13.0\n",
      "\n",
      "\u001b[1m[\u001b[0m\u001b[34;49mnotice\u001b[0m\u001b[1;39;49m]\u001b[0m\u001b[39;49m A new release of pip is available: \u001b[0m\u001b[31;49m23.0.1\u001b[0m\u001b[39;49m -> \u001b[0m\u001b[32;49m24.0\u001b[0m\n",
      "\u001b[1m[\u001b[0m\u001b[34;49mnotice\u001b[0m\u001b[1;39;49m]\u001b[0m\u001b[39;49m To update, run: \u001b[0m\u001b[32;49mpip install --upgrade pip\u001b[0m\n"
     ]
    }
   ],
   "source": [
    "# review requirements.txt for reference if needed\n",
    "!pip list | grep -E \"awscli|boto3|botocore|langchain|langsmith|plotly|tiktoken|nltk|python-dotenv|xmltodict|requests-aws4auth|pypdf|opensearch-py|sagemaker\"\n"
   ]
  },
  {
   "cell_type": "code",
   "execution_count": 28,
   "id": "8e938c8c-5e0b-483c-9efd-84c7c9d4e3bf",
   "metadata": {
    "tags": []
   },
   "outputs": [],
   "source": [
    "# load environment variables \n",
    "import boto3\n",
    "import os\n",
    "import botocore\n",
    "from botocore.config import Config\n",
    "import langchain\n",
    "import sagemaker\n",
    "import pandas as pd\n",
    "\n",
    "from langchain.llms.bedrock import Bedrock\n",
    "from langchain.llms import SagemakerEndpoint\n",
    "from langchain.llms.sagemaker_endpoint import LLMContentHandler\n",
    "from typing import Dict\n",
    "\n",
    "import json\n",
    "import requests\n",
    "import csv\n",
    "import time\n",
    "import pandas as pd\n",
    "import nltk\n",
    "import sys\n",
    "\n",
    "from langchain.llms import Bedrock\n",
    "from dotenv import load_dotenv, find_dotenv\n",
    "\n",
    "# loading environment variables that are stored in local file dev.env\n",
    "load_dotenv(find_dotenv('dev.env'),override=True)\n",
    "\n",
    "session = sagemaker.Session()\n",
    "bucket = session.default_bucket()\n",
    "\n",
    "\n",
    "os.environ['OPENSEARCH_COLLECTION'] = os.getenv('OPENSEARCH_COLLECTION')\n",
    "\n",
    "os.environ['AWS_ACCESS_KEY'] = os.getenv('AWS_ACCESS_KEY')\n",
    "os.environ['AWS_SECRET_TOKEN'] = os.getenv('AWS_SECRET_TOKEN')\n",
    "os.environ['REGION'] = os.getenv('REGION')\n",
    "\n",
    "# optional for observability (more information at https://langsmith.com/)\n",
    "os.environ['LANGCHAIN_ENDPOINT'] = os.getenv('LANGCHAIN_ENDPOINT')\n",
    "os.environ['LANGCHAIN_API_KEY'] = os.getenv('LANGCHAIN_API_KEY')\n",
    "os.environ['LANGCHAIN_PROJECT'] = os.getenv('LANGCHAIN_PROJECT')\n",
    "os.environ['LANGCHAIN_TRACING_V2'] = os.getenv('LANGCHAIN_TRACING')\n",
    "os.environ[\"LANGCHAIN_TRACING\"]=\"false\"\n",
    "os.environ[\"LANGCHAIN_SESSION\"] = \"rag-system-eval\"\n",
    "\n",
    "# Initialize Bedrock runtime\n",
    "config = Config(\n",
    "   retries = {\n",
    "      'max_attempts': 8\n",
    "   }\n",
    ")\n",
    "bedrock_runtime = boto3.client(\n",
    "        service_name=\"bedrock-runtime\",\n",
    "        config=config\n",
    ")"
   ]
  },
  {
   "cell_type": "code",
   "execution_count": null,
   "id": "5631b6d9-51c0-4c52-9362-c68bdaf5b833",
   "metadata": {
    "tags": []
   },
   "outputs": [],
   "source": [
    "# verify that you have access to Bedrock models\n",
    "## if you don't have access, review https://us-east-1.console.aws.amazon.com/bedrock/home?region=us-east-1#/modelaccess\n",
    "\n",
    "bedrock_client = boto3.client(service_name=\"bedrock\")\n",
    "bedrock_client.list_foundation_models()"
   ]
  },
  {
   "cell_type": "markdown",
   "id": "aa5398b2-5e7a-44b8-bfe5-312ec7d7080f",
   "metadata": {
    "tags": []
   },
   "source": [
    "<img src=\"https://d3q8adh3y5sxpk.cloudfront.net/meetingrecordings/modelevaluation/Slide1.jpeg\" alt=\"LLM selection process\" width=\"900\" height=\"550\">"
   ]
  },
  {
   "cell_type": "markdown",
   "id": "11a50061-31f3-4116-a816-08567db79eb4",
   "metadata": {},
   "source": [
    "# 1) Quick short listing\n",
    "Based on the LLM capabilties select a dozen models for a small test "
   ]
  },
  {
   "cell_type": "markdown",
   "id": "b1cf738e-80bc-4876-9510-b6645e5e64a4",
   "metadata": {
    "tags": []
   },
   "source": [
    "<img src=\"https://d3q8adh3y5sxpk.cloudfront.net/meetingrecordings/modelevaluation/Slide2.jpeg\" alt=\"LLM capabilities\" width=\"900\" height=\"550\">"
   ]
  },
  {
   "cell_type": "markdown",
   "id": "8822f01a-500d-41cc-892b-7e6986351dde",
   "metadata": {
    "tags": []
   },
   "source": [
    "### For this example we selected 3 LLMs from Amazon Bedrock, each with unique properties and capabilities.\n",
    "1) Claude-V2\n",
    "2) Cohere Command\n",
    "3) Llama2 13B"
   ]
  },
  {
   "cell_type": "code",
   "execution_count": 30,
   "id": "c9f1edb6-2102-48a2-bede-ffabd3caa462",
   "metadata": {
    "tags": []
   },
   "outputs": [],
   "source": [
    "## 1a. Initialize llm01 = Claude-v2\n",
    "inference_modifier = {\n",
    "    \"max_tokens_to_sample\": 545,\n",
    "    \"temperature\": 0,\n",
    "    \"stop_sequences\": [\"\\n\\nHuman\"],\n",
    "}\n",
    "LLM_01_NAME= \"anthropic.claude-v2\"\n",
    "llm01 = Bedrock(\n",
    "    model_id=LLM_01_NAME,\n",
    "    model_kwargs=inference_modifier\n",
    ")"
   ]
  },
  {
   "cell_type": "code",
   "execution_count": 31,
   "id": "dce3d6e3-5e0e-47fb-9722-7efc63bbbcf9",
   "metadata": {
    "tags": []
   },
   "outputs": [],
   "source": [
    "## 1b. Initialize Cohere Command\n",
    "inference_modifier = { \n",
    "    \"max_tokens\": 545,\n",
    "    \"temperature\": 0,    \n",
    "}\n",
    "LLM_02_NAME= \"cohere.command-text-v14\"\n",
    "llm02 = Bedrock(\n",
    "    model_id=LLM_02_NAME,\n",
    "    model_kwargs=inference_modifier\n",
    ")"
   ]
  },
  {
   "cell_type": "code",
   "execution_count": 32,
   "id": "4f53f761-2470-4686-b9ac-0a2d3a96c1b0",
   "metadata": {
    "tags": []
   },
   "outputs": [],
   "source": [
    "## 1c. Initialize Llama\n",
    "inference_modifier = { \n",
    "    \"max_gen_len\": 545,\n",
    "    \"top_p\": 0.9, \n",
    "    \"temperature\": 0,    \n",
    "}\n",
    "LLM_03_NAME= \"meta.llama2-13b-chat-v1\"\n",
    "llm03 = Bedrock(\n",
    "    model_id=LLM_03_NAME,\n",
    "    model_kwargs=inference_modifier\n",
    ")"
   ]
  },
  {
   "cell_type": "code",
   "execution_count": 33,
   "id": "d4b8deba-3ad2-4fc1-8674-104440d4145e",
   "metadata": {
    "tags": []
   },
   "outputs": [
    {
     "name": "stdout",
     "output_type": "stream",
     "text": [
      "\u001b[1mInput:\u001b[0m\n",
      "\n",
      "    Amazon operates three main business segments: North America retail sales, International retail sales, and Amazon Web Services (\"AWS\"). \n",
      "\n",
      "    Risk Factors:\n",
      "    - Intense competition globally in all business areas - Amazon competes with various companies including physical retailers, e-commerce companies, technology companies, device makers, digital content creators, delivery/logistics providers, and more. \n",
      "    - International expansion brings regulatory, infrastructure, and operational risks. Amazon must comply with complex regulations abroad and faces limitations related to infrastructure, local business practices, laws, and legal liability.\n",
      "    - Demand fluctuation strains operations. Amazon's business sees seasonal sales spikes that test fulfillment capacity. Failure to meet demand can significantly impact sales.\n",
      "    - Reliance on sellers exposes Amazon to fraud risk. Amazon could face liability for seller violations of policies or fraud. \n",
      "    - Protecting IP is challenging. Amazon relies on IP protections globally but enforcement is difficult. Others claim Amazon infringes their IP rights through litigation. \n",
      "    - Foreign exchange fluctuations impact results. Amazon has extensive international operations and holds foreign cash, so currency changes affect financials.\n",
      "    - Rapid expansion strains resources. Adding employees, products/services and infrastructure complexity taxes Amazon's resources. \n",
      "    - Accounting requires estimates. Financial reporting relies on certain estimates that may prove incorrect over time.\n",
      "    - Competitive hiring is critical. Amazon needs to attract and retain technical and executive talent in a tight labor market.\n",
      "    - Acquisition integration is difficult. Adding companies brings risks during integration and may not meet financial expectations.\n",
      "    - Security threats bring business risk. Amazon faces cyber attacks and threats requiring ongoing security investments.\n",
      "    - Lawsuits and claims may arise. Amazon faces litigation, investigations, and other claims that could result in damages.\n",
      "\n",
      "    Key areas of investment: devices, digital content, international physical/digital retail expansion, AWS growth, advertising, supply chain, and emerging areas like autonomous vehicles.\n",
      "\n",
      "    Given the above information, answer the following question:\n",
      "    What are the three main business units of the company?\n",
      "\n",
      "\u001b[1mBedrock\u001b[0m\n",
      "Params: {}\n",
      "\u001b[36;1m\u001b[1;3m Based on the information provided, the three main business units of Amazon are:\n",
      "\n",
      "1. North America retail sales\n",
      "2. International retail sales  \n",
      "3. Amazon Web Services (AWS)\u001b[0m\n",
      "\n",
      "\u001b[1mBedrock\u001b[0m\n",
      "Params: {}\n",
      "\u001b[33;1m\u001b[1;3m The answer is Amazon's business is divided into three main segments:\n",
      "1. North America retail sales: This segment includes the company's online and physical retail operations in the United States and Canada. It generates revenue through the sale of various products, including electronics, books, clothing, furniture, and other items.\n",
      "2. International retail sales: This segment involves the company's retail operations outside of North America, including Europe, Asia, and other international markets. It offers various products and services to customers in these regions.\n",
      "3. Amazon Web Services (AWS): This segment provides on-demand cloud computing services to individuals, businesses, and governments. It offers a wide range of services, including infrastructure as a service (IaaS), platform as a service (PaaS), and software as a service (SaaS) solutions.\n",
      "\n",
      "These three segments represent the company's primary areas of operation and contribute to its overall business activities.\u001b[0m\n",
      "\n",
      "\u001b[1mBedrock\u001b[0m\n",
      "Params: {}\n",
      "\u001b[38;5;200m\u001b[1;3m\n",
      "\n",
      "    Based on the information provided, the three main business units of Amazon are:\n",
      "\n",
      "1. North America retail sales\n",
      "2. International retail sales\n",
      "3. Amazon Web Services (AWS)\u001b[0m\n",
      "\n",
      "\u001b[1mInput:\u001b[0m\n",
      "\n",
      "    Amazon operates three main business segments: North America retail sales, International retail sales, and Amazon Web Services (\"AWS\"). \n",
      "\n",
      "    Risk Factors:\n",
      "    - Intense competition globally in all business areas - Amazon competes with various companies including physical retailers, e-commerce companies, technology companies, device makers, digital content creators, delivery/logistics providers, and more. \n",
      "    - International expansion brings regulatory, infrastructure, and operational risks. Amazon must comply with complex regulations abroad and faces limitations related to infrastructure, local business practices, laws, and legal liability.\n",
      "    - Demand fluctuation strains operations. Amazon's business sees seasonal sales spikes that test fulfillment capacity. Failure to meet demand can significantly impact sales.\n",
      "    - Reliance on sellers exposes Amazon to fraud risk. Amazon could face liability for seller violations of policies or fraud. \n",
      "    - Protecting IP is challenging. Amazon relies on IP protections globally but enforcement is difficult. Others claim Amazon infringes their IP rights through litigation. \n",
      "    - Foreign exchange fluctuations impact results. Amazon has extensive international operations and holds foreign cash, so currency changes affect financials.\n",
      "    - Rapid expansion strains resources. Adding employees, products/services and infrastructure complexity taxes Amazon's resources. \n",
      "    - Accounting requires estimates. Financial reporting relies on certain estimates that may prove incorrect over time.\n",
      "    - Competitive hiring is critical. Amazon needs to attract and retain technical and executive talent in a tight labor market.\n",
      "    - Acquisition integration is difficult. Adding companies brings risks during integration and may not meet financial expectations.\n",
      "    - Security threats bring business risk. Amazon faces cyber attacks and threats requiring ongoing security investments.\n",
      "    - Lawsuits and claims may arise. Amazon faces litigation, investigations, and other claims that could result in damages.\n",
      "\n",
      "    Key areas of investment: devices, digital content, international physical/digital retail expansion, AWS growth, advertising, supply chain, and emerging areas like autonomous vehicles.\n",
      "\n",
      "    Given the above information, answer the following question:\n",
      "    What were the company's key areas of investment?\n",
      "\n",
      "\u001b[1mBedrock\u001b[0m\n",
      "Params: {}\n",
      "\u001b[36;1m\u001b[1;3m Based on the information provided, Amazon's key areas of investment were:\n",
      "\n",
      "- Devices - Amazon invests in developing and selling electronic devices like Kindle e-readers, Fire tablets, Echo smart speakers, and Ring home security products.\n",
      "\n",
      "- Digital content - Amazon invests in digital content like movies, TV shows, music, books, magazines, and apps for its Prime members and Amazon digital content stores.\n",
      "\n",
      "- International physical/digital retail expansion - Amazon invests to grow its retail operations globally, both physical stores and e-commerce sites. \n",
      "\n",
      "- AWS growth - Amazon Web Services is a high growth business segment and receives significant investment.\n",
      "\n",
      "- Advertising - Amazon is investing in building its advertising business on its websites.\n",
      "\n",
      "- Supply chain/logistics - Amazon invests heavily in fulfillment centers, transportation, and delivery capabilities. \n",
      "\n",
      "- Emerging areas like autonomous vehicles - Amazon invests in R&D for emerging technologies like self-driving vehicles.\u001b[0m\n",
      "\n",
      "\u001b[1mBedrock\u001b[0m\n",
      "Params: {}\n",
      "\u001b[33;1m\u001b[1;3m The key areas of investment for Amazon are:\n",
      "\n",
      "1. Devices: This includes Amazon's line of consumer electronics, such as Echo smart speakers, Kindle e-readers, and Fire TV streaming devices.\n",
      "\n",
      "2. Digital Content: This refers to Amazon's investments in digital media content, such as movies, TV shows, music, and video games. It also includes the company's efforts to expand its Prime Video streaming service and its Audible audiobook platform.\n",
      "\n",
      "3. International Retail Expansion: Amazon is investing in expanding its physical retail presence, particularly in international markets. This includes opening new Amazon stores, such as Amazon Go cashierless convenience stores and Whole Foods Market grocery stores, outside the US.\n",
      "\n",
      "4. AWS Growth: Amazon Web Services (AWS) is a cloud computing division that provides infrastructure as a service, platform as a service, and other cloud-based offerings. Amazon aims to expand its market share in the cloud services industry through investments in data center infrastructure and new services.\n",
      "\n",
      "5. Advertising: Amazon has been investing in its advertising business, offering targeted advertising solutions to businesses and brands that want to reach its vast customer base.\n",
      "\n",
      "6. Supply Chain: Amazon's supply chain is a critical part of its business, and the company continues to invest in optimizing its logistics and delivery networks. This includes expanding its fulfillment centers, delivery stations, and transportation capabilities.\n",
      "\n",
      "7. Emerging Areas: Amazon is also investing in emerging technologies and markets, such as autonomous vehicles, artificial intelligence, and the Internet of Things (IoT).\n",
      "\n",
      "These areas of investment reflect Amazon's strategy to diversify its business and expand its presence in various sectors, including e-commerce, digital media, cloud computing, and technology.\u001b[0m\n",
      "\n",
      "\u001b[1mBedrock\u001b[0m\n",
      "Params: {}\n",
      "\u001b[38;5;200m\u001b[1;3m\n",
      "\n",
      "    Based on the information provided, the company's key areas of investment are:\n",
      "\n",
      "    - Devices\n",
      "    - Digital content\n",
      "    - International physical/digital retail expansion\n",
      "    - AWS growth\n",
      "    - Advertising\n",
      "    - Supply chain\n",
      "    - Emerging areas like autonomous vehicles.\u001b[0m\n",
      "\n",
      "\u001b[1mInput:\u001b[0m\n",
      "\n",
      "    Amazon operates three main business segments: North America retail sales, International retail sales, and Amazon Web Services (\"AWS\"). \n",
      "\n",
      "    Risk Factors:\n",
      "    - Intense competition globally in all business areas - Amazon competes with various companies including physical retailers, e-commerce companies, technology companies, device makers, digital content creators, delivery/logistics providers, and more. \n",
      "    - International expansion brings regulatory, infrastructure, and operational risks. Amazon must comply with complex regulations abroad and faces limitations related to infrastructure, local business practices, laws, and legal liability.\n",
      "    - Demand fluctuation strains operations. Amazon's business sees seasonal sales spikes that test fulfillment capacity. Failure to meet demand can significantly impact sales.\n",
      "    - Reliance on sellers exposes Amazon to fraud risk. Amazon could face liability for seller violations of policies or fraud. \n",
      "    - Protecting IP is challenging. Amazon relies on IP protections globally but enforcement is difficult. Others claim Amazon infringes their IP rights through litigation. \n",
      "    - Foreign exchange fluctuations impact results. Amazon has extensive international operations and holds foreign cash, so currency changes affect financials.\n",
      "    - Rapid expansion strains resources. Adding employees, products/services and infrastructure complexity taxes Amazon's resources. \n",
      "    - Accounting requires estimates. Financial reporting relies on certain estimates that may prove incorrect over time.\n",
      "    - Competitive hiring is critical. Amazon needs to attract and retain technical and executive talent in a tight labor market.\n",
      "    - Acquisition integration is difficult. Adding companies brings risks during integration and may not meet financial expectations.\n",
      "    - Security threats bring business risk. Amazon faces cyber attacks and threats requiring ongoing security investments.\n",
      "    - Lawsuits and claims may arise. Amazon faces litigation, investigations, and other claims that could result in damages.\n",
      "\n",
      "    Key areas of investment: devices, digital content, international physical/digital retail expansion, AWS growth, advertising, supply chain, and emerging areas like autonomous vehicles.\n",
      "\n",
      "    Given the above information, answer the following question:\n",
      "    What is the single most important risk the company faces in the next year?\n",
      "\n",
      "\u001b[1mBedrock\u001b[0m\n",
      "Params: {}\n",
      "\u001b[36;1m\u001b[1;3m Based on the risk factors outlined, I would say that Amazon's most important risk in the next year is likely the intense competition the company faces globally in all of its business segments. \n",
      "\n",
      "Amazon operates in highly competitive markets, competing with physical retailers, e-commerce companies, technology companies, delivery providers, digital content creators, and more. As a result, Amazon faces significant competitive pressures across its key business areas that could negatively impact sales, market share, and profitability. Maintaining competitiveness against this diverse set of rivals across retail, technology, logistics, and content will be critical to Amazon's continued growth and success.\n",
      "\n",
      "Other risks like seasonal demand fluctuations, reliance on third-party sellers, foreign exchange impacts, and strains on resources are important challenges as well. However, the breadth and intensity of competition Amazon faces across its entire business makes this the most crucial risk factor for the company to manage in the next year. Navigating an extremely competitive landscape across both its core retail operations as well as high-growth areas like AWS will likely be Amazon's biggest priority and challenge.\u001b[0m\n",
      "\n",
      "\u001b[1mBedrock\u001b[0m\n",
      "Params: {}\n",
      "\u001b[33;1m\u001b[1;3m Based on the information provided, the company Amazon faces a multitude of risks, but the most significant one in the next year could be the risk of demand fluctuation. \n",
      "\n",
      "The risk of demand fluctuation is a major concern for Amazon because the company's business model is heavily reliant on meeting consumer demand effectively. The company's operations are tested during seasonal sales spikes, and failure to meet demand can significantly impact sales and customer satisfaction.\n",
      "\n",
      "Additionally, the company's heavy reliance on its sellers exposes Amazon to fraud and quality risks. A significant portion of Amazon's business is built on its brand reputation for quality and reliability. If the products sold on its platform do not meet customer expectations, this can negatively impact Amazon's brand image and financial performance.\n",
      "\n",
      "Furthermore, the impact of demand fluctuation is exacerbated by the company's international operations. As Amazon expands abroad, it faces additional challenges in meeting demand due to infrastructure limitations, local regulations, and legal liability. This makes it more difficult for Amazon to manage its supply chain effectively and ensure that demand is met across all markets.\n",
      "\n",
      "To mitigate these risks, Amazon should focus on improving its forecasting and demand planning processes. Investing in technology and data analytics can help the company better understand consumer behavior and optimize its inventory management. Additionally, Amazon should continue to strengthen its relationships with sellers and focus on strict quality control measures to ensure that products sold on its platform meet high standards. \n",
      "\n",
      "By addressing these key areas of risk, Amazon can better prepare for fluctuations in demand and maintain its position as a trusted and reliable marketplace for both customers and sellers.\u001b[0m\n",
      "\n",
      "\u001b[1mBedrock\u001b[0m\n",
      "Params: {}\n",
      "\u001b[38;5;200m\u001b[1;3m\n",
      "\n",
      "    Based on the information provided, the single most important risk the company faces in the next year is:\n",
      "\n",
      "    Competition.\n",
      "\n",
      "    Amazon faces intense competition globally in all business areas, and this risk is likely to continue to be a major challenge for the company in the next year. The company must continue to innovate and differentiate itself from its competitors in order to maintain its market position and growth.\u001b[0m\n",
      "\n"
     ]
    }
   ],
   "source": [
    "# 1d. Start with a simple example - no prompt template or RAG, just passing the prompts below directly into the LLMs\n",
    "from langchain import LLMChain, HuggingFaceHub, Prompt\n",
    "from langchain.model_laboratory import ModelLaboratory\n",
    "\n",
    "llms = [\n",
    "    llm01,\n",
    "    llm02,\n",
    "    llm03\n",
    "]\n",
    "\n",
    "test_prompts = [ \"What are the three main business units of the company?\",\n",
    "    \"What were the company's key areas of investment?\",\n",
    "    \"What is the single most important risk the company faces in the next year?\"]\n",
    "\n",
    "model_lab = ModelLaboratory.from_llms(llms)\n",
    "\n",
    "for question in test_prompts:\n",
    "    prompt = f\"\"\"\n",
    "    Amazon operates three main business segments: North America retail sales, International retail sales, and Amazon Web Services (\"AWS\"). \n",
    "\n",
    "    Risk Factors:\n",
    "    - Intense competition globally in all business areas - Amazon competes with various companies including physical retailers, e-commerce companies, technology companies, device makers, digital content creators, delivery/logistics providers, and more. \n",
    "    - International expansion brings regulatory, infrastructure, and operational risks. Amazon must comply with complex regulations abroad and faces limitations related to infrastructure, local business practices, laws, and legal liability.\n",
    "    - Demand fluctuation strains operations. Amazon's business sees seasonal sales spikes that test fulfillment capacity. Failure to meet demand can significantly impact sales.\n",
    "    - Reliance on sellers exposes Amazon to fraud risk. Amazon could face liability for seller violations of policies or fraud. \n",
    "    - Protecting IP is challenging. Amazon relies on IP protections globally but enforcement is difficult. Others claim Amazon infringes their IP rights through litigation. \n",
    "    - Foreign exchange fluctuations impact results. Amazon has extensive international operations and holds foreign cash, so currency changes affect financials.\n",
    "    - Rapid expansion strains resources. Adding employees, products/services and infrastructure complexity taxes Amazon's resources. \n",
    "    - Accounting requires estimates. Financial reporting relies on certain estimates that may prove incorrect over time.\n",
    "    - Competitive hiring is critical. Amazon needs to attract and retain technical and executive talent in a tight labor market.\n",
    "    - Acquisition integration is difficult. Adding companies brings risks during integration and may not meet financial expectations.\n",
    "    - Security threats bring business risk. Amazon faces cyber attacks and threats requiring ongoing security investments.\n",
    "    - Lawsuits and claims may arise. Amazon faces litigation, investigations, and other claims that could result in damages.\n",
    "\n",
    "    Key areas of investment: devices, digital content, international physical/digital retail expansion, AWS growth, advertising, supply chain, and emerging areas like autonomous vehicles.\n",
    "\n",
    "    Given the above information, answer the following question:\n",
    "    \"\"\" + question\n",
    "    \n",
    "    model_lab.compare(prompt)"
   ]
  },
  {
   "cell_type": "markdown",
   "id": "dbbb541a-73b8-43d4-8d26-64e5c0145ea0",
   "metadata": {},
   "source": [
    "If you are looking for a no-code option to compare prompts, please refer to SageMaker Canvas (https://aws.amazon.com/about-aws/whats-new/2023/10/amazon-sagemaker-canvas-content-information-extraction/), which provides a UI to easily compare different LLMs and their respective outoutput visually."
   ]
  },
  {
   "cell_type": "markdown",
   "id": "c4ad89dc-8071-4f1c-97b0-71b4cefb349e",
   "metadata": {},
   "source": [
    "# 2) use case specific benchmark\n",
    "\n",
    "Now after quickly testing the shortlisted LLMs, let's take the top 3 LLMs based on our initial results and LLM capabilities and perform a use case specific benchmark."
   ]
  },
  {
   "cell_type": "markdown",
   "id": "5ae175dc-9e2c-4003-bd0d-42c0a5fc6f42",
   "metadata": {
    "tags": []
   },
   "source": [
    "<img src=\"https://d3q8adh3y5sxpk.cloudfront.net/meetingrecordings/modelevaluation/Slide3.jpeg\" alt=\"GeneratePrompts\" width=\"900\" height=\"550\">"
   ]
  },
  {
   "cell_type": "markdown",
   "id": "d26bf212-5755-43ef-b5b6-ebfa3d73213d",
   "metadata": {},
   "source": [
    "For our use case we happen to have labeled ground truth data which we can use for our test. Thus we can leverage classic ML-metrics to evaluate the performance of the different LLM pipelines."
   ]
  },
  {
   "cell_type": "code",
   "execution_count": 35,
   "id": "60611855-58f1-4568-b250-88ed113262e2",
   "metadata": {
    "tags": []
   },
   "outputs": [
    {
     "name": "stdout",
     "output_type": "stream",
     "text": [
      "{'prompt': \"Who is Amazon's Senior Vice President and General Counsel?\", 'context': 'Available Information\\nOur investor relations website is amazon.com/ir and we encourage investors to use it as a way of easily finding information about us. We promptly make available on this website, free of charge, the reports that we file or furnish with the Securities and Exchange Commission (â\\x80\\x9cSECâ\\x80\\x9d), corporate governance information (including our Code of Business Conduct and Ethics), and select press releases.\\nExecutive Officers and Directors\\nThe following tables set forth certain information regarding our Executive Officers and Directors as of January 25, 2023:\\nInformation About Our Executive Officers\\nName Age Position\\nJeffrey P. Bezos. Mr. Bezos founded Amazon.com in 1994 and has served as Executive Chair since July 2021. He has served as Chair of the Board since 1994 and served as Chief Executive Officer from May 1996 until July 2021, and as President from 1994 until June 1999 and again from October 2000 to July 2021.\\nAndrew R. Jassy. Mr. Jassy has served as President and Chief Executive Officer since July 2021, CEO Amazon Web Services from April 2016 until July 2021, and Senior Vice President, Amazon Web Services, from April 2006 until April 2016.\\nDouglas J. Herrington. Mr. Herrington has served as CEO Worldwide Amazon Stores since July 2022, Senior Vice President, North America Consumer from January 2015 to July 2022, and Senior Vice President, Consumables from May 2014 to December 2014.\\nBrian T. Olsavsky. Mr. Olsavsky has served as Senior Vice President and Chief Financial Officer since June 2015, Vice President, Finance for the Global Consumer Business from December 2011 to June 2015, and numerous financial leadership roles across Amazon with global responsibility since April 2002.\\nShelley L. Reynolds. Ms. Reynolds has served as Vice President, Worldwide Controller, and Principal Accounting Officer since April 2007.\\nAdam N. Selipsky. Mr. Selipsky has served as CEO Amazon Web Services since July 2021, Senior Vice President, Amazon Web Services from May 2021 until July 2021, President and CEO of Tableau Software from September 2016 until May 2021, and Vice President, Marketing, Sales and Support of Amazon Web Services from May 2005 to September 2016.\\nDavid A. Zapolsky. Mr. Zapolsky has served as Senior Vice President, General Counsel, and Secretary since May 2014, Vice President, General Counsel, and Secretary from September 2012 to May 2014, and as Vice President and Associate General Counsel for Litigation and Regulatory matters from April 2002 until September 2012.\\n5\\nJeffrey P. Bezos\\nAndrew R. Jassy\\nDouglas J. Herrington\\nBrian T. Olsavsky\\nShelley L. Reynolds\\nAdam N. Selipsky\\nDavid A. Zapolsky\\n59\\n55\\n56\\n59\\n58\\n56\\n59\\nExecutive Chair\\nPresident and Chief Executive Officer\\nCEO Worldwide Amazon Stores\\nSenior Vice President and Chief Financial Officer\\nVice President, Worldwide Controller, and Principal Accounting Officer\\nCEO Amazon Web Services\\nSenior Vice President, General Counsel, and Secretary', 'output': 'David A. Zapolsky is the Senior Vice President, General Counsel and Secretary', 'evaluationmetric': 'Accuracy'}\n"
     ]
    }
   ],
   "source": [
    "## 2a. download ground truth dataset and insert into promptcatalog\n",
    "import xmltodict\n",
    "url = 'https://d3q8adh3y5sxpk.cloudfront.net/rageval/qsdata_20.xml'\n",
    "\n",
    "# Send an HTTP GET request to download the file\n",
    "response = requests.get(url)\n",
    "\n",
    "# Check if the request was successful (HTTP status code 200)\n",
    "if response.status_code == 200:        \n",
    "    xml_data = xmltodict.parse(response.text)\n",
    "    \n",
    "# Convert the dictionary to a Pandas DataFrame\n",
    "qa_dataset = pd.DataFrame(xml_data['data']['records'])\n",
    "\n",
    "table_name = 'promptcatalog'\n",
    "prompts = []\n",
    "for row in qa_dataset.itertuples():\n",
    "    item = {\n",
    "        'prompt': str(row[1]['Question']),\n",
    "        'context': str(row[1]['Context']),\n",
    "        'output': str(row[1]['Answer']['question_answer']),\n",
    "        'evaluationmetric': 'Accuracy'\n",
    "    }\n",
    "    prompts.append(item)\n",
    "\n",
    "# example prompt\n",
    "print(prompts[0])"
   ]
  },
  {
   "cell_type": "code",
   "execution_count": 36,
   "id": "11ce0eb2-08e4-4819-8959-f0cbada7ed66",
   "metadata": {},
   "outputs": [],
   "source": [
    "## 2b. download context / Amazon annual report\n",
    "import numpy as np\n",
    "import pypdf\n",
    "from langchain.text_splitter import CharacterTextSplitter, TokenTextSplitter, RecursiveCharacterTextSplitter\n",
    "from langchain.document_loaders import PyPDFLoader, PyPDFDirectoryLoader\n",
    "from urllib.request import urlretrieve\n",
    "\n",
    "os.makedirs(\"data\", exist_ok=True)\n",
    "files = [ \"https://d3q8adh3y5sxpk.cloudfront.net/rageval/AMZN-2023-10k.pdf\"]\n",
    "for url in files:\n",
    "    file_path = os.path.join(\"data\", url.rpartition(\"/\")[2])\n",
    "    urlretrieve(url, file_path)\n",
    "    \n",
    "\n",
    "loader = PyPDFDirectoryLoader(\"./data/\")\n",
    "documents = loader.load()"
   ]
  },
  {
   "cell_type": "code",
   "execution_count": 37,
   "id": "1785eafa-b98f-4530-9ce2-cd3728ec1cef",
   "metadata": {
    "tags": []
   },
   "outputs": [
    {
     "name": "stdout",
     "output_type": "stream",
     "text": [
      "TokenTextSplitter split documents in to 354 chunks.\n",
      "\n"
     ]
    }
   ],
   "source": [
    "## 2c. Split documents into smaller chunks \n",
    "### Compare results/impact of Character split and TokenTextSplitter\n",
    "\n",
    "token_text_splitter = TokenTextSplitter(chunk_size=500, chunk_overlap=100)\n",
    "#char_text_splitter = RecursiveCharacterTextSplitter(chunk_size=500, chunk_overlap=100)\n",
    "\n",
    "token_text_list = token_text_splitter.split_documents(documents)\n",
    "#char_text_list = char_text_splitter.split_documents(documents)\n",
    "    \n",
    "print(\"TokenTextSplitter split documents in to \" + str(len(token_text_list)) + \" chunks.\\n\")\n",
    "#print(\"CharacterTextSplitter split documents in to \" + str(len(char_text_list)) + \" chunks.\\n\")"
   ]
  },
  {
   "cell_type": "code",
   "execution_count": 38,
   "id": "4cd547b4-0ac3-4db5-a67e-02cae4bd150c",
   "metadata": {
    "tags": []
   },
   "outputs": [
    {
     "name": "stdout",
     "output_type": "stream",
     "text": [
      "aospy client:<OpenSearch([{'host': 'lx0j8y3mu9ht6r5xv7za.us-east-1.aoss.amazonaws.com', 'port': 443}])>\n"
     ]
    }
   ],
   "source": [
    "## 2d. create vector store (OpenSearch Serverless)\n",
    "### Connect to OpenSearchServerless\n",
    "import time\n",
    "from opensearchpy import OpenSearch, RequestsHttpConnection, AWSV4SignerAuth\n",
    "\n",
    "host = os.environ['OPENSEARCH_COLLECTION']  # serverless collection endpoint, without https://\n",
    "region = os.environ['REGION']  # e.g. us-east-1\n",
    "\n",
    "service = 'aoss'\n",
    "credentials = boto3.Session().get_credentials()\n",
    "auth = AWSV4SignerAuth(credentials, region, service)\n",
    "\n",
    "# create vector database (OpenSearch Serverless) if it does not exist yet\n",
    "if host == '':\n",
    "    print('creating collection')\n",
    "    vector_store_name = 'rag-eval'\n",
    "    encryption_policy_name = \"rag-eval-ep\"\n",
    "    network_policy_name = \"rag-eval-np\"\n",
    "    access_policy_name = 'rag-eval-ap'\n",
    "    identity = boto3.client('sts').get_caller_identity()['Arn']\n",
    "\n",
    "    aoss_client = boto3.client('opensearchserverless')\n",
    "\n",
    "    security_policy = aoss_client.create_security_policy(\n",
    "        name = encryption_policy_name,\n",
    "        policy = json.dumps(\n",
    "            {\n",
    "                'Rules': [{'Resource': ['collection/' + vector_store_name],\n",
    "                'ResourceType': 'collection'}],\n",
    "                'AWSOwnedKey': True\n",
    "            }),\n",
    "        type = 'encryption'\n",
    "    )\n",
    "\n",
    "    network_policy = aoss_client.create_security_policy(\n",
    "        name = network_policy_name,\n",
    "        policy = json.dumps(\n",
    "            [\n",
    "                {'Rules': [{'Resource': ['collection/' + vector_store_name],\n",
    "                'ResourceType': 'collection'}],\n",
    "                'AllowFromPublic': True}\n",
    "            ]),\n",
    "        type = 'network'\n",
    "    )\n",
    "\n",
    "    collection = aoss_client.create_collection(name=vector_store_name,type='VECTORSEARCH')\n",
    "\n",
    "    while True:\n",
    "        status = aoss_client.list_collections(collectionFilters={'name':vector_store_name})['collectionSummaries'][0]['status']\n",
    "        if status in ('ACTIVE', 'FAILED'): \n",
    "            print(f'new collection {vector_store_name} created')\n",
    "            break\n",
    "        time.sleep(10)\n",
    "\n",
    "    access_policy = aoss_client.create_access_policy(\n",
    "        name = access_policy_name,\n",
    "        policy = json.dumps(\n",
    "            [\n",
    "                {\n",
    "                    'Rules': [\n",
    "                        {\n",
    "                            'Resource': ['collection/' + vector_store_name],\n",
    "                            'Permission': [\n",
    "                                'aoss:CreateCollectionItems',\n",
    "                                'aoss:DeleteCollectionItems',\n",
    "                                'aoss:UpdateCollectionItems',\n",
    "                                'aoss:DescribeCollectionItems'],\n",
    "                            'ResourceType': 'collection'\n",
    "                        },\n",
    "                        {\n",
    "                            'Resource': ['index/' + vector_store_name + '/*'],\n",
    "                            'Permission': [\n",
    "                                'aoss:CreateIndex',\n",
    "                                'aoss:DeleteIndex',\n",
    "                                'aoss:UpdateIndex',\n",
    "                                'aoss:DescribeIndex',\n",
    "                                'aoss:ReadDocument',\n",
    "                                'aoss:WriteDocument'],\n",
    "                            'ResourceType': 'index'\n",
    "                        }],\n",
    "                    'Principal': [identity],\n",
    "                    'Description': 'Easy data policy'}\n",
    "            ]),\n",
    "        type = 'data'\n",
    "    )\n",
    "\n",
    "    host = collection['createCollectionDetail']['id'] + '.' + os.environ.get(\"AWS_DEFAULT_REGION\", None) + '.aoss.amazonaws.com:443'\n",
    "    host = host.split(\":\")[0]\n",
    "    print(f'new aoss host: {host}')\n",
    "\n",
    "aospy_client = OpenSearch(\n",
    "    hosts=[{'host': host, 'port': 443}],\n",
    "    http_auth=auth,\n",
    "    use_ssl=True,\n",
    "    verify_certs=True,\n",
    "    connection_class=RequestsHttpConnection,\n",
    "    pool_maxsize=20,\n",
    ")\n",
    "print(f'aospy client:{aospy_client}')"
   ]
  },
  {
   "cell_type": "code",
   "execution_count": 39,
   "id": "51156bab-2265-4bae-9783-543b4fcf7cb9",
   "metadata": {
    "tags": []
   },
   "outputs": [],
   "source": [
    "## 2e. Create in Amazon Opensearch Service vector index for langchain\n",
    "\n",
    "knn_index = {\n",
    "    \"settings\": {\n",
    "        \"index.knn\": True,\n",
    "        \n",
    "    },\n",
    "    \"mappings\": {\n",
    "        \"properties\": {\n",
    "            \"vector_field\": {\n",
    "                \"type\": \"knn_vector\",\n",
    "                \"dimension\": 1536,\n",
    "                \"store\": True\n",
    "            },\n",
    "            \"text\": {\n",
    "                \"type\": \"text\",\n",
    "                \"store\": True\n",
    "            },\n",
    "        }\n",
    "    }\n",
    "}\n",
    "\n",
    "index_name = \"rag-system-eval\"\n",
    "try:\n",
    "    aospy_client.indices.delete(index=index_name)\n",
    "    aospy_client.indices.create(index=index_name,body=knn_index,ignore=400)\n",
    "    aospy_client.indices.get(index=index_name)\n",
    "except:\n",
    "    print(f'Index {index_name} not found. Creating index on OpenSearch.')\n",
    "    aospy_client.indices.create(index=index_name,body=knn_index)\n",
    "    aospy_client.indices.get(index=index_name)"
   ]
  },
  {
   "cell_type": "code",
   "execution_count": 40,
   "id": "7a6c203c-496f-4d2d-9d3c-420ba8979e06",
   "metadata": {
    "tags": []
   },
   "outputs": [],
   "source": [
    "## 2f. Use Titan Embeddings Model to generate embeddings\n",
    "\n",
    "from langchain.embeddings import BedrockEmbeddings\n",
    "from langchain.llms.bedrock import Bedrock\n",
    "\n",
    "bedrock_embeddings = BedrockEmbeddings(client=bedrock_runtime)"
   ]
  },
  {
   "cell_type": "code",
   "execution_count": 41,
   "id": "3efa7f74-9dfa-498c-bbbf-82d5e2dcb7ea",
   "metadata": {
    "tags": []
   },
   "outputs": [],
   "source": [
    "## 2g.Insert embeddings into OpenSearch index\n",
    "### For Serverless, please note is_aoss=True setting\n",
    "\n",
    "from langchain.vectorstores import OpenSearchVectorSearch\n",
    "\n",
    "full_opensearch_endpoint = 'https://' + os.environ['OPENSEARCH_COLLECTION']\n",
    "\n",
    "vector_store=OpenSearchVectorSearch.from_documents(\n",
    "        index_name = index_name,\n",
    "        documents=token_text_list,\n",
    "        embedding=bedrock_embeddings,\n",
    "        opensearch_url=full_opensearch_endpoint,\n",
    "        http_auth=auth,\n",
    "        use_ssl=True,\n",
    "        verify_certs=True,\n",
    "        connection_class=RequestsHttpConnection,\n",
    "        timeout=60*3,\n",
    "        bulk_size=1000,\n",
    "        is_aoss=True\n",
    "    )\n",
    "retriever = vector_store.as_retriever()"
   ]
  },
  {
   "cell_type": "code",
   "execution_count": 50,
   "id": "8c56ef3c-a780-4ecf-856f-d8c5ab5f1f9f",
   "metadata": {
    "tags": []
   },
   "outputs": [
    {
     "name": "stdout",
     "output_type": "stream",
     "text": [
      "Records found: 0.\n"
     ]
    }
   ],
   "source": [
    "## 2h. validate load\n",
    "res = aospy_client.search(index=index_name, body={\"query\": {\"match_all\": {}}})\n",
    "print(\"Records found: %d.\" % res['hits']['total']['value'])"
   ]
  },
  {
   "cell_type": "code",
   "execution_count": 51,
   "id": "5292f998-cb7d-408f-8942-f5bba5700a31",
   "metadata": {
    "tags": []
   },
   "outputs": [],
   "source": [
    "## 2i. Helper function to retrieve specify specific LLM and Prompt Template\n",
    "from langchain.chains import RetrievalQA\n",
    "from langchain.prompts import PromptTemplate\n",
    "\n",
    "def retrieve_model_qa_response(target_llm, input_prompt, return_source, query):\n",
    "    qa = RetrievalQA.from_chain_type(\n",
    "            llm=target_llm,\n",
    "            chain_type=\"stuff\",\n",
    "            retriever=retriever,\n",
    "            return_source_documents=return_source,\n",
    "            chain_type_kwargs = {\"prompt\": input_prompt}\n",
    "        ).invoke(query)\n",
    "    return qa\n",
    "\n",
    "### Claude prompt template\n",
    "prompt_template_claude_1 = \"\"\"\n",
    "        Human: \n",
    "        You are a helpful, respectful, and honest assistant, dedicated to providing valuable and accurate information.\n",
    "\n",
    "        Assistant:\n",
    "        Understood. I will provide information based on the context given, without relying on prior knowledge.\n",
    "\n",
    "        Human:\n",
    "        If you don't see answer in the context just reply \"not available\" in XML tags.\n",
    "\n",
    "        Assistant:\n",
    "        Noted. I will respond with \"not available\" if the information is not available in the context.\n",
    "\n",
    "        Human:\n",
    "        Now read this context and answer the question and return the answer inside <question_answer></question_answer> XML tags. \n",
    "        {context}\n",
    "\n",
    "        Assistant:\n",
    "        Based on the provided context above and information from the retriever source, I will provide the answer in  and return it inside <question_answer></question_answer> XML tags to the below question\n",
    "        {question}\n",
    "        \"\"\"\n",
    "\n",
    "PROMPT_CLAUDE_1 = PromptTemplate(\n",
    "    template=prompt_template_claude_1, input_variables=[\"question\", \"context\"]\n",
    ")\n",
    "\n",
    "### Llama2 prompt template\n",
    "prompt_template_llama_1 = \"\"\"\n",
    "        [INST]\n",
    "        You are a helpful, respectful, and honest assistant, dedicated to providing valuable and accurate information.\n",
    "        [/INST]\n",
    "\n",
    "        Understood. I will provide information based on the context given, without relying on prior knowledge.\n",
    "\n",
    "        [INST]\n",
    "        If you don't see answer in the context just reply \"not available\" in XML tags.\n",
    "        [/INST]\n",
    "\n",
    "        Noted. I will respond with \"not available\" if the information is not available in the context.\n",
    "\n",
    "        [INST]\n",
    "        Now read this context and answer the question and return the answer inside <question_answer></question_answer> XML tags. \n",
    "        {context}\n",
    "        [/INST]\n",
    "\n",
    "        Based on the provided context above and information from the retriever source, I will provide the answer in  and return it inside <question_answer></question_answer> XML tags to the below question\n",
    "        {question}\n",
    "        \"\"\"\n",
    "PROMPT_LLAMA_1 = PromptTemplate(\n",
    "    template=prompt_template_llama_1, input_variables=[\"question\", \"context\"]\n",
    ")\n",
    "\n",
    "\n",
    "### Cohere Command prompt template\n",
    "prompt_template_command_1 = \"\"\"\n",
    "        Human: \n",
    "        You are a helpful, respectful, and honest assistant, dedicated to providing valuable and accurate information.\n",
    "\n",
    "        Assistant:\n",
    "        Understood. I will provide information based on the context given, without relying on prior knowledge.\n",
    "\n",
    "        Human:\n",
    "        If you don't see answer in the context just reply \"not available\" in XML tags.\n",
    "\n",
    "        Assistant:\n",
    "        Noted. I will respond with \"not available\" if the information is not available in the context.\n",
    "\n",
    "        Human:\n",
    "        Now read this context and answer the question and return the answer inside <question_answer></question_answer> XML tags. \n",
    "        {context}\n",
    "\n",
    "        Assistant:\n",
    "        Based on the provided context above and information from the retriever source, I will provide the answer in  and return it inside <question_answer></question_answer> XML tags to the below question\n",
    "        {question}\n",
    "        \"\"\"\n",
    "PROMPT_COMMAND_1 = PromptTemplate(\n",
    "    template=prompt_template_command_1, input_variables=[\"question\", \"context\"]\n",
    ")"
   ]
  },
  {
   "cell_type": "code",
   "execution_count": 63,
   "id": "ee3539d4-4852-48b8-b412-aca750572794",
   "metadata": {
    "tags": []
   },
   "outputs": [],
   "source": [
    "## 2j. run all LLMs through qa catalog\n",
    "\n",
    "promptsdf = pd.DataFrame(prompts)\n",
    "\n",
    "predictions = []\n",
    "for llm in llms:\n",
    "    for row in promptsdf.itertuples():\n",
    "        query = row.prompt\n",
    "        \n",
    "        llm_name = ''\n",
    "        try:\n",
    "            llm_name = str(llm.model_id)\n",
    "        except:\n",
    "            try:\n",
    "                llm_name = str(llm.endpoint_name)\n",
    "            except:\n",
    "                try:\n",
    "                    llm_name = str(llm._llm_type)\n",
    "                except:\n",
    "                    pass\n",
    "        \n",
    "        if llm_name == LLM_01_NAME:\n",
    "            prompt = PROMPT_CLAUDE_1\n",
    "\n",
    "        if llm_name == LLM_02_NAME:\n",
    "            prompt = PROMPT_COMMAND_1\n",
    "\n",
    "        if llm_name == LLM_03_NAME:\n",
    "            prompt = PROMPT_LLAMA_1\n",
    "\n",
    "        result = retrieve_model_qa_response(target_llm=llm,\n",
    "                                 input_prompt=prompt,\n",
    "                                 return_source=True,\n",
    "                                 query=query)\n",
    "\n",
    "        contexts = []\n",
    "        for retrievedContext in result[\"source_documents\"]: \n",
    "            contexts.append(retrievedContext.page_content)\n",
    "\n",
    "        predictions.append({\n",
    "                \"query\": row.prompt,\n",
    "                \"llm\": str(llm_name),\n",
    "                \"output\": str(result[\"result\"]),\n",
    "                \"trainingoutput\": str(row.output),\n",
    "                \"context\": str(contexts),\n",
    "                \"trainingcontext\": str(row.context),\n",
    "                \"evaluationmetric\": \"\",\n",
    "                \"score\": \"\",\n",
    "                \"feedback\": \"\"\n",
    "        })"
   ]
  },
  {
   "cell_type": "code",
   "execution_count": 65,
   "id": "9f9cab53",
   "metadata": {},
   "outputs": [],
   "source": [
    "# export data \n",
    "predictions_run_df = pd.DataFrame(predictions)\n",
    "predictions_run_df.to_csv('./eval_run_predictions.csv', index=False)"
   ]
  },
  {
   "cell_type": "markdown",
   "id": "055540da-ea14-449d-874e-007930d40f49",
   "metadata": {
    "tags": []
   },
   "source": [
    "<img src=\"https://d3q8adh3y5sxpk.cloudfront.net/meetingrecordings/modelevaluation/Slide4.jpeg\" alt=\"EvaluatingResults\" width=\"900\" height=\"550\">"
   ]
  },
  {
   "cell_type": "markdown",
   "id": "74464a56-0516-40a6-8cd7-62a3aeb66b06",
   "metadata": {},
   "source": [
    "# Evaluation"
   ]
  },
  {
   "cell_type": "markdown",
   "id": "db8a75a0-09ea-4d42-9074-785faf9a8dfc",
   "metadata": {},
   "source": [
    "## Jaccard Similarity\n",
    "Jaccard Similarity is a measure of similarity between two asymmetric binary vectors or we can say a way to find the similarity between two sets. It is a common proximity measurement used to compute the similarity of two items, such as two text documents. The index ranges from 0 to 1."
   ]
  },
  {
   "cell_type": "code",
   "execution_count": 66,
   "id": "8f3471e2-87df-4821-a675-64afb48b90fc",
   "metadata": {
    "tags": []
   },
   "outputs": [
    {
     "name": "stdout",
     "output_type": "stream",
     "text": [
      "Grader with Jaccard Similarity Scores\n",
      "{'query': \"Where are Amazon's international headquarters located?\", 'llm': 'anthropic.claude-v2', 'output': \"\\n<question_answer>\\nAmazon's international headquarters are located in Luxembourg.\\n</question_answer>\", 'trainingoutput': 'Amazon owns and leases corporate headquarters in Washingtonâ\\x80\\x99s Puget Sound region and Arlington, Virginia.', 'context': \"[' software engineers, computer scientists, and other technical staff, and constrained labor markets have\\\\nincreased competition for personnel across other parts of our business.\\\\nAs we strive to be Earth’s best employer, we focus on investment and innovation, inclusion and diversity, safety, and engagement to hire and develop the\\\\nbest talent. We rely on numerous and evolving initiatives to implement these objectives and invent mechanisms for talent development, including competitive\\\\npay and benefits, flexible work arrangements, and skills training and educational programs such as Amazon Career Choice (funded education for hourly\\\\nemployees) and the Amazon Technical Academy (software development engineer training). Over 100,000 Amazon employees around the world have\\\\nparticipated in Career Choice. We also continue to inspect and refine the mechanisms we use to hire, develop, evaluate, and retain our employees to promote\\\\nequity for all candidates and employees. In addition, safety is integral to everything we do at Amazon and we continue to invest in safety improvements such as\\\\ncapital improvements, new safety technology, vehicle safety controls, and engineering ergonomic solutions. Our safety team is dedicated to using the science of\\\\nsafety to solve complex problems and establish new industry best practices. We also provide mentorship and support resources to our employees, and have\\\\ndeployed numerous programs that advance employee engagement, communication, and feedback.\\\\n4', ' software engineers, computer scientists, and other technical staff, and constrained labor markets have\\\\nincreased competition for personnel across other parts of our business.\\\\nAs we strive to be Earth’s best employer, we focus on investment and innovation, inclusion and diversity, safety, and engagement to hire and develop the\\\\nbest talent. We rely on numerous and evolving initiatives to implement these objectives and invent mechanisms for talent development, including competitive\\\\npay and benefits, flexible work arrangements, and skills training and educational programs such as Amazon Career Choice (funded education for hourly\\\\nemployees) and the Amazon Technical Academy (software development engineer training). Over 100,000 Amazon employees around the world have\\\\nparticipated in Career Choice. We also continue to inspect and refine the mechanisms we use to hire, develop, evaluate, and retain our employees to promote\\\\nequity for all candidates and employees. In addition, safety is integral to everything we do at Amazon and we continue to invest in safety improvements such as\\\\ncapital improvements, new safety technology, vehicle safety controls, and engineering ergonomic solutions. Our safety team is dedicated to using the science of\\\\nsafety to solve complex problems and establish new industry best practices. We also provide mentorship and support resources to our employees, and have\\\\ndeployed numerous programs that advance employee engagement, communication, and feedback.\\\\n4', 'Table of Contents\\\\nAvailable Information\\\\nOur investor relations website is amazon.com/ir and we encourage investors to use it as a way of easily finding information about us. We promptly make\\\\navailable on this website, free of charge, the reports that we file or furnish with the Securities and Exchange Commission (“SEC”), corporate governance\\\\ninformation (including our Code of Business Conduct and Ethics), and select press releases.\\\\nExecutive Officers and Directors\\\\nThe following tables set forth certain information regarding our Executive Officers and Directors as of January 25, 2023:\\\\nInformation About Our Executive Officers\\\\nName Age Position\\\\nJeffrey P. Bezos 59 Executive Chair\\\\nAndrew R. Jassy 55 President and Chief Executive Officer\\\\nDouglas J. Herrington 56 CEO Worldwide Amazon Stores\\\\nBrian T. Olsavsky 59 Senior Vice President and Chief Financial Officer\\\\nShelley L. Reynolds 58 Vice President, Worldwide Controller, and Principal Accounting Officer\\\\nAdam N. Selipsky 56 CEO Amazon Web Services\\\\nDavid A. Zapolsky 59 Senior Vice President, General Counsel, and Secretary\\\\nJeffrey P. Bezos. Mr. Bezos founded Amazon.com in 1994 and has served as Executive Chair since July 2021. He has served as Chair of the Board since\\\\n1994 and served as Chief Executive Officer from May 1996 until July 2021, and as President from 1994 until June 1999 and again from October 2000 to July\\\\n2021.\\\\nAndrew R. Jassy. Mr. Jassy has served as President and Chief Executive Officer since July 2021, CEO Amazon Web Services from April 2016 until July\\\\n2021, and Senior Vice President, Amazon Web Services, from April 2006 until April 2016.\\\\nDouglas J. Herrington. Mr. Herrington has served as CEO Worldwide Amazon Stores since July 2022, Senior Vice President, North America Consumer\\\\nfrom January 2015 to July 2022, and Senior Vice President, Consumables from May 2014 to December 2014.\\\\nBrian T. Olsavsky. Mr. Olsavsky has served as Senior Vice President and Chief Financial Officer since June 2015, Vice President, Finance for the\\\\nGlobal Consumer Business from December 2011 to June 2015, and numerous financial leadership roles across Amazon with global responsibility since April\\\\n2002.\\\\nShelley L. Reynolds. Ms. Reynolds has served as Vice President, Worldwide Controller, and Principal Accounting Officer since April 2007.\\\\nAdam N. Selipsky. Mr. Selipsky has served as CEO Amazon Web Services', 'Table of Contents\\\\nAvailable Information\\\\nOur investor relations website is amazon.com/ir and we encourage investors to use it as a way of easily finding information about us. We promptly make\\\\navailable on this website, free of charge, the reports that we file or furnish with the Securities and Exchange Commission (“SEC”), corporate governance\\\\ninformation (including our Code of Business Conduct and Ethics), and select press releases.\\\\nExecutive Officers and Directors\\\\nThe following tables set forth certain information regarding our Executive Officers and Directors as of January 25, 2023:\\\\nInformation About Our Executive Officers\\\\nName Age Position\\\\nJeffrey P. Bezos 59 Executive Chair\\\\nAndrew R. Jassy 55 President and Chief Executive Officer\\\\nDouglas J. Herrington 56 CEO Worldwide Amazon Stores\\\\nBrian T. Olsavsky 59 Senior Vice President and Chief Financial Officer\\\\nShelley L. Reynolds 58 Vice President, Worldwide Controller, and Principal Accounting Officer\\\\nAdam N. Selipsky 56 CEO Amazon Web Services\\\\nDavid A. Zapolsky 59 Senior Vice President, General Counsel, and Secretary\\\\nJeffrey P. Bezos. Mr. Bezos founded Amazon.com in 1994 and has served as Executive Chair since July 2021. He has served as Chair of the Board since\\\\n1994 and served as Chief Executive Officer from May 1996 until July 2021, and as President from 1994 until June 1999 and again from October 2000 to July\\\\n2021.\\\\nAndrew R. Jassy. Mr. Jassy has served as President and Chief Executive Officer since July 2021, CEO Amazon Web Services from April 2016 until July\\\\n2021, and Senior Vice President, Amazon Web Services, from April 2006 until April 2016.\\\\nDouglas J. Herrington. Mr. Herrington has served as CEO Worldwide Amazon Stores since July 2022, Senior Vice President, North America Consumer\\\\nfrom January 2015 to July 2022, and Senior Vice President, Consumables from May 2014 to December 2014.\\\\nBrian T. Olsavsky. Mr. Olsavsky has served as Senior Vice President and Chief Financial Officer since June 2015, Vice President, Finance for the\\\\nGlobal Consumer Business from December 2011 to June 2015, and numerous financial leadership roles across Amazon with global responsibility since April\\\\n2002.\\\\nShelley L. Reynolds. Ms. Reynolds has served as Vice President, Worldwide Controller, and Principal Accounting Officer since April 2007.\\\\nAdam N. Selipsky. Mr. Selipsky has served as CEO Amazon Web Services']\", 'trainingcontext': 'tem 2. Properties\\nAs of December 31, 2022, we operated the following facilities (in thousands):\\nDescription of Use\\nPhysical stores (2)\\nFulfillment, data centers, and other\\nFulfillment, data centers, and other\\nTotal\\n___________________\\n(1) For leased properties, represents the total leased space excluding sub-leased space.\\n(2) This includes 611 North America and 32 International stores as of December 31, 2022.\\nSegment\\nLeased Square Footage (1)\\nOwned Square Footage\\nLocation\\nOffice space\\nOffice space\\nPhysical stores (2)\\n30,611\\n23,956\\n22,881\\n291\\n391,598\\n148,146\\n617,483\\n6,792\\n1,802\\n662\\nâ\\x80\\x94\\n22,058\\n12,613\\n43,927\\nNorth America\\nInternational\\nNorth America\\nInternational\\nNorth America\\nInternational\\n___________________\\n(1) Segment amounts exclude corporate facilities. Shared facilities are allocated among the segments based on usage and primarily relate to facilities that hold\\nour technology infrastructure. See Item 8 of Part II, â\\x80\\x9cFinancial Statements and Supplementary Data â\\x80\\x94 Note 10 â\\x80\\x94 Segment Information.â\\x80\\x9d We own and lease our corporate headquarters in Washingtonâ\\x80\\x99s Puget Sound region and Arlington, Virginia.\\nItem 3. Legal Proceedings\\nSee Item 8 of Part II, â\\x80\\x9cFinancial Statements and Supplementary Data â\\x80\\x94 Note 7 â\\x80\\x94 Commitments and Contingencies â\\x80\\x94 Legal Proceedings.â\\x80\\x9d\\nItem 4. Mine Safety Disclosures Not applicable.', 'evaluationmetric': 'Naive Jaccard similarity between two strings', 'score': 'INCORRECT', 'feedback': '0.5882352941176471'}\n"
     ]
    }
   ],
   "source": [
    "### 3a. LLM evaluation using Jaccard Similarity\n",
    "print(\"Grader with Jaccard Similarity Scores\")\n",
    "from typing import Optional\n",
    "\n",
    "def jaccard_chars(output: str, answer: str) -> float:\n",
    "    try:\n",
    "        \"\"\"Naive Jaccard similarity between two strings.\"\"\"\n",
    "        prediction_chars = set(output.strip().lower())\n",
    "        answer_chars = set(answer.strip().lower())\n",
    "        intersection = prediction_chars.intersection(answer_chars)\n",
    "        union = prediction_chars.union(answer_chars)\n",
    "        return len(intersection) / len(union)\n",
    "    except:\n",
    "        return 1\n",
    " \n",
    "def grader(run_input: str, run_output: str, answer: Optional[str]) -> dict:\n",
    "    \"\"\"Compute the score and/or label for this run.\"\"\"\n",
    "    if answer is None:\n",
    "        value = \"AMBIGUOUS\"\n",
    "        score = 0.5\n",
    "    else:\n",
    "        score = jaccard_chars(run_output, answer)\n",
    "        value = \"CORRECT\" if score > 0.9 else \"INCORRECT\"\n",
    "    return dict(score=score, value=value)\n",
    "            \n",
    "string_eval_predictions = []\n",
    "for prediction in predictions:\n",
    "        evaluation_result = grader(prediction['query'], prediction['output'], prediction['trainingoutput'])    \n",
    "        string_eval_predictions.append({\n",
    "                \"query\": prediction['query'],\n",
    "                \"llm\": prediction['llm'],\n",
    "                \"output\": prediction['output'],\n",
    "                \"trainingoutput\": prediction['trainingoutput'],\n",
    "                \"context\": prediction['context'],\n",
    "                \"trainingcontext\": prediction['trainingcontext'],\n",
    "                \"evaluationmetric\": \"Naive Jaccard similarity between two strings\",\n",
    "                \"score\": str(evaluation_result['value']),\n",
    "                \"feedback\": str(evaluation_result['score']),\n",
    "            })\n",
    "\n",
    "table_name = 'llmevaluationresults'\n",
    "print(string_eval_predictions[1])"
   ]
  },
  {
   "cell_type": "code",
   "execution_count": 67,
   "id": "99d46665",
   "metadata": {},
   "outputs": [],
   "source": [
    "# export data \n",
    "jaccard_eval_run_df = pd.DataFrame(string_eval_predictions)\n",
    "jaccard_eval_run_df.to_csv('./eval_run_jaccard.csv', index=False)"
   ]
  },
  {
   "cell_type": "markdown",
   "id": "034d7f5c-aba6-4f76-8f82-d9f17d9bdb56",
   "metadata": {},
   "source": [
    "## Cosine Similarity\n",
    "The smaller the angle between the two vectors, the more similar they are to each other.<br>\n",
    "A cosine similarity of 1 indicates that the vectors are identical or point in the same direction.<br>\n",
    "A cosine similarity of -1 indicates that the vectors are diametrically opposed.<br>\n",
    "A cosine similarity of 0 means the vectors are orthogonal or completely dissimilar.<br>\n",
    "\n",
    "<img src=\"https://d3q8adh3y5sxpk.cloudfront.net/meetingrecordings/modelevaluation/CosineSimilarity.webp\" alt=\"GeneratePrompts\" width=\"900\" height=\"550\">\n",
    "\n"
   ]
  },
  {
   "cell_type": "code",
   "execution_count": 68,
   "id": "8454a5fe-1d4a-4508-a5f2-b3c03d5f29d7",
   "metadata": {
    "tags": []
   },
   "outputs": [
    {
     "name": "stdout",
     "output_type": "stream",
     "text": [
      "Grader with Cosine Similarity Scores\n",
      "{'query': \"Where are Amazon's international headquarters located?\", 'llm': 'anthropic.claude-v2', 'output': \"\\n<question_answer>\\nAmazon's international headquarters are located in Luxembourg.\\n</question_answer>\", 'trainingoutput': 'Amazon owns and leases corporate headquarters in Washingtonâ\\x80\\x99s Puget Sound region and Arlington, Virginia.', 'context': \"[' software engineers, computer scientists, and other technical staff, and constrained labor markets have\\\\nincreased competition for personnel across other parts of our business.\\\\nAs we strive to be Earth’s best employer, we focus on investment and innovation, inclusion and diversity, safety, and engagement to hire and develop the\\\\nbest talent. We rely on numerous and evolving initiatives to implement these objectives and invent mechanisms for talent development, including competitive\\\\npay and benefits, flexible work arrangements, and skills training and educational programs such as Amazon Career Choice (funded education for hourly\\\\nemployees) and the Amazon Technical Academy (software development engineer training). Over 100,000 Amazon employees around the world have\\\\nparticipated in Career Choice. We also continue to inspect and refine the mechanisms we use to hire, develop, evaluate, and retain our employees to promote\\\\nequity for all candidates and employees. In addition, safety is integral to everything we do at Amazon and we continue to invest in safety improvements such as\\\\ncapital improvements, new safety technology, vehicle safety controls, and engineering ergonomic solutions. Our safety team is dedicated to using the science of\\\\nsafety to solve complex problems and establish new industry best practices. We also provide mentorship and support resources to our employees, and have\\\\ndeployed numerous programs that advance employee engagement, communication, and feedback.\\\\n4', ' software engineers, computer scientists, and other technical staff, and constrained labor markets have\\\\nincreased competition for personnel across other parts of our business.\\\\nAs we strive to be Earth’s best employer, we focus on investment and innovation, inclusion and diversity, safety, and engagement to hire and develop the\\\\nbest talent. We rely on numerous and evolving initiatives to implement these objectives and invent mechanisms for talent development, including competitive\\\\npay and benefits, flexible work arrangements, and skills training and educational programs such as Amazon Career Choice (funded education for hourly\\\\nemployees) and the Amazon Technical Academy (software development engineer training). Over 100,000 Amazon employees around the world have\\\\nparticipated in Career Choice. We also continue to inspect and refine the mechanisms we use to hire, develop, evaluate, and retain our employees to promote\\\\nequity for all candidates and employees. In addition, safety is integral to everything we do at Amazon and we continue to invest in safety improvements such as\\\\ncapital improvements, new safety technology, vehicle safety controls, and engineering ergonomic solutions. Our safety team is dedicated to using the science of\\\\nsafety to solve complex problems and establish new industry best practices. We also provide mentorship and support resources to our employees, and have\\\\ndeployed numerous programs that advance employee engagement, communication, and feedback.\\\\n4', 'Table of Contents\\\\nAvailable Information\\\\nOur investor relations website is amazon.com/ir and we encourage investors to use it as a way of easily finding information about us. We promptly make\\\\navailable on this website, free of charge, the reports that we file or furnish with the Securities and Exchange Commission (“SEC”), corporate governance\\\\ninformation (including our Code of Business Conduct and Ethics), and select press releases.\\\\nExecutive Officers and Directors\\\\nThe following tables set forth certain information regarding our Executive Officers and Directors as of January 25, 2023:\\\\nInformation About Our Executive Officers\\\\nName Age Position\\\\nJeffrey P. Bezos 59 Executive Chair\\\\nAndrew R. Jassy 55 President and Chief Executive Officer\\\\nDouglas J. Herrington 56 CEO Worldwide Amazon Stores\\\\nBrian T. Olsavsky 59 Senior Vice President and Chief Financial Officer\\\\nShelley L. Reynolds 58 Vice President, Worldwide Controller, and Principal Accounting Officer\\\\nAdam N. Selipsky 56 CEO Amazon Web Services\\\\nDavid A. Zapolsky 59 Senior Vice President, General Counsel, and Secretary\\\\nJeffrey P. Bezos. Mr. Bezos founded Amazon.com in 1994 and has served as Executive Chair since July 2021. He has served as Chair of the Board since\\\\n1994 and served as Chief Executive Officer from May 1996 until July 2021, and as President from 1994 until June 1999 and again from October 2000 to July\\\\n2021.\\\\nAndrew R. Jassy. Mr. Jassy has served as President and Chief Executive Officer since July 2021, CEO Amazon Web Services from April 2016 until July\\\\n2021, and Senior Vice President, Amazon Web Services, from April 2006 until April 2016.\\\\nDouglas J. Herrington. Mr. Herrington has served as CEO Worldwide Amazon Stores since July 2022, Senior Vice President, North America Consumer\\\\nfrom January 2015 to July 2022, and Senior Vice President, Consumables from May 2014 to December 2014.\\\\nBrian T. Olsavsky. Mr. Olsavsky has served as Senior Vice President and Chief Financial Officer since June 2015, Vice President, Finance for the\\\\nGlobal Consumer Business from December 2011 to June 2015, and numerous financial leadership roles across Amazon with global responsibility since April\\\\n2002.\\\\nShelley L. Reynolds. Ms. Reynolds has served as Vice President, Worldwide Controller, and Principal Accounting Officer since April 2007.\\\\nAdam N. Selipsky. Mr. Selipsky has served as CEO Amazon Web Services', 'Table of Contents\\\\nAvailable Information\\\\nOur investor relations website is amazon.com/ir and we encourage investors to use it as a way of easily finding information about us. We promptly make\\\\navailable on this website, free of charge, the reports that we file or furnish with the Securities and Exchange Commission (“SEC”), corporate governance\\\\ninformation (including our Code of Business Conduct and Ethics), and select press releases.\\\\nExecutive Officers and Directors\\\\nThe following tables set forth certain information regarding our Executive Officers and Directors as of January 25, 2023:\\\\nInformation About Our Executive Officers\\\\nName Age Position\\\\nJeffrey P. Bezos 59 Executive Chair\\\\nAndrew R. Jassy 55 President and Chief Executive Officer\\\\nDouglas J. Herrington 56 CEO Worldwide Amazon Stores\\\\nBrian T. Olsavsky 59 Senior Vice President and Chief Financial Officer\\\\nShelley L. Reynolds 58 Vice President, Worldwide Controller, and Principal Accounting Officer\\\\nAdam N. Selipsky 56 CEO Amazon Web Services\\\\nDavid A. Zapolsky 59 Senior Vice President, General Counsel, and Secretary\\\\nJeffrey P. Bezos. Mr. Bezos founded Amazon.com in 1994 and has served as Executive Chair since July 2021. He has served as Chair of the Board since\\\\n1994 and served as Chief Executive Officer from May 1996 until July 2021, and as President from 1994 until June 1999 and again from October 2000 to July\\\\n2021.\\\\nAndrew R. Jassy. Mr. Jassy has served as President and Chief Executive Officer since July 2021, CEO Amazon Web Services from April 2016 until July\\\\n2021, and Senior Vice President, Amazon Web Services, from April 2006 until April 2016.\\\\nDouglas J. Herrington. Mr. Herrington has served as CEO Worldwide Amazon Stores since July 2022, Senior Vice President, North America Consumer\\\\nfrom January 2015 to July 2022, and Senior Vice President, Consumables from May 2014 to December 2014.\\\\nBrian T. Olsavsky. Mr. Olsavsky has served as Senior Vice President and Chief Financial Officer since June 2015, Vice President, Finance for the\\\\nGlobal Consumer Business from December 2011 to June 2015, and numerous financial leadership roles across Amazon with global responsibility since April\\\\n2002.\\\\nShelley L. Reynolds. Ms. Reynolds has served as Vice President, Worldwide Controller, and Principal Accounting Officer since April 2007.\\\\nAdam N. Selipsky. Mr. Selipsky has served as CEO Amazon Web Services']\", 'trainingcontext': 'tem 2. Properties\\nAs of December 31, 2022, we operated the following facilities (in thousands):\\nDescription of Use\\nPhysical stores (2)\\nFulfillment, data centers, and other\\nFulfillment, data centers, and other\\nTotal\\n___________________\\n(1) For leased properties, represents the total leased space excluding sub-leased space.\\n(2) This includes 611 North America and 32 International stores as of December 31, 2022.\\nSegment\\nLeased Square Footage (1)\\nOwned Square Footage\\nLocation\\nOffice space\\nOffice space\\nPhysical stores (2)\\n30,611\\n23,956\\n22,881\\n291\\n391,598\\n148,146\\n617,483\\n6,792\\n1,802\\n662\\nâ\\x80\\x94\\n22,058\\n12,613\\n43,927\\nNorth America\\nInternational\\nNorth America\\nInternational\\nNorth America\\nInternational\\n___________________\\n(1) Segment amounts exclude corporate facilities. Shared facilities are allocated among the segments based on usage and primarily relate to facilities that hold\\nour technology infrastructure. See Item 8 of Part II, â\\x80\\x9cFinancial Statements and Supplementary Data â\\x80\\x94 Note 10 â\\x80\\x94 Segment Information.â\\x80\\x9d We own and lease our corporate headquarters in Washingtonâ\\x80\\x99s Puget Sound region and Arlington, Virginia.\\nItem 3. Legal Proceedings\\nSee Item 8 of Part II, â\\x80\\x9cFinancial Statements and Supplementary Data â\\x80\\x94 Note 7 â\\x80\\x94 Commitments and Contingencies â\\x80\\x94 Legal Proceedings.â\\x80\\x9d\\nItem 4. Mine Safety Disclosures Not applicable.', 'evaluationmetric': 'cosine similarity between two strings', 'score': 'INCORRECT', 'feedback': '0.6723791475379124'}\n"
     ]
    }
   ],
   "source": [
    "### 3b. LLM evaluation using Cosine Similarity\n",
    "print(\"Grader with Cosine Similarity Scores\")\n",
    "from typing import Optional\n",
    "from collections import Counter\n",
    "import math\n",
    "from IPython.display import display, HTML\n",
    "import numpy as np\n",
    "from numpy.linalg import norm\n",
    "max_count = 20\n",
    "num_to_eval = 20\n",
    "\n",
    "def get_embedding(body, modelId, accept, contentType):\n",
    "    response = bedrock_runtime.invoke_model(body=body, modelId=modelId, accept=accept, contentType=contentType)\n",
    "    response_body = json.loads(response.get('body').read())\n",
    "    embedding = response_body.get('embedding')\n",
    "    return embedding\n",
    "\n",
    "def cosine_similarity(str1: str, str2: str) -> float:\n",
    "    modelId = \"amazon.titan-embed-text-v1\"\n",
    "    accept = \"application/json\"\n",
    "    contentType = \"application/json\"\n",
    "\n",
    "    \n",
    "    doc = {\"inputText\": str1}\n",
    "    body = json.dumps(doc)\n",
    "    embedding1 = get_embedding(body, modelId, accept, contentType)\n",
    "    sleep_timer=5\n",
    "    time.sleep(sleep_timer)\n",
    "    doc = {\"inputText\": str2}\n",
    "    body = json.dumps(doc)\n",
    "    embedding2 = get_embedding(body, modelId, accept, contentType)\n",
    "    \n",
    "    cosine_sim = np.dot(embedding2, embedding1) / (norm(embedding2) * norm(embedding1))\n",
    "    \n",
    "    return cosine_sim\n",
    "\n",
    "    \n",
    "def grader(run_input: str, run_output: str, answer: Optional[str]) -> dict:\n",
    "    \"\"\"Compute the score and/or label for this run.\"\"\"\n",
    "    if answer is None:\n",
    "        value = \"AMBIGUOUS\"\n",
    "        score = 0.5\n",
    "    else:\n",
    "        score = cosine_similarity(run_output, answer)\n",
    "        value = \"CORRECT\" if score > 0.9 else \"INCORRECT\"\n",
    "    return dict(score=score, value=value)\n",
    "            \n",
    "cosine_string_eval_predictions = []\n",
    "for prediction in predictions:\n",
    "        evaluation_result = grader(prediction['query'], prediction['output'], prediction['trainingoutput'])    \n",
    "        cosine_string_eval_predictions.append({\n",
    "                \"query\": prediction['query'],\n",
    "                \"llm\": prediction['llm'],\n",
    "                \"output\": prediction['output'],\n",
    "                \"trainingoutput\": prediction['trainingoutput'],\n",
    "                \"context\": prediction['context'],\n",
    "                \"trainingcontext\": prediction['trainingcontext'],\n",
    "                \"evaluationmetric\": \"cosine similarity between two strings\",\n",
    "                \"score\": str(evaluation_result['value']),\n",
    "                \"feedback\": str(evaluation_result['score']),\n",
    "            })\n",
    "\n",
    "print(cosine_string_eval_predictions[1])"
   ]
  },
  {
   "cell_type": "code",
   "execution_count": 69,
   "id": "cfbb95c9",
   "metadata": {},
   "outputs": [],
   "source": [
    "# export data \n",
    "cosine_eval_run_df = pd.DataFrame(cosine_string_eval_predictions)\n",
    "cosine_eval_run_df.to_csv('./eval_run_cosine.csv', index=False)"
   ]
  },
  {
   "cell_type": "code",
   "execution_count": 70,
   "id": "4339e554-819b-4171-bd7d-0453186b87d2",
   "metadata": {
    "tags": []
   },
   "outputs": [],
   "source": [
    "\n",
    "def get_embedding(body, modelId, accept, contentType):\n",
    "    response = bedrock_runtime.invoke_model(body=body, modelId=modelId, accept=accept, contentType=contentType)\n",
    "    response_body = json.loads(response.get('body').read())\n",
    "    embedding = response_body.get('embedding')\n",
    "    return embedding\n",
    "\n",
    "sleep_timer = 5\n",
    "\n",
    "def get_array_of_embeddings(phrases):\n",
    "    \"\"\"\n",
    "    Get an array of embeddings from a list of summaries.\n",
    "\n",
    "    Args:\n",
    "        phrases (list): List of summary texts.\n",
    "\n",
    "    Returns:\n",
    "        list: List of embeddings obtained from the models.\n",
    "    \"\"\"\n",
    "    modelId = \"amazon.titan-embed-text-v1\"\n",
    "    accept = \"application/json\"\n",
    "    contentType = \"application/json\"\n",
    "\n",
    "    array_embeddings = []\n",
    "    for phrase in phrases:\n",
    "        doc = {\"inputText\": phrase}\n",
    "        body = json.dumps(doc)\n",
    "        embedding = get_embedding(body, modelId, accept, contentType)\n",
    "        array_embeddings.append(embedding)\n",
    "        time.sleep(sleep_timer)\n",
    "\n",
    "    return array_embeddings\n",
    "\n",
    "\n",
    "cosine_string_eval_predictions_df = pd.DataFrame(cosine_string_eval_predictions)\n",
    "claude_output = cosine_string_eval_predictions_df[cosine_string_eval_predictions_df['llm'] == LLM_01_NAME]['output']\n",
    "cohere_output = cosine_string_eval_predictions_df[cosine_string_eval_predictions_df['llm'] == LLM_02_NAME]['output']\n",
    "lama_output = cosine_string_eval_predictions_df[cosine_string_eval_predictions_df['llm'] == LLM_03_NAME]['output']\n",
    "gt_output = cosine_string_eval_predictions_df[cosine_string_eval_predictions_df['llm'] == LLM_01_NAME]['trainingoutput']\n",
    "\n",
    "lama_embeddings = get_array_of_embeddings(lama_output)\n",
    "cohere_embeddings = get_array_of_embeddings(cohere_output)\n",
    "claude_embeddings = get_array_of_embeddings(claude_output)\n",
    "gt_embeddings = get_array_of_embeddings(gt_output)"
   ]
  },
  {
   "cell_type": "code",
   "execution_count": 71,
   "id": "a7a33a56-eed9-4cce-94c5-68e24e486ba3",
   "metadata": {
    "tags": []
   },
   "outputs": [
    {
     "name": "stdout",
     "output_type": "stream",
     "text": [
      "Calculating Cosine Similarities for information extraction task ...\n",
      "Cosine Similarity Score for Llama Answers are: [0.66382168 0.70241854 0.89913879 0.3443202  0.81868577 0.86680831\n",
      " 0.68736098 0.85308475 0.64081982 0.86862942 0.00468327 0.40803362\n",
      " 0.74747243 0.8752496  0.86613245]\n",
      "Cosine Similarity Score for Cohere Answers are: [ 0.55690587  0.46015503  0.37384202  0.10221419 -0.03708714  0.25940235\n",
      "  0.31560206  0.17837728  0.14671803  0.18562606  0.0291328   0.46133933\n",
      "  0.54051171  0.75959243  0.4913961 ]\n",
      "Cosine Similarity Score for Claude Answers are: [0.52644405 0.67237915 0.42672316 0.1028449  0.8016349  0.23212622\n",
      " 0.22306625 0.54434742 0.48990483 0.92027796 0.05613432 0.70243287\n",
      " 0.74815702 0.93127808 0.93812129]\n"
     ]
    },
    {
     "data": {
      "image/png": "[encoded data removed]",
      "text/plain": [
       "<Figure size 640x480 with 3 Axes>"
      ]
     },
     "metadata": {},
     "output_type": "display_data"
    }
   ],
   "source": [
    "print(\"Calculating Cosine Similarities for information extraction task ...\")\n",
    "from IPython.display import display, HTML\n",
    "import numpy as np\n",
    "from numpy.linalg import norm\n",
    "import matplotlib.pyplot as plt\n",
    "\n",
    "max_count = 19\n",
    "num_to_eval = 15\n",
    "\n",
    "lama_gt_cosine_sim = np.empty(num_to_eval)\n",
    "cohere_gt_cosine_sim = np.empty(num_to_eval)\n",
    "claude_gt_cosine_sim = np.empty(num_to_eval)\n",
    "\n",
    "for index in range(num_to_eval):\n",
    "    lama_gt_cosine_sim[index] = np.dot(\n",
    "        gt_embeddings[index], lama_embeddings[index]\n",
    "    ) / (norm(gt_embeddings[index]) * norm(lama_embeddings[index]))\n",
    "\n",
    "    cohere_gt_cosine_sim[index] = np.dot(\n",
    "        gt_embeddings[index], cohere_embeddings[index]\n",
    "    ) / (norm(gt_embeddings[index]) * norm(cohere_embeddings[index]))\n",
    "\n",
    "    claude_gt_cosine_sim[index] = np.dot(\n",
    "        gt_embeddings[index], claude_embeddings[index]\n",
    "    ) / (norm(gt_embeddings[index]) * norm(claude_embeddings[index]))\n",
    "\n",
    "\n",
    "print(\n",
    "    f\"Cosine Similarity Score for Llama Answers are: {lama_gt_cosine_sim}\"\n",
    ")\n",
    "print(\n",
    "    f\"Cosine Similarity Score for Cohere Answers are: {cohere_gt_cosine_sim}\"\n",
    ")\n",
    "print(\n",
    "    f\"Cosine Similarity Score for Claude Answers are: {claude_gt_cosine_sim}\"\n",
    ")\n",
    "\n",
    "ig, axs = plt.subplots(1, 3)\n",
    "# plt.subplots_adjust(wspace=0.1)\n",
    "\n",
    "plt.subplot(1, 3, 1)\n",
    "plt.hist(claude_gt_cosine_sim, color=\"green\")\n",
    "plt.legend([\"claude cosine similarities\"])\n",
    "plt.xlabel(\"cosine similarity\")\n",
    "plt.ylabel(\"Frequency\")\n",
    "\n",
    "plt.subplot(1, 3, 2)\n",
    "plt.hist(cohere_gt_cosine_sim, color=\"blue\")\n",
    "plt.legend([\"cohere cosine similarities\"])\n",
    "plt.xlabel(\"cosine similarity\")\n",
    "plt.ylabel(\"Frequency\")\n",
    "\n",
    "\n",
    "plt.subplot(1, 3, 3)\n",
    "plt.hist(lama_gt_cosine_sim, color=\"orange\")\n",
    "plt.legend([\"llama cosine similarities\"])\n",
    "plt.xlabel(\"cosine similarity\")\n",
    "plt.ylabel(\"Frequency\")\n",
    "plt.show()"
   ]
  },
  {
   "cell_type": "code",
   "execution_count": 38,
   "id": "e86aac34-fe51-4d8c-9175-931ad7f7a1d0",
   "metadata": {
    "tags": []
   },
   "outputs": [
    {
     "name": "stdout",
     "output_type": "stream",
     "text": [
      "Creating Cosine Similarity heatmap ...\n"
     ]
    },
    {
     "data": {
      "application/vnd.plotly.v1+json": {
       "config": {
        "plotlyServerURL": "https://plot.ly"
       },
       "data": [
        {
         "colorscale": [
          [
           0,
           "rgb(207, 89, 126)"
          ],
          [
           0.16666666666666666,
           "rgb(232, 132, 113)"
          ],
          [
           0.3333333333333333,
           "rgb(238, 180, 121)"
          ],
          [
           0.5,
           "rgb(233, 226, 156)"
          ],
          [
           0.6666666666666666,
           "rgb(156, 203, 134)"
          ],
          [
           0.8333333333333334,
           "rgb(57, 177, 133)"
          ],
          [
           1,
           "rgb(0, 147, 146)"
          ]
         ],
         "type": "heatmap",
         "z": [
          [
           0.4869071743762907,
           0.5861941780415921,
           0.7121848264526857,
           0.055580784481669435,
           0.5742450539111348
          ],
          [
           0.5503048488765613,
           0.6172103296862123,
           0.7712047265003684,
           0.7707382223436108,
           0.6974398527385073
          ],
          [
           0.5816618686284409,
           0.6083111663789448,
           0.684047613725765,
           0.802853819482549,
           0.799876180662111
          ]
         ],
         "zmax": 1,
         "zmin": 0
        }
       ],
       "layout": {
        "autosize": true,
        "template": {
         "data": {
          "bar": [
           {
            "error_x": {
             "color": "#2a3f5f"
            },
            "error_y": {
             "color": "#2a3f5f"
            },
            "marker": {
             "line": {
              "color": "#E5ECF6",
              "width": 0.5
             },
             "pattern": {
              "fillmode": "overlay",
              "size": 10,
              "solidity": 0.2
             }
            },
            "type": "bar"
           }
          ],
          "barpolar": [
           {
            "marker": {
             "line": {
              "color": "#E5ECF6",
              "width": 0.5
             },
             "pattern": {
              "fillmode": "overlay",
              "size": 10,
              "solidity": 0.2
             }
            },
            "type": "barpolar"
           }
          ],
          "carpet": [
           {
            "aaxis": {
             "endlinecolor": "#2a3f5f",
             "gridcolor": "white",
             "linecolor": "white",
             "minorgridcolor": "white",
             "startlinecolor": "#2a3f5f"
            },
            "baxis": {
             "endlinecolor": "#2a3f5f",
             "gridcolor": "white",
             "linecolor": "white",
             "minorgridcolor": "white",
             "startlinecolor": "#2a3f5f"
            },
            "type": "carpet"
           }
          ],
          "choropleth": [
           {
            "colorbar": {
             "outlinewidth": 0,
             "ticks": ""
            },
            "type": "choropleth"
           }
          ],
          "contour": [
           {
            "colorbar": {
             "outlinewidth": 0,
             "ticks": ""
            },
            "colorscale": [
             [
              0,
              "#0d0887"
             ],
             [
              0.1111111111111111,
              "#46039f"
             ],
             [
              0.2222222222222222,
              "#7201a8"
             ],
             [
              0.3333333333333333,
              "#9c179e"
             ],
             [
              0.4444444444444444,
              "#bd3786"
             ],
             [
              0.5555555555555556,
              "#d8576b"
             ],
             [
              0.6666666666666666,
              "#ed7953"
             ],
             [
              0.7777777777777778,
              "#fb9f3a"
             ],
             [
              0.8888888888888888,
              "#fdca26"
             ],
             [
              1,
              "#f0f921"
             ]
            ],
            "type": "contour"
           }
          ],
          "contourcarpet": [
           {
            "colorbar": {
             "outlinewidth": 0,
             "ticks": ""
            },
            "type": "contourcarpet"
           }
          ],
          "heatmap": [
           {
            "colorbar": {
             "outlinewidth": 0,
             "ticks": ""
            },
            "colorscale": [
             [
              0,
              "#0d0887"
             ],
             [
              0.1111111111111111,
              "#46039f"
             ],
             [
              0.2222222222222222,
              "#7201a8"
             ],
             [
              0.3333333333333333,
              "#9c179e"
             ],
             [
              0.4444444444444444,
              "#bd3786"
             ],
             [
              0.5555555555555556,
              "#d8576b"
             ],
             [
              0.6666666666666666,
              "#ed7953"
             ],
             [
              0.7777777777777778,
              "#fb9f3a"
             ],
             [
              0.8888888888888888,
              "#fdca26"
             ],
             [
              1,
              "#f0f921"
             ]
            ],
            "type": "heatmap"
           }
          ],
          "heatmapgl": [
           {
            "colorbar": {
             "outlinewidth": 0,
             "ticks": ""
            },
            "colorscale": [
             [
              0,
              "#0d0887"
             ],
             [
              0.1111111111111111,
              "#46039f"
             ],
             [
              0.2222222222222222,
              "#7201a8"
             ],
             [
              0.3333333333333333,
              "#9c179e"
             ],
             [
              0.4444444444444444,
              "#bd3786"
             ],
             [
              0.5555555555555556,
              "#d8576b"
             ],
             [
              0.6666666666666666,
              "#ed7953"
             ],
             [
              0.7777777777777778,
              "#fb9f3a"
             ],
             [
              0.8888888888888888,
              "#fdca26"
             ],
             [
              1,
              "#f0f921"
             ]
            ],
            "type": "heatmapgl"
           }
          ],
          "histogram": [
           {
            "marker": {
             "pattern": {
              "fillmode": "overlay",
              "size": 10,
              "solidity": 0.2
             }
            },
            "type": "histogram"
           }
          ],
          "histogram2d": [
           {
            "colorbar": {
             "outlinewidth": 0,
             "ticks": ""
            },
            "colorscale": [
             [
              0,
              "#0d0887"
             ],
             [
              0.1111111111111111,
              "#46039f"
             ],
             [
              0.2222222222222222,
              "#7201a8"
             ],
             [
              0.3333333333333333,
              "#9c179e"
             ],
             [
              0.4444444444444444,
              "#bd3786"
             ],
             [
              0.5555555555555556,
              "#d8576b"
             ],
             [
              0.6666666666666666,
              "#ed7953"
             ],
             [
              0.7777777777777778,
              "#fb9f3a"
             ],
             [
              0.8888888888888888,
              "#fdca26"
             ],
             [
              1,
              "#f0f921"
             ]
            ],
            "type": "histogram2d"
           }
          ],
          "histogram2dcontour": [
           {
            "colorbar": {
             "outlinewidth": 0,
             "ticks": ""
            },
            "colorscale": [
             [
              0,
              "#0d0887"
             ],
             [
              0.1111111111111111,
              "#46039f"
             ],
             [
              0.2222222222222222,
              "#7201a8"
             ],
             [
              0.3333333333333333,
              "#9c179e"
             ],
             [
              0.4444444444444444,
              "#bd3786"
             ],
             [
              0.5555555555555556,
              "#d8576b"
             ],
             [
              0.6666666666666666,
              "#ed7953"
             ],
             [
              0.7777777777777778,
              "#fb9f3a"
             ],
             [
              0.8888888888888888,
              "#fdca26"
             ],
             [
              1,
              "#f0f921"
             ]
            ],
            "type": "histogram2dcontour"
           }
          ],
          "mesh3d": [
           {
            "colorbar": {
             "outlinewidth": 0,
             "ticks": ""
            },
            "type": "mesh3d"
           }
          ],
          "parcoords": [
           {
            "line": {
             "colorbar": {
              "outlinewidth": 0,
              "ticks": ""
             }
            },
            "type": "parcoords"
           }
          ],
          "pie": [
           {
            "automargin": true,
            "type": "pie"
           }
          ],
          "scatter": [
           {
            "fillpattern": {
             "fillmode": "overlay",
             "size": 10,
             "solidity": 0.2
            },
            "type": "scatter"
           }
          ],
          "scatter3d": [
           {
            "line": {
             "colorbar": {
              "outlinewidth": 0,
              "ticks": ""
             }
            },
            "marker": {
             "colorbar": {
              "outlinewidth": 0,
              "ticks": ""
             }
            },
            "type": "scatter3d"
           }
          ],
          "scattercarpet": [
           {
            "marker": {
             "colorbar": {
              "outlinewidth": 0,
              "ticks": ""
             }
            },
            "type": "scattercarpet"
           }
          ],
          "scattergeo": [
           {
            "marker": {
             "colorbar": {
              "outlinewidth": 0,
              "ticks": ""
             }
            },
            "type": "scattergeo"
           }
          ],
          "scattergl": [
           {
            "marker": {
             "colorbar": {
              "outlinewidth": 0,
              "ticks": ""
             }
            },
            "type": "scattergl"
           }
          ],
          "scattermapbox": [
           {
            "marker": {
             "colorbar": {
              "outlinewidth": 0,
              "ticks": ""
             }
            },
            "type": "scattermapbox"
           }
          ],
          "scatterpolar": [
           {
            "marker": {
             "colorbar": {
              "outlinewidth": 0,
              "ticks": ""
             }
            },
            "type": "scatterpolar"
           }
          ],
          "scatterpolargl": [
           {
            "marker": {
             "colorbar": {
              "outlinewidth": 0,
              "ticks": ""
             }
            },
            "type": "scatterpolargl"
           }
          ],
          "scatterternary": [
           {
            "marker": {
             "colorbar": {
              "outlinewidth": 0,
              "ticks": ""
             }
            },
            "type": "scatterternary"
           }
          ],
          "surface": [
           {
            "colorbar": {
             "outlinewidth": 0,
             "ticks": ""
            },
            "colorscale": [
             [
              0,
              "#0d0887"
             ],
             [
              0.1111111111111111,
              "#46039f"
             ],
             [
              0.2222222222222222,
              "#7201a8"
             ],
             [
              0.3333333333333333,
              "#9c179e"
             ],
             [
              0.4444444444444444,
              "#bd3786"
             ],
             [
              0.5555555555555556,
              "#d8576b"
             ],
             [
              0.6666666666666666,
              "#ed7953"
             ],
             [
              0.7777777777777778,
              "#fb9f3a"
             ],
             [
              0.8888888888888888,
              "#fdca26"
             ],
             [
              1,
              "#f0f921"
             ]
            ],
            "type": "surface"
           }
          ],
          "table": [
           {
            "cells": {
             "fill": {
              "color": "#EBF0F8"
             },
             "line": {
              "color": "white"
             }
            },
            "header": {
             "fill": {
              "color": "#C8D4E3"
             },
             "line": {
              "color": "white"
             }
            },
            "type": "table"
           }
          ]
         },
         "layout": {
          "annotationdefaults": {
           "arrowcolor": "#2a3f5f",
           "arrowhead": 0,
           "arrowwidth": 1
          },
          "autotypenumbers": "strict",
          "coloraxis": {
           "colorbar": {
            "outlinewidth": 0,
            "ticks": ""
           }
          },
          "colorscale": {
           "diverging": [
            [
             0,
             "#8e0152"
            ],
            [
             0.1,
             "#c51b7d"
            ],
            [
             0.2,
             "#de77ae"
            ],
            [
             0.3,
             "#f1b6da"
            ],
            [
             0.4,
             "#fde0ef"
            ],
            [
             0.5,
             "#f7f7f7"
            ],
            [
             0.6,
             "#e6f5d0"
            ],
            [
             0.7,
             "#b8e186"
            ],
            [
             0.8,
             "#7fbc41"
            ],
            [
             0.9,
             "#4d9221"
            ],
            [
             1,
             "#276419"
            ]
           ],
           "sequential": [
            [
             0,
             "#0d0887"
            ],
            [
             0.1111111111111111,
             "#46039f"
            ],
            [
             0.2222222222222222,
             "#7201a8"
            ],
            [
             0.3333333333333333,
             "#9c179e"
            ],
            [
             0.4444444444444444,
             "#bd3786"
            ],
            [
             0.5555555555555556,
             "#d8576b"
            ],
            [
             0.6666666666666666,
             "#ed7953"
            ],
            [
             0.7777777777777778,
             "#fb9f3a"
            ],
            [
             0.8888888888888888,
             "#fdca26"
            ],
            [
             1,
             "#f0f921"
            ]
           ],
           "sequentialminus": [
            [
             0,
             "#0d0887"
            ],
            [
             0.1111111111111111,
             "#46039f"
            ],
            [
             0.2222222222222222,
             "#7201a8"
            ],
            [
             0.3333333333333333,
             "#9c179e"
            ],
            [
             0.4444444444444444,
             "#bd3786"
            ],
            [
             0.5555555555555556,
             "#d8576b"
            ],
            [
             0.6666666666666666,
             "#ed7953"
            ],
            [
             0.7777777777777778,
             "#fb9f3a"
            ],
            [
             0.8888888888888888,
             "#fdca26"
            ],
            [
             1,
             "#f0f921"
            ]
           ]
          },
          "colorway": [
           "#636efa",
           "#EF553B",
           "#00cc96",
           "#ab63fa",
           "#FFA15A",
           "#19d3f3",
           "#FF6692",
           "#B6E880",
           "#FF97FF",
           "#FECB52"
          ],
          "font": {
           "color": "#2a3f5f"
          },
          "geo": {
           "bgcolor": "white",
           "lakecolor": "white",
           "landcolor": "#E5ECF6",
           "showlakes": true,
           "showland": true,
           "subunitcolor": "white"
          },
          "hoverlabel": {
           "align": "left"
          },
          "hovermode": "closest",
          "mapbox": {
           "style": "light"
          },
          "paper_bgcolor": "white",
          "plot_bgcolor": "#E5ECF6",
          "polar": {
           "angularaxis": {
            "gridcolor": "white",
            "linecolor": "white",
            "ticks": ""
           },
           "bgcolor": "#E5ECF6",
           "radialaxis": {
            "gridcolor": "white",
            "linecolor": "white",
            "ticks": ""
           }
          },
          "scene": {
           "xaxis": {
            "backgroundcolor": "#E5ECF6",
            "gridcolor": "white",
            "gridwidth": 2,
            "linecolor": "white",
            "showbackground": true,
            "ticks": "",
            "zerolinecolor": "white"
           },
           "yaxis": {
            "backgroundcolor": "#E5ECF6",
            "gridcolor": "white",
            "gridwidth": 2,
            "linecolor": "white",
            "showbackground": true,
            "ticks": "",
            "zerolinecolor": "white"
           },
           "zaxis": {
            "backgroundcolor": "#E5ECF6",
            "gridcolor": "white",
            "gridwidth": 2,
            "linecolor": "white",
            "showbackground": true,
            "ticks": "",
            "zerolinecolor": "white"
           }
          },
          "shapedefaults": {
           "line": {
            "color": "#2a3f5f"
           }
          },
          "ternary": {
           "aaxis": {
            "gridcolor": "white",
            "linecolor": "white",
            "ticks": ""
           },
           "baxis": {
            "gridcolor": "white",
            "linecolor": "white",
            "ticks": ""
           },
           "bgcolor": "#E5ECF6",
           "caxis": {
            "gridcolor": "white",
            "linecolor": "white",
            "ticks": ""
           }
          },
          "title": {
           "x": 0.05
          },
          "xaxis": {
           "automargin": true,
           "gridcolor": "white",
           "linecolor": "white",
           "ticks": "",
           "title": {
            "standoff": 15
           },
           "zerolinecolor": "white",
           "zerolinewidth": 2
          },
          "yaxis": {
           "automargin": true,
           "gridcolor": "white",
           "linecolor": "white",
           "ticks": "",
           "title": {
            "standoff": 15
           },
           "zerolinecolor": "white",
           "zerolinewidth": 2
          }
         }
        },
        "title": {
         "text": "Interactive Heatmap of Cosine Similarities for Answers Produced by LLama27B vs Ground Truth"
        },
        "xaxis": {
         "autorange": true,
         "range": [
          -0.5,
          4.5
         ],
         "title": {
          "text": "X-axis"
         }
        },
        "yaxis": {
         "autorange": true,
         "range": [
          -0.5,
          2.5
         ],
         "title": {
          "text": "Y-axis"
         }
        }
       }
      },
      "image/png": "[encoded data removed]"
     },
     "metadata": {},
     "output_type": "display_data"
    },
    {
     "data": {
      "application/vnd.plotly.v1+json": {
       "config": {
        "plotlyServerURL": "https://plot.ly"
       },
       "data": [
        {
         "colorscale": [
          [
           0,
           "rgb(207, 89, 126)"
          ],
          [
           0.16666666666666666,
           "rgb(232, 132, 113)"
          ],
          [
           0.3333333333333333,
           "rgb(238, 180, 121)"
          ],
          [
           0.5,
           "rgb(233, 226, 156)"
          ],
          [
           0.6666666666666666,
           "rgb(156, 203, 134)"
          ],
          [
           0.8333333333333334,
           "rgb(57, 177, 133)"
          ],
          [
           1,
           "rgb(0, 147, 146)"
          ]
         ],
         "type": "heatmap",
         "z": [
          [
           0.42302186297989297,
           0.5862213370357084,
           0.6757877431592701,
           0.06293188798856417,
           0.5598111002337461
          ],
          [
           0.5247476774495979,
           0.6744450050334853,
           0.7556714501085079,
           0.7868199502248845,
           0.6797050406303837
          ],
          [
           0.5983278140957606,
           0.5996244159305193,
           0.6060004486075588,
           0.7945344561498847,
           0.8750461515181022
          ]
         ],
         "zmax": 1,
         "zmin": 0
        }
       ],
       "layout": {
        "autosize": true,
        "template": {
         "data": {
          "bar": [
           {
            "error_x": {
             "color": "#2a3f5f"
            },
            "error_y": {
             "color": "#2a3f5f"
            },
            "marker": {
             "line": {
              "color": "#E5ECF6",
              "width": 0.5
             },
             "pattern": {
              "fillmode": "overlay",
              "size": 10,
              "solidity": 0.2
             }
            },
            "type": "bar"
           }
          ],
          "barpolar": [
           {
            "marker": {
             "line": {
              "color": "#E5ECF6",
              "width": 0.5
             },
             "pattern": {
              "fillmode": "overlay",
              "size": 10,
              "solidity": 0.2
             }
            },
            "type": "barpolar"
           }
          ],
          "carpet": [
           {
            "aaxis": {
             "endlinecolor": "#2a3f5f",
             "gridcolor": "white",
             "linecolor": "white",
             "minorgridcolor": "white",
             "startlinecolor": "#2a3f5f"
            },
            "baxis": {
             "endlinecolor": "#2a3f5f",
             "gridcolor": "white",
             "linecolor": "white",
             "minorgridcolor": "white",
             "startlinecolor": "#2a3f5f"
            },
            "type": "carpet"
           }
          ],
          "choropleth": [
           {
            "colorbar": {
             "outlinewidth": 0,
             "ticks": ""
            },
            "type": "choropleth"
           }
          ],
          "contour": [
           {
            "colorbar": {
             "outlinewidth": 0,
             "ticks": ""
            },
            "colorscale": [
             [
              0,
              "#0d0887"
             ],
             [
              0.1111111111111111,
              "#46039f"
             ],
             [
              0.2222222222222222,
              "#7201a8"
             ],
             [
              0.3333333333333333,
              "#9c179e"
             ],
             [
              0.4444444444444444,
              "#bd3786"
             ],
             [
              0.5555555555555556,
              "#d8576b"
             ],
             [
              0.6666666666666666,
              "#ed7953"
             ],
             [
              0.7777777777777778,
              "#fb9f3a"
             ],
             [
              0.8888888888888888,
              "#fdca26"
             ],
             [
              1,
              "#f0f921"
             ]
            ],
            "type": "contour"
           }
          ],
          "contourcarpet": [
           {
            "colorbar": {
             "outlinewidth": 0,
             "ticks": ""
            },
            "type": "contourcarpet"
           }
          ],
          "heatmap": [
           {
            "colorbar": {
             "outlinewidth": 0,
             "ticks": ""
            },
            "colorscale": [
             [
              0,
              "#0d0887"
             ],
             [
              0.1111111111111111,
              "#46039f"
             ],
             [
              0.2222222222222222,
              "#7201a8"
             ],
             [
              0.3333333333333333,
              "#9c179e"
             ],
             [
              0.4444444444444444,
              "#bd3786"
             ],
             [
              0.5555555555555556,
              "#d8576b"
             ],
             [
              0.6666666666666666,
              "#ed7953"
             ],
             [
              0.7777777777777778,
              "#fb9f3a"
             ],
             [
              0.8888888888888888,
              "#fdca26"
             ],
             [
              1,
              "#f0f921"
             ]
            ],
            "type": "heatmap"
           }
          ],
          "heatmapgl": [
           {
            "colorbar": {
             "outlinewidth": 0,
             "ticks": ""
            },
            "colorscale": [
             [
              0,
              "#0d0887"
             ],
             [
              0.1111111111111111,
              "#46039f"
             ],
             [
              0.2222222222222222,
              "#7201a8"
             ],
             [
              0.3333333333333333,
              "#9c179e"
             ],
             [
              0.4444444444444444,
              "#bd3786"
             ],
             [
              0.5555555555555556,
              "#d8576b"
             ],
             [
              0.6666666666666666,
              "#ed7953"
             ],
             [
              0.7777777777777778,
              "#fb9f3a"
             ],
             [
              0.8888888888888888,
              "#fdca26"
             ],
             [
              1,
              "#f0f921"
             ]
            ],
            "type": "heatmapgl"
           }
          ],
          "histogram": [
           {
            "marker": {
             "pattern": {
              "fillmode": "overlay",
              "size": 10,
              "solidity": 0.2
             }
            },
            "type": "histogram"
           }
          ],
          "histogram2d": [
           {
            "colorbar": {
             "outlinewidth": 0,
             "ticks": ""
            },
            "colorscale": [
             [
              0,
              "#0d0887"
             ],
             [
              0.1111111111111111,
              "#46039f"
             ],
             [
              0.2222222222222222,
              "#7201a8"
             ],
             [
              0.3333333333333333,
              "#9c179e"
             ],
             [
              0.4444444444444444,
              "#bd3786"
             ],
             [
              0.5555555555555556,
              "#d8576b"
             ],
             [
              0.6666666666666666,
              "#ed7953"
             ],
             [
              0.7777777777777778,
              "#fb9f3a"
             ],
             [
              0.8888888888888888,
              "#fdca26"
             ],
             [
              1,
              "#f0f921"
             ]
            ],
            "type": "histogram2d"
           }
          ],
          "histogram2dcontour": [
           {
            "colorbar": {
             "outlinewidth": 0,
             "ticks": ""
            },
            "colorscale": [
             [
              0,
              "#0d0887"
             ],
             [
              0.1111111111111111,
              "#46039f"
             ],
             [
              0.2222222222222222,
              "#7201a8"
             ],
             [
              0.3333333333333333,
              "#9c179e"
             ],
             [
              0.4444444444444444,
              "#bd3786"
             ],
             [
              0.5555555555555556,
              "#d8576b"
             ],
             [
              0.6666666666666666,
              "#ed7953"
             ],
             [
              0.7777777777777778,
              "#fb9f3a"
             ],
             [
              0.8888888888888888,
              "#fdca26"
             ],
             [
              1,
              "#f0f921"
             ]
            ],
            "type": "histogram2dcontour"
           }
          ],
          "mesh3d": [
           {
            "colorbar": {
             "outlinewidth": 0,
             "ticks": ""
            },
            "type": "mesh3d"
           }
          ],
          "parcoords": [
           {
            "line": {
             "colorbar": {
              "outlinewidth": 0,
              "ticks": ""
             }
            },
            "type": "parcoords"
           }
          ],
          "pie": [
           {
            "automargin": true,
            "type": "pie"
           }
          ],
          "scatter": [
           {
            "fillpattern": {
             "fillmode": "overlay",
             "size": 10,
             "solidity": 0.2
            },
            "type": "scatter"
           }
          ],
          "scatter3d": [
           {
            "line": {
             "colorbar": {
              "outlinewidth": 0,
              "ticks": ""
             }
            },
            "marker": {
             "colorbar": {
              "outlinewidth": 0,
              "ticks": ""
             }
            },
            "type": "scatter3d"
           }
          ],
          "scattercarpet": [
           {
            "marker": {
             "colorbar": {
              "outlinewidth": 0,
              "ticks": ""
             }
            },
            "type": "scattercarpet"
           }
          ],
          "scattergeo": [
           {
            "marker": {
             "colorbar": {
              "outlinewidth": 0,
              "ticks": ""
             }
            },
            "type": "scattergeo"
           }
          ],
          "scattergl": [
           {
            "marker": {
             "colorbar": {
              "outlinewidth": 0,
              "ticks": ""
             }
            },
            "type": "scattergl"
           }
          ],
          "scattermapbox": [
           {
            "marker": {
             "colorbar": {
              "outlinewidth": 0,
              "ticks": ""
             }
            },
            "type": "scattermapbox"
           }
          ],
          "scatterpolar": [
           {
            "marker": {
             "colorbar": {
              "outlinewidth": 0,
              "ticks": ""
             }
            },
            "type": "scatterpolar"
           }
          ],
          "scatterpolargl": [
           {
            "marker": {
             "colorbar": {
              "outlinewidth": 0,
              "ticks": ""
             }
            },
            "type": "scatterpolargl"
           }
          ],
          "scatterternary": [
           {
            "marker": {
             "colorbar": {
              "outlinewidth": 0,
              "ticks": ""
             }
            },
            "type": "scatterternary"
           }
          ],
          "surface": [
           {
            "colorbar": {
             "outlinewidth": 0,
             "ticks": ""
            },
            "colorscale": [
             [
              0,
              "#0d0887"
             ],
             [
              0.1111111111111111,
              "#46039f"
             ],
             [
              0.2222222222222222,
              "#7201a8"
             ],
             [
              0.3333333333333333,
              "#9c179e"
             ],
             [
              0.4444444444444444,
              "#bd3786"
             ],
             [
              0.5555555555555556,
              "#d8576b"
             ],
             [
              0.6666666666666666,
              "#ed7953"
             ],
             [
              0.7777777777777778,
              "#fb9f3a"
             ],
             [
              0.8888888888888888,
              "#fdca26"
             ],
             [
              1,
              "#f0f921"
             ]
            ],
            "type": "surface"
           }
          ],
          "table": [
           {
            "cells": {
             "fill": {
              "color": "#EBF0F8"
             },
             "line": {
              "color": "white"
             }
            },
            "header": {
             "fill": {
              "color": "#C8D4E3"
             },
             "line": {
              "color": "white"
             }
            },
            "type": "table"
           }
          ]
         },
         "layout": {
          "annotationdefaults": {
           "arrowcolor": "#2a3f5f",
           "arrowhead": 0,
           "arrowwidth": 1
          },
          "autotypenumbers": "strict",
          "coloraxis": {
           "colorbar": {
            "outlinewidth": 0,
            "ticks": ""
           }
          },
          "colorscale": {
           "diverging": [
            [
             0,
             "#8e0152"
            ],
            [
             0.1,
             "#c51b7d"
            ],
            [
             0.2,
             "#de77ae"
            ],
            [
             0.3,
             "#f1b6da"
            ],
            [
             0.4,
             "#fde0ef"
            ],
            [
             0.5,
             "#f7f7f7"
            ],
            [
             0.6,
             "#e6f5d0"
            ],
            [
             0.7,
             "#b8e186"
            ],
            [
             0.8,
             "#7fbc41"
            ],
            [
             0.9,
             "#4d9221"
            ],
            [
             1,
             "#276419"
            ]
           ],
           "sequential": [
            [
             0,
             "#0d0887"
            ],
            [
             0.1111111111111111,
             "#46039f"
            ],
            [
             0.2222222222222222,
             "#7201a8"
            ],
            [
             0.3333333333333333,
             "#9c179e"
            ],
            [
             0.4444444444444444,
             "#bd3786"
            ],
            [
             0.5555555555555556,
             "#d8576b"
            ],
            [
             0.6666666666666666,
             "#ed7953"
            ],
            [
             0.7777777777777778,
             "#fb9f3a"
            ],
            [
             0.8888888888888888,
             "#fdca26"
            ],
            [
             1,
             "#f0f921"
            ]
           ],
           "sequentialminus": [
            [
             0,
             "#0d0887"
            ],
            [
             0.1111111111111111,
             "#46039f"
            ],
            [
             0.2222222222222222,
             "#7201a8"
            ],
            [
             0.3333333333333333,
             "#9c179e"
            ],
            [
             0.4444444444444444,
             "#bd3786"
            ],
            [
             0.5555555555555556,
             "#d8576b"
            ],
            [
             0.6666666666666666,
             "#ed7953"
            ],
            [
             0.7777777777777778,
             "#fb9f3a"
            ],
            [
             0.8888888888888888,
             "#fdca26"
            ],
            [
             1,
             "#f0f921"
            ]
           ]
          },
          "colorway": [
           "#636efa",
           "#EF553B",
           "#00cc96",
           "#ab63fa",
           "#FFA15A",
           "#19d3f3",
           "#FF6692",
           "#B6E880",
           "#FF97FF",
           "#FECB52"
          ],
          "font": {
           "color": "#2a3f5f"
          },
          "geo": {
           "bgcolor": "white",
           "lakecolor": "white",
           "landcolor": "#E5ECF6",
           "showlakes": true,
           "showland": true,
           "subunitcolor": "white"
          },
          "hoverlabel": {
           "align": "left"
          },
          "hovermode": "closest",
          "mapbox": {
           "style": "light"
          },
          "paper_bgcolor": "white",
          "plot_bgcolor": "#E5ECF6",
          "polar": {
           "angularaxis": {
            "gridcolor": "white",
            "linecolor": "white",
            "ticks": ""
           },
           "bgcolor": "#E5ECF6",
           "radialaxis": {
            "gridcolor": "white",
            "linecolor": "white",
            "ticks": ""
           }
          },
          "scene": {
           "xaxis": {
            "backgroundcolor": "#E5ECF6",
            "gridcolor": "white",
            "gridwidth": 2,
            "linecolor": "white",
            "showbackground": true,
            "ticks": "",
            "zerolinecolor": "white"
           },
           "yaxis": {
            "backgroundcolor": "#E5ECF6",
            "gridcolor": "white",
            "gridwidth": 2,
            "linecolor": "white",
            "showbackground": true,
            "ticks": "",
            "zerolinecolor": "white"
           },
           "zaxis": {
            "backgroundcolor": "#E5ECF6",
            "gridcolor": "white",
            "gridwidth": 2,
            "linecolor": "white",
            "showbackground": true,
            "ticks": "",
            "zerolinecolor": "white"
           }
          },
          "shapedefaults": {
           "line": {
            "color": "#2a3f5f"
           }
          },
          "ternary": {
           "aaxis": {
            "gridcolor": "white",
            "linecolor": "white",
            "ticks": ""
           },
           "baxis": {
            "gridcolor": "white",
            "linecolor": "white",
            "ticks": ""
           },
           "bgcolor": "#E5ECF6",
           "caxis": {
            "gridcolor": "white",
            "linecolor": "white",
            "ticks": ""
           }
          },
          "title": {
           "x": 0.05
          },
          "xaxis": {
           "automargin": true,
           "gridcolor": "white",
           "linecolor": "white",
           "ticks": "",
           "title": {
            "standoff": 15
           },
           "zerolinecolor": "white",
           "zerolinewidth": 2
          },
          "yaxis": {
           "automargin": true,
           "gridcolor": "white",
           "linecolor": "white",
           "ticks": "",
           "title": {
            "standoff": 15
           },
           "zerolinecolor": "white",
           "zerolinewidth": 2
          }
         }
        },
        "title": {
         "text": "Interactive Heatmap of Cosine Similarities for Answers Produced by Cohere vs Ground Truth"
        },
        "xaxis": {
         "autorange": true,
         "range": [
          -0.5,
          4.5
         ],
         "title": {
          "text": "X-axis"
         }
        },
        "yaxis": {
         "autorange": true,
         "range": [
          -0.5,
          2.5
         ],
         "title": {
          "text": "Y-axis"
         }
        }
       }
      },
      "image/png": "[encoded data removed]"
     },
     "metadata": {},
     "output_type": "display_data"
    },
    {
     "data": {
      "application/vnd.plotly.v1+json": {
       "config": {
        "plotlyServerURL": "https://plot.ly"
       },
       "data": [
        {
         "colorscale": [
          [
           0,
           "rgb(207, 89, 126)"
          ],
          [
           0.16666666666666666,
           "rgb(232, 132, 113)"
          ],
          [
           0.3333333333333333,
           "rgb(238, 180, 121)"
          ],
          [
           0.5,
           "rgb(233, 226, 156)"
          ],
          [
           0.6666666666666666,
           "rgb(156, 203, 134)"
          ],
          [
           0.8333333333333334,
           "rgb(57, 177, 133)"
          ],
          [
           1,
           "rgb(0, 147, 146)"
          ]
         ],
         "type": "heatmap",
         "z": [
          [
           0.8288531781126232,
           0.6270610178304359,
           0.6139726166656425,
           0.45552248988871946,
           0.7683115321166168
          ],
          [
           0.8545771135022691,
           0.8377960360727298,
           0.6590231413971126,
           0.9072051609920703,
           0.8719464714920417
          ],
          [
           0.6176614600768404,
           0.61716194832299,
           0.6226484587268885,
           0.8126236294428163,
           0.8845365354273156
          ]
         ],
         "zmax": 1,
         "zmin": 0
        }
       ],
       "layout": {
        "autosize": true,
        "template": {
         "data": {
          "bar": [
           {
            "error_x": {
             "color": "#2a3f5f"
            },
            "error_y": {
             "color": "#2a3f5f"
            },
            "marker": {
             "line": {
              "color": "#E5ECF6",
              "width": 0.5
             },
             "pattern": {
              "fillmode": "overlay",
              "size": 10,
              "solidity": 0.2
             }
            },
            "type": "bar"
           }
          ],
          "barpolar": [
           {
            "marker": {
             "line": {
              "color": "#E5ECF6",
              "width": 0.5
             },
             "pattern": {
              "fillmode": "overlay",
              "size": 10,
              "solidity": 0.2
             }
            },
            "type": "barpolar"
           }
          ],
          "carpet": [
           {
            "aaxis": {
             "endlinecolor": "#2a3f5f",
             "gridcolor": "white",
             "linecolor": "white",
             "minorgridcolor": "white",
             "startlinecolor": "#2a3f5f"
            },
            "baxis": {
             "endlinecolor": "#2a3f5f",
             "gridcolor": "white",
             "linecolor": "white",
             "minorgridcolor": "white",
             "startlinecolor": "#2a3f5f"
            },
            "type": "carpet"
           }
          ],
          "choropleth": [
           {
            "colorbar": {
             "outlinewidth": 0,
             "ticks": ""
            },
            "type": "choropleth"
           }
          ],
          "contour": [
           {
            "colorbar": {
             "outlinewidth": 0,
             "ticks": ""
            },
            "colorscale": [
             [
              0,
              "#0d0887"
             ],
             [
              0.1111111111111111,
              "#46039f"
             ],
             [
              0.2222222222222222,
              "#7201a8"
             ],
             [
              0.3333333333333333,
              "#9c179e"
             ],
             [
              0.4444444444444444,
              "#bd3786"
             ],
             [
              0.5555555555555556,
              "#d8576b"
             ],
             [
              0.6666666666666666,
              "#ed7953"
             ],
             [
              0.7777777777777778,
              "#fb9f3a"
             ],
             [
              0.8888888888888888,
              "#fdca26"
             ],
             [
              1,
              "#f0f921"
             ]
            ],
            "type": "contour"
           }
          ],
          "contourcarpet": [
           {
            "colorbar": {
             "outlinewidth": 0,
             "ticks": ""
            },
            "type": "contourcarpet"
           }
          ],
          "heatmap": [
           {
            "colorbar": {
             "outlinewidth": 0,
             "ticks": ""
            },
            "colorscale": [
             [
              0,
              "#0d0887"
             ],
             [
              0.1111111111111111,
              "#46039f"
             ],
             [
              0.2222222222222222,
              "#7201a8"
             ],
             [
              0.3333333333333333,
              "#9c179e"
             ],
             [
              0.4444444444444444,
              "#bd3786"
             ],
             [
              0.5555555555555556,
              "#d8576b"
             ],
             [
              0.6666666666666666,
              "#ed7953"
             ],
             [
              0.7777777777777778,
              "#fb9f3a"
             ],
             [
              0.8888888888888888,
              "#fdca26"
             ],
             [
              1,
              "#f0f921"
             ]
            ],
            "type": "heatmap"
           }
          ],
          "heatmapgl": [
           {
            "colorbar": {
             "outlinewidth": 0,
             "ticks": ""
            },
            "colorscale": [
             [
              0,
              "#0d0887"
             ],
             [
              0.1111111111111111,
              "#46039f"
             ],
             [
              0.2222222222222222,
              "#7201a8"
             ],
             [
              0.3333333333333333,
              "#9c179e"
             ],
             [
              0.4444444444444444,
              "#bd3786"
             ],
             [
              0.5555555555555556,
              "#d8576b"
             ],
             [
              0.6666666666666666,
              "#ed7953"
             ],
             [
              0.7777777777777778,
              "#fb9f3a"
             ],
             [
              0.8888888888888888,
              "#fdca26"
             ],
             [
              1,
              "#f0f921"
             ]
            ],
            "type": "heatmapgl"
           }
          ],
          "histogram": [
           {
            "marker": {
             "pattern": {
              "fillmode": "overlay",
              "size": 10,
              "solidity": 0.2
             }
            },
            "type": "histogram"
           }
          ],
          "histogram2d": [
           {
            "colorbar": {
             "outlinewidth": 0,
             "ticks": ""
            },
            "colorscale": [
             [
              0,
              "#0d0887"
             ],
             [
              0.1111111111111111,
              "#46039f"
             ],
             [
              0.2222222222222222,
              "#7201a8"
             ],
             [
              0.3333333333333333,
              "#9c179e"
             ],
             [
              0.4444444444444444,
              "#bd3786"
             ],
             [
              0.5555555555555556,
              "#d8576b"
             ],
             [
              0.6666666666666666,
              "#ed7953"
             ],
             [
              0.7777777777777778,
              "#fb9f3a"
             ],
             [
              0.8888888888888888,
              "#fdca26"
             ],
             [
              1,
              "#f0f921"
             ]
            ],
            "type": "histogram2d"
           }
          ],
          "histogram2dcontour": [
           {
            "colorbar": {
             "outlinewidth": 0,
             "ticks": ""
            },
            "colorscale": [
             [
              0,
              "#0d0887"
             ],
             [
              0.1111111111111111,
              "#46039f"
             ],
             [
              0.2222222222222222,
              "#7201a8"
             ],
             [
              0.3333333333333333,
              "#9c179e"
             ],
             [
              0.4444444444444444,
              "#bd3786"
             ],
             [
              0.5555555555555556,
              "#d8576b"
             ],
             [
              0.6666666666666666,
              "#ed7953"
             ],
             [
              0.7777777777777778,
              "#fb9f3a"
             ],
             [
              0.8888888888888888,
              "#fdca26"
             ],
             [
              1,
              "#f0f921"
             ]
            ],
            "type": "histogram2dcontour"
           }
          ],
          "mesh3d": [
           {
            "colorbar": {
             "outlinewidth": 0,
             "ticks": ""
            },
            "type": "mesh3d"
           }
          ],
          "parcoords": [
           {
            "line": {
             "colorbar": {
              "outlinewidth": 0,
              "ticks": ""
             }
            },
            "type": "parcoords"
           }
          ],
          "pie": [
           {
            "automargin": true,
            "type": "pie"
           }
          ],
          "scatter": [
           {
            "fillpattern": {
             "fillmode": "overlay",
             "size": 10,
             "solidity": 0.2
            },
            "type": "scatter"
           }
          ],
          "scatter3d": [
           {
            "line": {
             "colorbar": {
              "outlinewidth": 0,
              "ticks": ""
             }
            },
            "marker": {
             "colorbar": {
              "outlinewidth": 0,
              "ticks": ""
             }
            },
            "type": "scatter3d"
           }
          ],
          "scattercarpet": [
           {
            "marker": {
             "colorbar": {
              "outlinewidth": 0,
              "ticks": ""
             }
            },
            "type": "scattercarpet"
           }
          ],
          "scattergeo": [
           {
            "marker": {
             "colorbar": {
              "outlinewidth": 0,
              "ticks": ""
             }
            },
            "type": "scattergeo"
           }
          ],
          "scattergl": [
           {
            "marker": {
             "colorbar": {
              "outlinewidth": 0,
              "ticks": ""
             }
            },
            "type": "scattergl"
           }
          ],
          "scattermapbox": [
           {
            "marker": {
             "colorbar": {
              "outlinewidth": 0,
              "ticks": ""
             }
            },
            "type": "scattermapbox"
           }
          ],
          "scatterpolar": [
           {
            "marker": {
             "colorbar": {
              "outlinewidth": 0,
              "ticks": ""
             }
            },
            "type": "scatterpolar"
           }
          ],
          "scatterpolargl": [
           {
            "marker": {
             "colorbar": {
              "outlinewidth": 0,
              "ticks": ""
             }
            },
            "type": "scatterpolargl"
           }
          ],
          "scatterternary": [
           {
            "marker": {
             "colorbar": {
              "outlinewidth": 0,
              "ticks": ""
             }
            },
            "type": "scatterternary"
           }
          ],
          "surface": [
           {
            "colorbar": {
             "outlinewidth": 0,
             "ticks": ""
            },
            "colorscale": [
             [
              0,
              "#0d0887"
             ],
             [
              0.1111111111111111,
              "#46039f"
             ],
             [
              0.2222222222222222,
              "#7201a8"
             ],
             [
              0.3333333333333333,
              "#9c179e"
             ],
             [
              0.4444444444444444,
              "#bd3786"
             ],
             [
              0.5555555555555556,
              "#d8576b"
             ],
             [
              0.6666666666666666,
              "#ed7953"
             ],
             [
              0.7777777777777778,
              "#fb9f3a"
             ],
             [
              0.8888888888888888,
              "#fdca26"
             ],
             [
              1,
              "#f0f921"
             ]
            ],
            "type": "surface"
           }
          ],
          "table": [
           {
            "cells": {
             "fill": {
              "color": "#EBF0F8"
             },
             "line": {
              "color": "white"
             }
            },
            "header": {
             "fill": {
              "color": "#C8D4E3"
             },
             "line": {
              "color": "white"
             }
            },
            "type": "table"
           }
          ]
         },
         "layout": {
          "annotationdefaults": {
           "arrowcolor": "#2a3f5f",
           "arrowhead": 0,
           "arrowwidth": 1
          },
          "autotypenumbers": "strict",
          "coloraxis": {
           "colorbar": {
            "outlinewidth": 0,
            "ticks": ""
           }
          },
          "colorscale": {
           "diverging": [
            [
             0,
             "#8e0152"
            ],
            [
             0.1,
             "#c51b7d"
            ],
            [
             0.2,
             "#de77ae"
            ],
            [
             0.3,
             "#f1b6da"
            ],
            [
             0.4,
             "#fde0ef"
            ],
            [
             0.5,
             "#f7f7f7"
            ],
            [
             0.6,
             "#e6f5d0"
            ],
            [
             0.7,
             "#b8e186"
            ],
            [
             0.8,
             "#7fbc41"
            ],
            [
             0.9,
             "#4d9221"
            ],
            [
             1,
             "#276419"
            ]
           ],
           "sequential": [
            [
             0,
             "#0d0887"
            ],
            [
             0.1111111111111111,
             "#46039f"
            ],
            [
             0.2222222222222222,
             "#7201a8"
            ],
            [
             0.3333333333333333,
             "#9c179e"
            ],
            [
             0.4444444444444444,
             "#bd3786"
            ],
            [
             0.5555555555555556,
             "#d8576b"
            ],
            [
             0.6666666666666666,
             "#ed7953"
            ],
            [
             0.7777777777777778,
             "#fb9f3a"
            ],
            [
             0.8888888888888888,
             "#fdca26"
            ],
            [
             1,
             "#f0f921"
            ]
           ],
           "sequentialminus": [
            [
             0,
             "#0d0887"
            ],
            [
             0.1111111111111111,
             "#46039f"
            ],
            [
             0.2222222222222222,
             "#7201a8"
            ],
            [
             0.3333333333333333,
             "#9c179e"
            ],
            [
             0.4444444444444444,
             "#bd3786"
            ],
            [
             0.5555555555555556,
             "#d8576b"
            ],
            [
             0.6666666666666666,
             "#ed7953"
            ],
            [
             0.7777777777777778,
             "#fb9f3a"
            ],
            [
             0.8888888888888888,
             "#fdca26"
            ],
            [
             1,
             "#f0f921"
            ]
           ]
          },
          "colorway": [
           "#636efa",
           "#EF553B",
           "#00cc96",
           "#ab63fa",
           "#FFA15A",
           "#19d3f3",
           "#FF6692",
           "#B6E880",
           "#FF97FF",
           "#FECB52"
          ],
          "font": {
           "color": "#2a3f5f"
          },
          "geo": {
           "bgcolor": "white",
           "lakecolor": "white",
           "landcolor": "#E5ECF6",
           "showlakes": true,
           "showland": true,
           "subunitcolor": "white"
          },
          "hoverlabel": {
           "align": "left"
          },
          "hovermode": "closest",
          "mapbox": {
           "style": "light"
          },
          "paper_bgcolor": "white",
          "plot_bgcolor": "#E5ECF6",
          "polar": {
           "angularaxis": {
            "gridcolor": "white",
            "linecolor": "white",
            "ticks": ""
           },
           "bgcolor": "#E5ECF6",
           "radialaxis": {
            "gridcolor": "white",
            "linecolor": "white",
            "ticks": ""
           }
          },
          "scene": {
           "xaxis": {
            "backgroundcolor": "#E5ECF6",
            "gridcolor": "white",
            "gridwidth": 2,
            "linecolor": "white",
            "showbackground": true,
            "ticks": "",
            "zerolinecolor": "white"
           },
           "yaxis": {
            "backgroundcolor": "#E5ECF6",
            "gridcolor": "white",
            "gridwidth": 2,
            "linecolor": "white",
            "showbackground": true,
            "ticks": "",
            "zerolinecolor": "white"
           },
           "zaxis": {
            "backgroundcolor": "#E5ECF6",
            "gridcolor": "white",
            "gridwidth": 2,
            "linecolor": "white",
            "showbackground": true,
            "ticks": "",
            "zerolinecolor": "white"
           }
          },
          "shapedefaults": {
           "line": {
            "color": "#2a3f5f"
           }
          },
          "ternary": {
           "aaxis": {
            "gridcolor": "white",
            "linecolor": "white",
            "ticks": ""
           },
           "baxis": {
            "gridcolor": "white",
            "linecolor": "white",
            "ticks": ""
           },
           "bgcolor": "#E5ECF6",
           "caxis": {
            "gridcolor": "white",
            "linecolor": "white",
            "ticks": ""
           }
          },
          "title": {
           "x": 0.05
          },
          "xaxis": {
           "automargin": true,
           "gridcolor": "white",
           "linecolor": "white",
           "ticks": "",
           "title": {
            "standoff": 15
           },
           "zerolinecolor": "white",
           "zerolinewidth": 2
          },
          "yaxis": {
           "automargin": true,
           "gridcolor": "white",
           "linecolor": "white",
           "ticks": "",
           "title": {
            "standoff": 15
           },
           "zerolinecolor": "white",
           "zerolinewidth": 2
          }
         }
        },
        "title": {
         "text": "Interactive Heatmap of Cosine Similarities for Answers Produced by Claude vs Ground Truth"
        },
        "xaxis": {
         "autorange": true,
         "range": [
          -0.5,
          4.5
         ],
         "title": {
          "text": "X-axis"
         }
        },
        "yaxis": {
         "autorange": true,
         "range": [
          -0.5,
          2.5
         ],
         "title": {
          "text": "Y-axis"
         }
        }
       }
      },
      "image/png": "[encoded data removed]"
     },
     "metadata": {},
     "output_type": "display_data"
    }
   ],
   "source": [
    "print(\"Creating Cosine Similarity heatmap ...\")\n",
    "import sympy\n",
    "import numpy as np\n",
    "\n",
    "num_questions = 20\n",
    "num_to_eval = 15\n",
    "\n",
    "def find_min_factors(number):\n",
    "    if sympy.isprime(number):\n",
    "        number += 1\n",
    "\n",
    "    while sympy.isprime(number):\n",
    "        number += 1\n",
    "\n",
    "    factors = []\n",
    "    for index in range(2, number):\n",
    "        if number % index == 0:\n",
    "            factors.append((index, number // index))\n",
    "\n",
    "    min_factors = min(factors, key=lambda x: abs(x[0] - x[1]))\n",
    "    return number, min_factors\n",
    "\n",
    "factors = []\n",
    "num_to_eval, factors = find_min_factors(num_to_eval)\n",
    "srows = factors[0]\n",
    "scols = factors[1]\n",
    "\n",
    "num_questions, factors = find_min_factors(num_questions)\n",
    "qrows = factors[0]\n",
    "qcols = factors[1]\n",
    "\n",
    "\n",
    "import plotly.graph_objects as go\n",
    "\n",
    "# Reshape the data into a 2D array (e.g., 4x5 grid)\n",
    "heatmap_data_cohere = np.array(cohere_gt_cosine_sim).reshape(srows, scols)\n",
    "heatmap_data_lama = np.array(lama_gt_cosine_sim).reshape(srows, scols)\n",
    "heatmap_data_claude = np.array(claude_gt_cosine_sim).reshape(srows, scols)\n",
    "\n",
    "# Create the heatmap figure using plotly\n",
    "heatmap_fig_cohere = go.Figure(\n",
    "    data=go.Heatmap(z=heatmap_data_cohere, colorscale=\"temps_r\", zmin=0, zmax=1)\n",
    ")\n",
    "\n",
    "heatmap_fig_lama = go.Figure(\n",
    "    data=go.Heatmap(z=heatmap_data_lama, colorscale=\"temps_r\", zmin=0, zmax=1)\n",
    ")\n",
    "\n",
    "heatmap_fig_claude = go.Figure(\n",
    "    data=go.Heatmap(z=heatmap_data_claude, colorscale=\"temps_r\", zmin=0, zmax=1)\n",
    ")\n",
    "\n",
    "# Customize the layout of the figure (optional)\n",
    "heatmap_fig_cohere.update_layout(\n",
    "    title=\"Interactive Heatmap of Cosine Similarities for Answers Produced by Cohere vs Ground Truth\",\n",
    "    xaxis=dict(title=\"X-axis\"),\n",
    "    yaxis=dict(title=\"Y-axis\"),\n",
    ")\n",
    "\n",
    "heatmap_fig_lama.update_layout(\n",
    "    title=\"Interactive Heatmap of Cosine Similarities for Answers Produced by LLama27B vs Ground Truth\",\n",
    "    xaxis=dict(title=\"X-axis\"),\n",
    "    yaxis=dict(title=\"Y-axis\"),\n",
    ")\n",
    "\n",
    "heatmap_fig_claude.update_layout(\n",
    "    title=\"Interactive Heatmap of Cosine Similarities for Answers Produced by Claude vs Ground Truth\",\n",
    "    xaxis=dict(title=\"X-axis\"),\n",
    "    yaxis=dict(title=\"Y-axis\"),\n",
    ")\n",
    "\n",
    "# Show the interactive heatmap\n",
    "heatmap_fig_lama.show()\n",
    "heatmap_fig_cohere.show()\n",
    "heatmap_fig_claude.show()\n"
   ]
  },
  {
   "cell_type": "markdown",
   "id": "865c4238-6676-42a6-82b9-6d4691614639",
   "metadata": {},
   "source": [
    "# LLM Grader"
   ]
  },
  {
   "cell_type": "code",
   "execution_count": 72,
   "id": "8a1776ba-96a1-41a5-94aa-44c809482469",
   "metadata": {
    "tags": []
   },
   "outputs": [
    {
     "name": "stdout",
     "output_type": "stream",
     "text": [
      "Total # of chunks 2\n",
      "starting chunk 0\n"
     ]
    },
    {
     "name": "stderr",
     "output_type": "stream",
     "text": [
      "WARNING:urllib3.connectionpool:Retrying (Retry(total=2, connect=None, read=None, redirect=None, status=None)) after connection broken by 'NewConnectionError('<urllib3.connection.HTTPSConnection object at 0x3504ac100>: Failed to establish a new connection: [Errno 8] nodename nor servname provided, or not known')': /runs/5f6a5afc-63ba-4418-b06f-68c9205f0be2\n"
     ]
    },
    {
     "name": "stdout",
     "output_type": "stream",
     "text": [
      "starting chunk 1\n"
     ]
    }
   ],
   "source": [
    "### 3c. LLM evaluation using a mechanism for LLM-assisted evaluation to compare and score the responses \n",
    "### with the help of LLMs using langchain QAEvalChain\n",
    "\n",
    "os.environ[\"LANGCHAIN_SESSION\"] = \"llm-grader\"\n",
    "from langchain.chat_models import BedrockChat\n",
    "from langchain.evaluation.qa import QAEvalChain\n",
    "import time\n",
    "inference_modifier = {\n",
    "    \"max_tokens_to_sample\": 545,\n",
    "    \"temperature\": 0,\n",
    "    \"top_k\": 250,\n",
    "    \"top_p\": 1,\n",
    "    \"stop_sequences\": [\"\\n\\nHuman\"],\n",
    "}\n",
    "\n",
    "llm = BedrockChat(model_id=\"anthropic.claude-v2\", model_kwargs=inference_modifier)\n",
    "\n",
    "eval_chain = QAEvalChain.from_llm(llm)\n",
    "\n",
    "qa_list = [{'query': item['query'], 'answer': item['trainingoutput']} for item in predictions]\n",
    "\n",
    "## to avoid read timeouts split qa_list into chunks and execute eval_chain_evaluate function for each chunk with a wait period in betwwen\n",
    "chunk_size = 50\n",
    "graded_outputs = []\n",
    "qa_chunks = [qa_list[i:i + chunk_size] for i in range(0, len(qa_list), chunk_size)]\n",
    "qa_predictions = [predictions[i:i + chunk_size] for i in range(0, len(predictions), chunk_size)]\n",
    "\n",
    "i = 0\n",
    "print(f'Total # of chunks {len(qa_chunks)}')\n",
    "while i < len(qa_chunks):\n",
    "    print(f'starting chunk {i}')\n",
    "    try:\n",
    "        graded_output_chunk = eval_chain.evaluate(qa_chunks[i], qa_predictions[i], question_key = 'query', prediction_key = 'output')\n",
    "        graded_outputs.append(graded_output_chunk)\n",
    "        # wait between each chunk\n",
    "        time.sleep(60)\n",
    "    except:\n",
    "        print('going to next chunk')\n",
    "        continue\n",
    "    i+=1"
   ]
  },
  {
   "cell_type": "code",
   "execution_count": 73,
   "id": "c56c1409-b9aa-463f-abd7-b56edf725d38",
   "metadata": {
    "tags": []
   },
   "outputs": [],
   "source": [
    "### 3d. Store LLM evaluated metrics in llmevaluationresults table\n",
    "llm_eval_predictions=[]\n",
    "graded_outputs_flat = [item for sublist in graded_outputs for item in sublist]\n",
    "\n",
    "for i, eg in enumerate(graded_outputs_flat):\n",
    "    grade = ''\n",
    "    try:\n",
    "        if 'GRADE: INCORRECT' in str(graded_outputs_flat[i]['results']):\n",
    "            grade = 'INCORRECT'\n",
    "        else:\n",
    "            grade = 'CORRECT'  \n",
    "    except:\n",
    "        print('failed to extract grade')\n",
    "\n",
    "    llm_eval_predictions.append({\n",
    "                \"query\": predictions[i]['query'],\n",
    "                \"llm\": predictions[i]['llm'],\n",
    "                \"output\": predictions[i]['output'],\n",
    "                \"trainingoutput\": predictions[i]['trainingoutput'],\n",
    "                \"context\": predictions[i]['context'],\n",
    "                \"trainingcontext\": predictions[i]['trainingcontext'],\n",
    "                \"evaluationmetric\": \"LLM-assisted evaluation with Claude\",\n",
    "                \"score\": grade,\n",
    "                \"feedback\": str(graded_outputs_flat[i]['results'])\n",
    "            })"
   ]
  },
  {
   "cell_type": "code",
   "execution_count": 74,
   "id": "c7ebb941",
   "metadata": {},
   "outputs": [],
   "source": [
    "# export data \n",
    "llm_eval_run_df = pd.DataFrame(llm_eval_predictions)\n",
    "llm_eval_run_df.to_csv('./eval_run_llm.csv', index=False)"
   ]
  },
  {
   "cell_type": "code",
   "execution_count": 75,
   "id": "201872ff-fac2-4104-b0dd-8ecaa25cff32",
   "metadata": {
    "tags": []
   },
   "outputs": [],
   "source": [
    "### 3e. evaluating overall rag system accuracy\n",
    "\n",
    "# Count the number of CORRECT and INCORRECT evaluations for each LLM and evaluation method\n",
    "llm_eval_predictions_df = pd.DataFrame(llm_eval_predictions)\n",
    "\n",
    "# get value of grouby column\n",
    "llm_eval_predictions_df['llm'] = llm_eval_predictions_df['llm'].str.strip()\n",
    "llm_eval_predictions_df['CORRECT_Count'] = llm_eval_predictions_df.groupby('llm')['score'].transform(lambda x: (x == 'CORRECT').sum())\n",
    "llm_eval_predictions_df['INCORRECT_Count'] = llm_eval_predictions_df.groupby('llm')['score'].transform(lambda x: (x == 'INCORRECT').sum())\n",
    "llm_eval_predictions_df['llm_eval_accuracy'] = llm_eval_predictions_df['CORRECT_Count'] / (llm_eval_predictions_df['CORRECT_Count'] + llm_eval_predictions_df['INCORRECT_Count'])\n",
    "llm_eval_predictions_df['TOTAL_Count'] = llm_eval_predictions_df['CORRECT_Count'] + llm_eval_predictions_df['INCORRECT_Count']\n",
    "\n",
    "# remove all columns from dataframe except columns TOTAL_Count, CORRECT_Count, INCORRECT_Count, llm_eval_accuracy\n",
    "llm_eval_predictions_df = llm_eval_predictions_df[['llm','TOTAL_Count', 'CORRECT_Count', 'INCORRECT_Count', 'llm_eval_accuracy']]\n",
    "\n",
    "#remove all duplicate rows from llm_eval_predictions_df\n",
    "llm_eval_predictions_df = llm_eval_predictions_df.drop_duplicates()\n",
    "\n",
    "# Count the number of CORRECT and INCORRECT evaluations for each LLM and evaluation method\n",
    "string_eval_predictions_df = pd.DataFrame(string_eval_predictions)\n",
    "\n",
    "# get value of grouby column\n",
    "string_eval_predictions_df['llm'] = string_eval_predictions_df['llm'].str.strip()\n",
    "string_eval_predictions_df['CORRECT_Count'] = string_eval_predictions_df.groupby('llm')['score'].transform(lambda x: (x == 'CORRECT').sum())\n",
    "string_eval_predictions_df['INCORRECT_Count'] = string_eval_predictions_df.groupby('llm')['score'].transform(lambda x: (x == 'INCORRECT').sum())\n",
    "string_eval_predictions_df['jaccard_eval_accuracy'] = string_eval_predictions_df['CORRECT_Count'] / (string_eval_predictions_df['CORRECT_Count'] + string_eval_predictions_df['INCORRECT_Count'])\n",
    "string_eval_predictions_df['avg_jaccard_similarity'] = string_eval_predictions_df.groupby('llm')['feedback'].transform(lambda x: pd.to_numeric(x).mean())\n",
    "string_eval_predictions_df['TOTAL_Count'] = string_eval_predictions_df['CORRECT_Count'] + string_eval_predictions_df['INCORRECT_Count']\n",
    "\n",
    "# remove all columns from dataframe except columns TOTAL_Count, CORRECT_Count, INCORRECT_Count, llm_eval_accuracy\n",
    "string_eval_predictions_df = string_eval_predictions_df[['llm','TOTAL_Count', 'CORRECT_Count', 'INCORRECT_Count', 'jaccard_eval_accuracy','avg_jaccard_similarity']]\n",
    "\n",
    "#remove all duplicate rows from llm_eval_predictions_df\n",
    "string_eval_predictions_df = string_eval_predictions_df.drop_duplicates()\n",
    "\n",
    "\n",
    "# Count the number of CORRECT and INCORRECT evaluations for each LLM and evaluation method\n",
    "cosine_string_eval_predictions_df = pd.DataFrame(cosine_string_eval_predictions)\n",
    "\n",
    "# get value of grouby column\n",
    "cosine_string_eval_predictions_df['llm'] = cosine_string_eval_predictions_df['llm'].str.strip()\n",
    "cosine_string_eval_predictions_df['CORRECT_Count'] = cosine_string_eval_predictions_df.groupby('llm')['score'].transform(lambda x: (x == 'CORRECT').sum())\n",
    "cosine_string_eval_predictions_df['INCORRECT_Count'] = cosine_string_eval_predictions_df.groupby('llm')['score'].transform(lambda x: (x == 'INCORRECT').sum())\n",
    "cosine_string_eval_predictions_df['cosine_eval_accuracy'] = cosine_string_eval_predictions_df['CORRECT_Count'] / (cosine_string_eval_predictions_df['CORRECT_Count'] + cosine_string_eval_predictions_df['INCORRECT_Count'])\n",
    "cosine_string_eval_predictions_df['avg_cosine_similarity'] = cosine_string_eval_predictions_df.groupby('llm')['feedback'].transform(lambda x: pd.to_numeric(x).mean())\n",
    "cosine_string_eval_predictions_df['TOTAL_Count'] = cosine_string_eval_predictions_df['CORRECT_Count'] + cosine_string_eval_predictions_df['INCORRECT_Count']\n",
    "\n",
    "# remove all columns from dataframe except columns TOTAL_Count, CORRECT_Count, INCORRECT_Count, llm_eval_accuracy\n",
    "cosine_string_eval_predictions_df = cosine_string_eval_predictions_df[['llm','TOTAL_Count', 'CORRECT_Count', 'INCORRECT_Count', 'cosine_eval_accuracy','avg_cosine_similarity']]\n",
    "\n",
    "#remove all duplicate rows from llm_eval_predictions_df\n",
    "cosine_string_eval_predictions_df = cosine_string_eval_predictions_df.drop_duplicates()"
   ]
  },
  {
   "cell_type": "code",
   "execution_count": 76,
   "id": "3fcc35e5-d54d-4374-b5e6-a9c4ae402555",
   "metadata": {
    "tags": []
   },
   "outputs": [
    {
     "data": {
      "text/html": [
       "<div>\n",
       "<style scoped>\n",
       "    .dataframe tbody tr th:only-of-type {\n",
       "        vertical-align: middle;\n",
       "    }\n",
       "\n",
       "    .dataframe tbody tr th {\n",
       "        vertical-align: top;\n",
       "    }\n",
       "\n",
       "    .dataframe thead th {\n",
       "        text-align: right;\n",
       "    }\n",
       "</style>\n",
       "<table border=\"1\" class=\"dataframe\">\n",
       "  <thead>\n",
       "    <tr style=\"text-align: right;\">\n",
       "      <th></th>\n",
       "      <th>llm</th>\n",
       "      <th>avg_jaccard_similarity</th>\n",
       "    </tr>\n",
       "  </thead>\n",
       "  <tbody>\n",
       "    <tr>\n",
       "      <th>0</th>\n",
       "      <td>anthropic.claude-v2</td>\n",
       "      <td>0.576636</td>\n",
       "    </tr>\n",
       "    <tr>\n",
       "      <th>21</th>\n",
       "      <td>cohere.command-text-v14</td>\n",
       "      <td>0.511052</td>\n",
       "    </tr>\n",
       "    <tr>\n",
       "      <th>42</th>\n",
       "      <td>meta.llama2-13b-chat-v1</td>\n",
       "      <td>0.630041</td>\n",
       "    </tr>\n",
       "  </tbody>\n",
       "</table>\n",
       "</div>"
      ],
      "text/plain": [
       "                        llm  avg_jaccard_similarity\n",
       "0       anthropic.claude-v2                0.576636\n",
       "21  cohere.command-text-v14                0.511052\n",
       "42  meta.llama2-13b-chat-v1                0.630041"
      ]
     },
     "execution_count": 76,
     "metadata": {},
     "output_type": "execute_result"
    }
   ],
   "source": [
    "# show first 4 rows from jaccard_eval_predictions_df\n",
    "string_eval_predictions_df[['llm','avg_jaccard_similarity']]"
   ]
  },
  {
   "cell_type": "code",
   "execution_count": 77,
   "id": "db03b9e9-beaa-41b5-97e7-aff874fdbff3",
   "metadata": {
    "tags": []
   },
   "outputs": [
    {
     "data": {
      "text/html": [
       "<div>\n",
       "<style scoped>\n",
       "    .dataframe tbody tr th:only-of-type {\n",
       "        vertical-align: middle;\n",
       "    }\n",
       "\n",
       "    .dataframe tbody tr th {\n",
       "        vertical-align: top;\n",
       "    }\n",
       "\n",
       "    .dataframe thead th {\n",
       "        text-align: right;\n",
       "    }\n",
       "</style>\n",
       "<table border=\"1\" class=\"dataframe\">\n",
       "  <thead>\n",
       "    <tr style=\"text-align: right;\">\n",
       "      <th></th>\n",
       "      <th>llm</th>\n",
       "      <th>avg_cosine_similarity</th>\n",
       "    </tr>\n",
       "  </thead>\n",
       "  <tbody>\n",
       "    <tr>\n",
       "      <th>0</th>\n",
       "      <td>anthropic.claude-v2</td>\n",
       "      <td>0.582510</td>\n",
       "    </tr>\n",
       "    <tr>\n",
       "      <th>21</th>\n",
       "      <td>cohere.command-text-v14</td>\n",
       "      <td>0.335644</td>\n",
       "    </tr>\n",
       "    <tr>\n",
       "      <th>42</th>\n",
       "      <td>meta.llama2-13b-chat-v1</td>\n",
       "      <td>0.664545</td>\n",
       "    </tr>\n",
       "  </tbody>\n",
       "</table>\n",
       "</div>"
      ],
      "text/plain": [
       "                        llm  avg_cosine_similarity\n",
       "0       anthropic.claude-v2               0.582510\n",
       "21  cohere.command-text-v14               0.335644\n",
       "42  meta.llama2-13b-chat-v1               0.664545"
      ]
     },
     "execution_count": 77,
     "metadata": {},
     "output_type": "execute_result"
    }
   ],
   "source": [
    "# show first 4 rows from cosine_string_eval_predictions_df\n",
    "cosine_string_eval_predictions_df[['llm','avg_cosine_similarity']]"
   ]
  },
  {
   "cell_type": "code",
   "execution_count": 78,
   "id": "46da58f8-bc9b-40f4-89bd-c406dbb38324",
   "metadata": {
    "tags": []
   },
   "outputs": [
    {
     "data": {
      "text/html": [
       "<div>\n",
       "<style scoped>\n",
       "    .dataframe tbody tr th:only-of-type {\n",
       "        vertical-align: middle;\n",
       "    }\n",
       "\n",
       "    .dataframe tbody tr th {\n",
       "        vertical-align: top;\n",
       "    }\n",
       "\n",
       "    .dataframe thead th {\n",
       "        text-align: right;\n",
       "    }\n",
       "</style>\n",
       "<table border=\"1\" class=\"dataframe\">\n",
       "  <thead>\n",
       "    <tr style=\"text-align: right;\">\n",
       "      <th></th>\n",
       "      <th>llm</th>\n",
       "      <th>TOTAL_Count</th>\n",
       "      <th>CORRECT_Count</th>\n",
       "      <th>INCORRECT_Count</th>\n",
       "      <th>llm_eval_accuracy</th>\n",
       "    </tr>\n",
       "  </thead>\n",
       "  <tbody>\n",
       "    <tr>\n",
       "      <th>0</th>\n",
       "      <td>anthropic.claude-v2</td>\n",
       "      <td>21</td>\n",
       "      <td>19</td>\n",
       "      <td>2</td>\n",
       "      <td>0.904762</td>\n",
       "    </tr>\n",
       "    <tr>\n",
       "      <th>21</th>\n",
       "      <td>cohere.command-text-v14</td>\n",
       "      <td>21</td>\n",
       "      <td>17</td>\n",
       "      <td>4</td>\n",
       "      <td>0.809524</td>\n",
       "    </tr>\n",
       "    <tr>\n",
       "      <th>42</th>\n",
       "      <td>meta.llama2-13b-chat-v1</td>\n",
       "      <td>21</td>\n",
       "      <td>17</td>\n",
       "      <td>4</td>\n",
       "      <td>0.809524</td>\n",
       "    </tr>\n",
       "  </tbody>\n",
       "</table>\n",
       "</div>"
      ],
      "text/plain": [
       "                        llm  TOTAL_Count  CORRECT_Count  INCORRECT_Count  \\\n",
       "0       anthropic.claude-v2           21             19                2   \n",
       "21  cohere.command-text-v14           21             17                4   \n",
       "42  meta.llama2-13b-chat-v1           21             17                4   \n",
       "\n",
       "    llm_eval_accuracy  \n",
       "0            0.904762  \n",
       "21           0.809524  \n",
       "42           0.809524  "
      ]
     },
     "execution_count": 78,
     "metadata": {},
     "output_type": "execute_result"
    }
   ],
   "source": [
    "# show first 4 rows from llm_eval_predictions_df\n",
    "llm_eval_predictions_df.head(4)"
   ]
  },
  {
   "cell_type": "markdown",
   "id": "4015ff5e-ddb2-4b3e-a5f6-01d586d8a25c",
   "metadata": {},
   "source": [
    "LLM-assisted evaluation provides significant better evaluation results compared to string evaluation. Yet it does not provide insights into Faithfulness, Context Precision,Context Recall, Answer Relevancy,or Aspect Critiques), which would also be helpful for a RAG use case like this. This is where libraries like RAGAS and langsmith can be helpful."
   ]
  },
  {
   "cell_type": "code",
   "execution_count": 79,
   "id": "eecf90a4-a386-4462-b0a1-3645831d383d",
   "metadata": {
    "tags": []
   },
   "outputs": [
    {
     "name": "stdout",
     "output_type": "stream",
     "text": [
      "llm name: anthropic.claude-v2\n",
      "llm name: cohere.command-text-v14\n",
      "llm name: meta.llama2-13b-chat-v1\n"
     ]
    },
    {
     "data": {
      "image/png": "[encoded data removed]",
      "text/plain": [
       "<Figure size 640x480 with 1 Axes>"
      ]
     },
     "metadata": {},
     "output_type": "display_data"
    }
   ],
   "source": [
    "### 3f. visualize RAG system accuracy\n",
    "# plot each row' accuracy column in overall_accuracy with matplotlib\n",
    "import matplotlib.pyplot as plt\n",
    "import pandas as pd\n",
    "import numpy as np\n",
    "\n",
    "categories = [\"JaccardSimilarity Grader\", \"CosineSimilarity Grader\", \"LLM Grader\"]\n",
    "dataprep = []\n",
    "for index, row in llm_eval_predictions_df.iterrows():\n",
    "    llm_name = row['llm']\n",
    "    print(f'llm name: {llm_name}')\n",
    "    result_df = string_eval_predictions_df[string_eval_predictions_df['llm'] == llm_name]\n",
    "    value = result_df.loc[index, 'avg_jaccard_similarity']\n",
    "    result2_df = cosine_string_eval_predictions_df[cosine_string_eval_predictions_df['llm'] == llm_name]\n",
    "    value2 = result2_df.loc[index, 'avg_cosine_similarity']\n",
    "    \n",
    "    dataprep.append([llm_name, pd.to_numeric(value), pd.to_numeric(value2), pd.to_numeric(row['llm_eval_accuracy'])])\n",
    "\n",
    "data = {\n",
    "    'EvaluationMethod': categories,\n",
    "    dataprep[0][0] : dataprep[0][1:],\n",
    "    dataprep[1][0]: dataprep[1][1:],\n",
    "    dataprep[2][0]: dataprep[2][1:]\n",
    "}\n",
    "\n",
    "df = pd.DataFrame(data)\n",
    "\n",
    "# Set the width of the bars and the number of series\n",
    "num_series = len(df.columns) - 1  # Subtract 1 to exclude the 'Category' column\n",
    "bar_width = 0.2\n",
    "bar_positions = np.arange(len(df))\n",
    "\n",
    "# Create a figure and axis\n",
    "fig, ax = plt.subplots()\n",
    "\n",
    "# Plot each series\n",
    "for i, col in enumerate(df.columns[1:]):\n",
    "    offset = (i - (num_series - 1) / 2) * bar_width\n",
    "    ax.bar(bar_positions + offset, df[col], width=bar_width, label=col)\n",
    "\n",
    "# Set x-axis labels\n",
    "ax.set_xticks(bar_positions)\n",
    "ax.set_xticklabels(df['EvaluationMethod'])\n",
    "\n",
    "# Labeling and legend\n",
    "#ax.set_xlabel('Model Evaluation')\n",
    "ax.set_ylabel('Accuracy')\n",
    "ax.set_title('LLM Accuracy')\n",
    "ax.legend()\n",
    "\n",
    "# Show the chart\n",
    "plt.tight_layout()  # Optional: Adjust layout for better spacing\n",
    "plt.show()"
   ]
  },
  {
   "cell_type": "markdown",
   "id": "dd243dfa-7eab-4916-868b-243f57af4003",
   "metadata": {
    "tags": []
   },
   "source": [
    "<img src=\"https://d3q8adh3y5sxpk.cloudfront.net/meetingrecordings/modelevaluation/Slide5.jpeg\" alt=\"EvaluatingResults\" width=\"900\" height=\"550\">"
   ]
  },
  {
   "cell_type": "markdown",
   "id": "aa3ef605-2e48-4602-a607-329727a14dc2",
   "metadata": {
    "tags": []
   },
   "source": [
    "<p>Everything we went through in this notebook so far focused on Precision/Accuracy, yet speed and cost are two other important dimensions for model evaluation. </p>\n",
    "\n",
    "### Speed\n",
    "Amazon SageMaker provides Inference Recommender (https://docs.aws.amazon.com/sagemaker/latest/dg/inference-recommender.html), which automates load testing and model tuning across SageMaker ML instances. You can use Inference Recommender to deploy your model to an inference endpoint that delivers the best performance at the lowest cost. Inference Recommender helps you select the best instance type and configuration (such as instance count, container parameters, and model optimizations). \n",
    " \n",
    "Given that this is information extraction and is not part of a real-time workflow, speed is 3rd / no priority in this model selection. \n",
    " \n",
    "### Cost\n",
    "All three LLMs are now available via Amazon Bedrock. For latest pricing information, please refer to  \n",
    "https://aws.amazon.com/bedrock/pricing/. \n",
    " \n",
    "While Llama2 is available via Amazon Bedrock, it is also available via Amazon SageMaker (including smaller versions like Llama2 7B), which can make a difference at scale. For example assuming 1 million documents, a Llama2 7B model runtime would be 57.8 days (=5*1000000/60/60/24) with a total cost of 2108 dollar compared to 17850 dollar for Claude or 8750 dollar for Command on Amazon Bedrock.\n",
    "</p>"
   ]
  },
  {
   "cell_type": "markdown",
   "id": "1c6c8ca6-57c0-4422-984f-03bef10f2c63",
   "metadata": {},
   "source": [
    "# What can be improved in the evaluation strategy?\n",
    "- Use other metrics than accuracy. Maybe a semantic similarity metric like the one proposed in \"Semantic Answer Similarity for Evaluating Question Answering Models\" (arXiv:2108.06130).\n",
    "\n",
    "- Evaluate each component of the system in isolation. For example evaluate the retrieval system/strategy separately and not just the entire pipeline as a whole. You could evaluate the retrieval system by saving the chunks that were used/are relevant for the actual answer alongside with the questions and answers in the evaluation dataset. Then you can compare/evaluate which top k chunks are being selected during the evaluation and whether or not the retriever selected a chunk with the source truth and at which rank and experiment with the different retriever options and chain types.\n",
    "\n",
    "- Explore chains/parsers/tools in conjunction with LLMs, e.g. contextual compressors & filters in RAG, eparse (https://github.com/ChrisPappalardo/eparse), unstructured (https://github.com/Unstructured-IO/unstructured), and/or Kor (https://eyurtsev.github.io/kor/tutorial.html)\n",
    "\n",
    "- Instead of Claude V2/LLama use a different LLM as Grader, e.g. Falcon 180B, to avoid/minimize bias in the evaluation\n",
    "\n",
    "- Leverage LLM evaluation frameworks such as langsmith, ragas, langtest etc\n",
    "\n",
    "- Incorporate other dimensions such as performance/latency and cost in more detail into the evaluation as well to derive at a cost performance benchmark"
   ]
  },
  {
   "cell_type": "markdown",
   "id": "3b6879cd-dee2-49b9-89bc-e15f5479adc0",
   "metadata": {},
   "source": [
    "# Conclusion\n",
    "- LLMs are here to stay, and the evaluation of LLMs is still evolving, with new research and tooling being released on a regular basis.\n",
    "- While this notebook focused on LLM accuracy, it also highlights the importance of other dimesions such as cost and latency, and outlines a practical approach to large language model evaluation."
   ]
  },
  {
   "cell_type": "markdown",
   "id": "eb5da08b",
   "metadata": {},
   "source": [
    "## NEW\n",
    "### SageMaker Clarify FM Eval\n",
    "Use the FMEval library to evaluate the RAG systems on factual knowledge."
   ]
  },
  {
   "cell_type": "code",
   "execution_count": 81,
   "id": "bb1fae17",
   "metadata": {},
   "outputs": [
    {
     "name": "stdout",
     "output_type": "stream",
     "text": [
      "fmeval                    0.3.0\n",
      "pandas                    2.1.3\n",
      "\n",
      "\u001b[1m[\u001b[0m\u001b[34;49mnotice\u001b[0m\u001b[1;39;49m]\u001b[0m\u001b[39;49m A new release of pip is available: \u001b[0m\u001b[31;49m23.0.1\u001b[0m\u001b[39;49m -> \u001b[0m\u001b[32;49m24.0\u001b[0m\n",
      "\u001b[1m[\u001b[0m\u001b[34;49mnotice\u001b[0m\u001b[1;39;49m]\u001b[0m\u001b[39;49m To update, run: \u001b[0m\u001b[32;49mpip install --upgrade pip\u001b[0m\n"
     ]
    }
   ],
   "source": [
    "# 1. Verify libraries dependencies\n",
    "## if you are on mac and get an error try the below workaround to fix the Rust installation on MacOS:\n",
    "## curl --proto '=https' --tlsv1.2 -sSf https://sh.rustup.rs | sh\n",
    "## rustup install 1.72.1\n",
    "## rustup default 1.72.1-aarch64-apple-darwin\n",
    "## rustup toolchain remove stable-aarch64-apple-darwin\n",
    "## rm -rf $HOME/.rustup/toolchains/stable-aarch64-apple-darwin\n",
    "## mv $HOME/.rustup/toolchains/1.72.1-aarch64-apple-darwin $HOME/.rustup/toolchains/stable-aarch64-apple-darwin\n",
    "\n",
    "!pip list | grep -E \"fmeval|pandas\""
   ]
  },
  {
   "cell_type": "code",
   "execution_count": 82,
   "id": "761c1568",
   "metadata": {},
   "outputs": [],
   "source": [
    "import pandas as pd\n",
    "predictions_run_df = pd.read_csv('eval_run_predictions.csv')"
   ]
  },
  {
   "cell_type": "code",
   "execution_count": 95,
   "id": "7af5fb63",
   "metadata": {},
   "outputs": [
    {
     "name": "stdout",
     "output_type": "stream",
     "text": [
      "None\n",
      "None\n",
      "None\n"
     ]
    }
   ],
   "source": [
    "\n",
    "import re\n",
    "\n",
    "# Function to remove XML tags\n",
    "def remove_xml_tags(text):\n",
    "    clean_text = re.sub(r'<[^>]+>', '', text)\n",
    "    return clean_text\n",
    "\n",
    "# create eval dataset\n",
    "eval_df = predictions_run_df\n",
    "\n",
    "# remove unnecessary columns\n",
    "eval_df = eval_df.drop(['trainingcontext', 'context','evaluationmetric', 'feedback','score'], axis=1)\n",
    "\n",
    "# Apply the function to the column\n",
    "eval_df['output'] = eval_df['output'].apply(remove_xml_tags)\n",
    "\n",
    "# create separate dataframe for each llm\n",
    "claude_eval_df = eval_df[eval_df['llm'] == 'anthropic.claude-v2']\n",
    "cohere_eval_df = eval_df[eval_df['llm'] == 'cohere.command-text-v14']\n",
    "llama_eval_df = eval_df[eval_df['llm'] == 'meta.llama2-13b-chat-v1']\n",
    "\n",
    "# Output in JSONL format\n",
    "claude_eval_df.to_json(orient='records', lines=True)\n",
    "filepath = \"rag_claude_with_model_outputs.jsonl\"\n",
    "print(claude_eval_df.to_json(filepath, orient='records', lines=True))\n",
    "\n",
    "cohere_eval_df.to_json(orient='records', lines=True)\n",
    "filepath = \"rag_cohere_with_model_outputs.jsonl\"\n",
    "print(cohere_eval_df.to_json(filepath, orient='records', lines=True))\n",
    "\n",
    "llama_eval_df.to_json(orient='records', lines=True)\n",
    "filepath = \"rag_llama_with_model_outputs.jsonl\"\n",
    "print(llama_eval_df.to_json(filepath, orient='records', lines=True))"
   ]
  },
  {
   "cell_type": "code",
   "execution_count": 96,
   "id": "28fca95a",
   "metadata": {},
   "outputs": [],
   "source": [
    "# 4. Data Config Setup\n",
    "## Below, we create a DataConfig for the local dataset file, trex_sample.jsonl.\n",
    "## - `dataset_name` is just an identifier for your own reference\n",
    "## - `dataset_uri` is either a local path to a file or an S3 URI\n",
    "## - `dataset_mime_type` is the MIME type of the dataset. Currently, JSON and JSON Lines are supported.\n",
    "## - `model_input_location` and `target_output_location` are JMESPath queries used to find the model inputs and target outputs within the dataset. \n",
    "##    The values that you specify here depend on the structure of the dataset itself.\n",
    "\n",
    "from fmeval.data_loaders.data_config import DataConfig\n",
    "from fmeval.constants import MIME_TYPE_JSONLINES\n",
    "from fmeval.eval_algorithms.factual_knowledge import FactualKnowledge, FactualKnowledgeConfig\n",
    "\n",
    "claude_config = DataConfig(\n",
    "    dataset_name=\"rag_claude_with_model_outputs\",\n",
    "    dataset_uri=\"./rag_claude_with_model_outputs.jsonl\",\n",
    "    dataset_mime_type=MIME_TYPE_JSONLINES,\n",
    "    model_input_location=\"query\",\n",
    "    target_output_location=\"trainingoutput\",\n",
    "    model_output_location=\"output\"\n",
    ")\n",
    "\n",
    "cohere_config = DataConfig(\n",
    "    dataset_name=\"rag_cohere_with_model_outputs\",\n",
    "    dataset_uri=\"./rag_cohere_with_model_outputs.jsonl\",\n",
    "    dataset_mime_type=MIME_TYPE_JSONLINES,\n",
    "    model_input_location=\"query\",\n",
    "    target_output_location=\"trainingoutput\",\n",
    "    model_output_location=\"output\"\n",
    ")\n",
    "\n",
    "llama_config = DataConfig(\n",
    "    dataset_name=\"rag_llama_with_model_outputs\",\n",
    "    dataset_uri=\"./rag_llama_with_model_outputs.jsonl\",\n",
    "    dataset_mime_type=MIME_TYPE_JSONLINES,\n",
    "    model_input_location=\"query\",\n",
    "    target_output_location=\"trainingoutput\",\n",
    "    model_output_location=\"output\"\n",
    ")"
   ]
  },
  {
   "cell_type": "code",
   "execution_count": 97,
   "id": "8c2a9a5c",
   "metadata": {},
   "outputs": [
    {
     "name": "stderr",
     "output_type": "stream",
     "text": [
      "2024-02-06 22:20:32,034\tINFO read_api.py:406 -- To satisfy the requested parallelism of 20, each read task output is split into 20 smaller blocks.\n"
     ]
    },
    {
     "name": "stdout",
     "output_type": "stream",
     "text": [
      "Dataset(\n",
      "   num_blocks=20,\n",
      "   num_rows=21,\n",
      "   schema={model_input: string, model_output: string, target_output: string}\n",
      ")\n"
     ]
    },
    {
     "name": "stderr",
     "output_type": "stream",
     "text": [
      "/Users/huthmac/.pyenv/versions/3.10.13/envs/fmeval/lib/python3.10/site-packages/ray/data/_internal/arrow_block.py:128: FutureWarning: promote has been superseded by promote_options='default'.\n",
      "  return transform_pyarrow.concat(tables)\n",
      "2024-02-06 22:20:32,065\tINFO streaming_executor.py:93 -- Executing DAG InputDataBuffer[Input] -> AllToAllOperator[Repartition]\n",
      "2024-02-06 22:20:32,066\tINFO streaming_executor.py:94 -- Execution config: ExecutionOptions(resource_limits=ExecutionResources(cpu=None, gpu=None, object_store_memory=None), locality_with_output=False, preserve_order=True, actor_locality_enabled=True, verbose_progress=False)\n",
      "2024-02-06 22:20:32,067\tINFO streaming_executor.py:96 -- Tip: For detailed progress reporting, run `ray.data.DataContext.get_current().execution_options.verbose_progress = True`\n",
      "\n",
      "\u001b[A\n",
      "                                                                                                                  \n",
      "\u001b[A\n",
      "\u001b[A2024-02-06 22:20:32,161\tINFO streaming_executor.py:93 -- Executing DAG InputDataBuffer[Input] -> TaskPoolMapOperator[Map(_generate_eval_scores)] -> AllToAllOperator[Aggregate] -> LimitOperator[limit=1]\n",
      "2024-02-06 22:20:32,162\tINFO streaming_executor.py:94 -- Execution config: ExecutionOptions(resource_limits=ExecutionResources(cpu=None, gpu=None, object_store_memory=None), locality_with_output=False, preserve_order=True, actor_locality_enabled=True, verbose_progress=False)\n",
      "2024-02-06 22:20:32,163\tINFO streaming_executor.py:96 -- Tip: For detailed progress reporting, run `ray.data.DataContext.get_current().execution_options.verbose_progress = True`\n",
      "\n",
      "\u001b[A\n",
      "\u001b[A\n",
      "\n",
      "\u001b[A\u001b[A\n",
      "\n",
      "                                                                                                                \n",
      "\u001b[A\n",
      "\n",
      "\u001b[A\u001b[A\n",
      "\n",
      "\u001b[A\u001b[A2024-02-06 22:20:32,266\tINFO streaming_executor.py:93 -- Executing DAG InputDataBuffer[Input] -> TaskPoolMapOperator[Map(_generate_eval_scores)] -> LimitOperator[limit=1]\n",
      "2024-02-06 22:20:32,267\tINFO streaming_executor.py:94 -- Execution config: ExecutionOptions(resource_limits=ExecutionResources(cpu=None, gpu=None, object_store_memory=None), locality_with_output=False, preserve_order=True, actor_locality_enabled=True, verbose_progress=False)\n",
      "2024-02-06 22:20:32,267\tINFO streaming_executor.py:96 -- Tip: For detailed progress reporting, run `ray.data.DataContext.get_current().execution_options.verbose_progress = True`\n",
      "2024-02-06 22:20:32,306\tINFO streaming_executor.py:93 -- Executing DAG InputDataBuffer[Input] -> TaskPoolMapOperator[Map(_generate_eval_scores)->Map(<lambda>)]\n",
      "2024-02-06 22:20:32,307\tINFO streaming_executor.py:94 -- Execution config: ExecutionOptions(resource_limits=ExecutionResources(cpu=None, gpu=None, object_store_memory=None), locality_with_output=False, preserve_order=True, actor_locality_enabled=True, verbose_progress=False)\n",
      "2024-02-06 22:20:32,307\tINFO streaming_executor.py:96 -- Tip: For detailed progress reporting, run `ray.data.DataContext.get_current().execution_options.verbose_progress = True`\n",
      "2024-02-06 22:20:32,359\tINFO streaming_executor.py:93 -- Executing DAG InputDataBuffer[Input] -> TaskPoolMapOperator[Map(_generate_eval_scores)->Map(<lambda>)]\n",
      "2024-02-06 22:20:32,360\tINFO streaming_executor.py:94 -- Execution config: ExecutionOptions(resource_limits=ExecutionResources(cpu=None, gpu=None, object_store_memory=None), locality_with_output=False, preserve_order=True, actor_locality_enabled=True, verbose_progress=False)\n",
      "2024-02-06 22:20:32,360\tINFO streaming_executor.py:96 -- Tip: For detailed progress reporting, run `ray.data.DataContext.get_current().execution_options.verbose_progress = True`\n",
      "2024-02-06 22:20:32,420\tINFO read_api.py:406 -- To satisfy the requested parallelism of 20, each read task output is split into 20 smaller blocks.\n"
     ]
    },
    {
     "name": "stdout",
     "output_type": "stream",
     "text": [
      "Dataset(\n",
      "   num_blocks=20,\n",
      "   num_rows=21,\n",
      "   schema={model_input: string, model_output: string, target_output: string}\n",
      ")\n"
     ]
    },
    {
     "name": "stderr",
     "output_type": "stream",
     "text": [
      "/Users/huthmac/.pyenv/versions/3.10.13/envs/fmeval/lib/python3.10/site-packages/ray/data/_internal/arrow_block.py:128: FutureWarning: promote has been superseded by promote_options='default'.\n",
      "  return transform_pyarrow.concat(tables)\n",
      "2024-02-06 22:20:32,444\tINFO streaming_executor.py:93 -- Executing DAG InputDataBuffer[Input] -> AllToAllOperator[Repartition]\n",
      "2024-02-06 22:20:32,445\tINFO streaming_executor.py:94 -- Execution config: ExecutionOptions(resource_limits=ExecutionResources(cpu=None, gpu=None, object_store_memory=None), locality_with_output=False, preserve_order=True, actor_locality_enabled=True, verbose_progress=False)\n",
      "2024-02-06 22:20:32,445\tINFO streaming_executor.py:96 -- Tip: For detailed progress reporting, run `ray.data.DataContext.get_current().execution_options.verbose_progress = True`\n",
      "\n",
      "\u001b[A\n",
      "                                                                                                                  \n",
      "\u001b[A\n",
      "\u001b[A2024-02-06 22:20:32,488\tINFO streaming_executor.py:93 -- Executing DAG InputDataBuffer[Input] -> TaskPoolMapOperator[Map(_generate_eval_scores)] -> AllToAllOperator[Aggregate] -> LimitOperator[limit=1]\n",
      "2024-02-06 22:20:32,489\tINFO streaming_executor.py:94 -- Execution config: ExecutionOptions(resource_limits=ExecutionResources(cpu=None, gpu=None, object_store_memory=None), locality_with_output=False, preserve_order=True, actor_locality_enabled=True, verbose_progress=False)\n",
      "2024-02-06 22:20:32,490\tINFO streaming_executor.py:96 -- Tip: For detailed progress reporting, run `ray.data.DataContext.get_current().execution_options.verbose_progress = True`\n",
      "\n",
      "\u001b[A\n",
      "\u001b[A\n",
      "\n",
      "\u001b[A\u001b[A\n",
      "\n",
      "                                                                                                                \n",
      "\u001b[A\n",
      "\n",
      "\u001b[A\u001b[A\n",
      "\n",
      "\u001b[A\u001b[A2024-02-06 22:20:32,581\tINFO streaming_executor.py:93 -- Executing DAG InputDataBuffer[Input] -> TaskPoolMapOperator[Map(_generate_eval_scores)] -> LimitOperator[limit=1]\n",
      "2024-02-06 22:20:32,581\tINFO streaming_executor.py:94 -- Execution config: ExecutionOptions(resource_limits=ExecutionResources(cpu=None, gpu=None, object_store_memory=None), locality_with_output=False, preserve_order=True, actor_locality_enabled=True, verbose_progress=False)\n",
      "2024-02-06 22:20:32,582\tINFO streaming_executor.py:96 -- Tip: For detailed progress reporting, run `ray.data.DataContext.get_current().execution_options.verbose_progress = True`\n",
      "2024-02-06 22:20:32,621\tINFO streaming_executor.py:93 -- Executing DAG InputDataBuffer[Input] -> TaskPoolMapOperator[Map(_generate_eval_scores)->Map(<lambda>)]\n",
      "2024-02-06 22:20:32,621\tINFO streaming_executor.py:94 -- Execution config: ExecutionOptions(resource_limits=ExecutionResources(cpu=None, gpu=None, object_store_memory=None), locality_with_output=False, preserve_order=True, actor_locality_enabled=True, verbose_progress=False)\n",
      "2024-02-06 22:20:32,622\tINFO streaming_executor.py:96 -- Tip: For detailed progress reporting, run `ray.data.DataContext.get_current().execution_options.verbose_progress = True`\n",
      "2024-02-06 22:20:32,673\tINFO streaming_executor.py:93 -- Executing DAG InputDataBuffer[Input] -> TaskPoolMapOperator[Map(_generate_eval_scores)->Map(<lambda>)]\n",
      "2024-02-06 22:20:32,673\tINFO streaming_executor.py:94 -- Execution config: ExecutionOptions(resource_limits=ExecutionResources(cpu=None, gpu=None, object_store_memory=None), locality_with_output=False, preserve_order=True, actor_locality_enabled=True, verbose_progress=False)\n",
      "2024-02-06 22:20:32,673\tINFO streaming_executor.py:96 -- Tip: For detailed progress reporting, run `ray.data.DataContext.get_current().execution_options.verbose_progress = True`\n",
      "2024-02-06 22:20:32,734\tINFO read_api.py:406 -- To satisfy the requested parallelism of 20, each read task output is split into 20 smaller blocks.\n"
     ]
    },
    {
     "name": "stdout",
     "output_type": "stream",
     "text": [
      "Dataset(\n",
      "   num_blocks=20,\n",
      "   num_rows=21,\n",
      "   schema={model_input: string, model_output: string, target_output: string}\n",
      ")\n"
     ]
    },
    {
     "name": "stderr",
     "output_type": "stream",
     "text": [
      "/Users/huthmac/.pyenv/versions/3.10.13/envs/fmeval/lib/python3.10/site-packages/ray/data/_internal/arrow_block.py:128: FutureWarning: promote has been superseded by promote_options='default'.\n",
      "  return transform_pyarrow.concat(tables)\n",
      "2024-02-06 22:20:32,756\tINFO streaming_executor.py:93 -- Executing DAG InputDataBuffer[Input] -> AllToAllOperator[Repartition]\n",
      "2024-02-06 22:20:32,756\tINFO streaming_executor.py:94 -- Execution config: ExecutionOptions(resource_limits=ExecutionResources(cpu=None, gpu=None, object_store_memory=None), locality_with_output=False, preserve_order=True, actor_locality_enabled=True, verbose_progress=False)\n",
      "2024-02-06 22:20:32,757\tINFO streaming_executor.py:96 -- Tip: For detailed progress reporting, run `ray.data.DataContext.get_current().execution_options.verbose_progress = True`\n",
      "\n",
      "\u001b[A\n",
      "                                                                                                                  \n",
      "\u001b[A\n",
      "\u001b[A2024-02-06 22:20:32,800\tINFO streaming_executor.py:93 -- Executing DAG InputDataBuffer[Input] -> TaskPoolMapOperator[Map(_generate_eval_scores)] -> AllToAllOperator[Aggregate] -> LimitOperator[limit=1]\n",
      "2024-02-06 22:20:32,800\tINFO streaming_executor.py:94 -- Execution config: ExecutionOptions(resource_limits=ExecutionResources(cpu=None, gpu=None, object_store_memory=None), locality_with_output=False, preserve_order=True, actor_locality_enabled=True, verbose_progress=False)\n",
      "2024-02-06 22:20:32,801\tINFO streaming_executor.py:96 -- Tip: For detailed progress reporting, run `ray.data.DataContext.get_current().execution_options.verbose_progress = True`\n",
      "\n",
      "\u001b[A\n",
      "\u001b[A\n",
      "\n",
      "\u001b[A\u001b[A\n",
      "\n",
      "                                                                                                                 \n",
      "\u001b[A\n",
      "\n",
      "\u001b[A\u001b[A\n",
      "\n",
      "\u001b[A\u001b[A2024-02-06 22:20:32,908\tINFO streaming_executor.py:93 -- Executing DAG InputDataBuffer[Input] -> TaskPoolMapOperator[Map(_generate_eval_scores)] -> LimitOperator[limit=1]\n",
      "2024-02-06 22:20:32,909\tINFO streaming_executor.py:94 -- Execution config: ExecutionOptions(resource_limits=ExecutionResources(cpu=None, gpu=None, object_store_memory=None), locality_with_output=False, preserve_order=True, actor_locality_enabled=True, verbose_progress=False)\n",
      "2024-02-06 22:20:32,909\tINFO streaming_executor.py:96 -- Tip: For detailed progress reporting, run `ray.data.DataContext.get_current().execution_options.verbose_progress = True`\n",
      "2024-02-06 22:20:32,948\tINFO streaming_executor.py:93 -- Executing DAG InputDataBuffer[Input] -> TaskPoolMapOperator[Map(_generate_eval_scores)->Map(<lambda>)]\n",
      "2024-02-06 22:20:32,949\tINFO streaming_executor.py:94 -- Execution config: ExecutionOptions(resource_limits=ExecutionResources(cpu=None, gpu=None, object_store_memory=None), locality_with_output=False, preserve_order=True, actor_locality_enabled=True, verbose_progress=False)\n",
      "2024-02-06 22:20:32,949\tINFO streaming_executor.py:96 -- Tip: For detailed progress reporting, run `ray.data.DataContext.get_current().execution_options.verbose_progress = True`\n",
      "2024-02-06 22:20:33,004\tINFO streaming_executor.py:93 -- Executing DAG InputDataBuffer[Input] -> TaskPoolMapOperator[Map(_generate_eval_scores)->Map(<lambda>)]\n",
      "2024-02-06 22:20:33,005\tINFO streaming_executor.py:94 -- Execution config: ExecutionOptions(resource_limits=ExecutionResources(cpu=None, gpu=None, object_store_memory=None), locality_with_output=False, preserve_order=True, actor_locality_enabled=True, verbose_progress=False)\n",
      "2024-02-06 22:20:33,005\tINFO streaming_executor.py:96 -- Tip: For detailed progress reporting, run `ray.data.DataContext.get_current().execution_options.verbose_progress = True`\n",
      "                                                                                                                 \r"
     ]
    }
   ],
   "source": [
    "eval_algo = FactualKnowledge(FactualKnowledgeConfig(target_output_delimiter=\"<OR>\"))\n",
    "claude_eval_output = eval_algo.evaluate(dataset_config=claude_config, save=True)\n",
    "cohere_eval_output = eval_algo.evaluate(dataset_config=cohere_config, save=True)\n",
    "llama_eval_output = eval_algo.evaluate(dataset_config=llama_config, save=True)"
   ]
  },
  {
   "cell_type": "code",
   "execution_count": 99,
   "id": "9e11414e",
   "metadata": {},
   "outputs": [
    {
     "name": "stdout",
     "output_type": "stream",
     "text": [
      "[\n",
      "    {\n",
      "        \"eval_name\": \"factual_knowledge\",\n",
      "        \"dataset_name\": \"rag_claude_with_model_outputs\",\n",
      "        \"dataset_scores\": [\n",
      "            {\n",
      "                \"name\": \"factual_knowledge\",\n",
      "                \"value\": 0.047619047619047616\n",
      "            }\n",
      "        ],\n",
      "        \"prompt_template\": null,\n",
      "        \"category_scores\": null,\n",
      "        \"output_path\": \"/tmp/eval_results/factual_knowledge_rag_claude_with_model_outputs.jsonl\",\n",
      "        \"error\": null\n",
      "    }\n",
      "]\n",
      "[\n",
      "    {\n",
      "        \"eval_name\": \"factual_knowledge\",\n",
      "        \"dataset_name\": \"rag_cohere_with_model_outputs\",\n",
      "        \"dataset_scores\": [\n",
      "            {\n",
      "                \"name\": \"factual_knowledge\",\n",
      "                \"value\": 0.0\n",
      "            }\n",
      "        ],\n",
      "        \"prompt_template\": null,\n",
      "        \"category_scores\": null,\n",
      "        \"output_path\": \"/tmp/eval_results/factual_knowledge_rag_cohere_with_model_outputs.jsonl\",\n",
      "        \"error\": null\n",
      "    }\n",
      "]\n",
      "[\n",
      "    {\n",
      "        \"eval_name\": \"factual_knowledge\",\n",
      "        \"dataset_name\": \"rag_llama_with_model_outputs\",\n",
      "        \"dataset_scores\": [\n",
      "            {\n",
      "                \"name\": \"factual_knowledge\",\n",
      "                \"value\": 0.047619047619047616\n",
      "            }\n",
      "        ],\n",
      "        \"prompt_template\": null,\n",
      "        \"category_scores\": null,\n",
      "        \"output_path\": \"/tmp/eval_results/factual_knowledge_rag_llama_with_model_outputs.jsonl\",\n",
      "        \"error\": null\n",
      "    }\n",
      "]\n"
     ]
    }
   ],
   "source": [
    "# Pretty-print the evaluation output (notice the score).\n",
    "import json\n",
    "print(json.dumps(claude_eval_output, default=vars, indent=4))\n",
    "print(json.dumps(cohere_eval_output, default=vars, indent=4))\n",
    "print(json.dumps(llama_eval_output, default=vars, indent=4))"
   ]
  },
  {
   "cell_type": "code",
   "execution_count": 101,
   "id": "b4deb838",
   "metadata": {},
   "outputs": [
    {
     "data": {
      "text/html": [
       "<div>\n",
       "<style scoped>\n",
       "    .dataframe tbody tr th:only-of-type {\n",
       "        vertical-align: middle;\n",
       "    }\n",
       "\n",
       "    .dataframe tbody tr th {\n",
       "        vertical-align: top;\n",
       "    }\n",
       "\n",
       "    .dataframe thead th {\n",
       "        text-align: right;\n",
       "    }\n",
       "</style>\n",
       "<table border=\"1\" class=\"dataframe\">\n",
       "  <thead>\n",
       "    <tr style=\"text-align: right;\">\n",
       "      <th></th>\n",
       "      <th>model_input</th>\n",
       "      <th>model_output</th>\n",
       "      <th>target_output</th>\n",
       "      <th>scores</th>\n",
       "      <th>eval_algo</th>\n",
       "      <th>eval_score</th>\n",
       "    </tr>\n",
       "  </thead>\n",
       "  <tbody>\n",
       "    <tr>\n",
       "      <th>0</th>\n",
       "      <td>What is the name of Amazon's satellite broadba...</td>\n",
       "      <td>\\n\\nProject Kuiper\\n</td>\n",
       "      <td>There is not enough information available to a...</td>\n",
       "      <td>[{'name': 'factual_knowledge', 'value': 0}]</td>\n",
       "      <td>factual_knowledge</td>\n",
       "      <td>0</td>\n",
       "    </tr>\n",
       "    <tr>\n",
       "      <th>1</th>\n",
       "      <td>What shipping challenges does Amazon face?</td>\n",
       "      <td>\\n\\nAmazon faces several shipping challenges, ...</td>\n",
       "      <td>Amazon faces a number of shipping challenges. ...</td>\n",
       "      <td>[{'name': 'factual_knowledge', 'value': 0}]</td>\n",
       "      <td>factual_knowledge</td>\n",
       "      <td>0</td>\n",
       "    </tr>\n",
       "    <tr>\n",
       "      <th>2</th>\n",
       "      <td>How much outstanding borrowings is under Amazo...</td>\n",
       "      <td>\\n\\n$6.8 billion\\n</td>\n",
       "      <td>$6.8 billion of borrowings outstanding under t...</td>\n",
       "      <td>[{'name': 'factual_knowledge', 'value': 0}]</td>\n",
       "      <td>factual_knowledge</td>\n",
       "      <td>0</td>\n",
       "    </tr>\n",
       "    <tr>\n",
       "      <th>3</th>\n",
       "      <td>Where in the financial statements is the forei...</td>\n",
       "      <td>\\n\\nThe foreign exchange rate effect informati...</td>\n",
       "      <td>It is provided under the header \"Effect of For...</td>\n",
       "      <td>[{'name': 'factual_knowledge', 'value': 0}]</td>\n",
       "      <td>factual_knowledge</td>\n",
       "      <td>0</td>\n",
       "    </tr>\n",
       "    <tr>\n",
       "      <th>4</th>\n",
       "      <td>What external events could negatively impact A...</td>\n",
       "      <td>\\n\\nNatural or human-caused disasters (includi...</td>\n",
       "      <td>Natural disasters, extreme weather, geopolitic...</td>\n",
       "      <td>[{'name': 'factual_knowledge', 'value': 0}]</td>\n",
       "      <td>factual_knowledge</td>\n",
       "      <td>0</td>\n",
       "    </tr>\n",
       "    <tr>\n",
       "      <th>5</th>\n",
       "      <td>Wjat is the total square footage of office spa...</td>\n",
       "      <td>\\n\\n30,611\\n</td>\n",
       "      <td>Total office space leased in north america is ...</td>\n",
       "      <td>[{'name': 'factual_knowledge', 'value': 0}]</td>\n",
       "      <td>factual_knowledge</td>\n",
       "      <td>0</td>\n",
       "    </tr>\n",
       "    <tr>\n",
       "      <th>6</th>\n",
       "      <td>What was the total cash paid for income taxes ...</td>\n",
       "      <td>\\n\\nThe total cash paid for income taxes in 20...</td>\n",
       "      <td>The total cash paid for income taxes is $6.035...</td>\n",
       "      <td>[{'name': 'factual_knowledge', 'value': 0}]</td>\n",
       "      <td>factual_knowledge</td>\n",
       "      <td>0</td>\n",
       "    </tr>\n",
       "    <tr>\n",
       "      <th>7</th>\n",
       "      <td>Who is Amazon's Senior Vice President and Gene...</td>\n",
       "      <td>\\n\\nDavid A. Zapolsky\\n</td>\n",
       "      <td>David A. Zapolsky is the Senior Vice President...</td>\n",
       "      <td>[{'name': 'factual_knowledge', 'value': 0}]</td>\n",
       "      <td>factual_knowledge</td>\n",
       "      <td>0</td>\n",
       "    </tr>\n",
       "    <tr>\n",
       "      <th>8</th>\n",
       "      <td>What is Amazon's operating income in 2021</td>\n",
       "      <td>\\n\\n$33,364 million\\n</td>\n",
       "      <td>Amazon's operating income in 2021 is $24,879 m...</td>\n",
       "      <td>[{'name': 'factual_knowledge', 'value': 0}]</td>\n",
       "      <td>factual_knowledge</td>\n",
       "      <td>0</td>\n",
       "    </tr>\n",
       "    <tr>\n",
       "      <th>9</th>\n",
       "      <td>What are the three primary customer sets Amazo...</td>\n",
       "      <td>\\n\\n- Customers (who buy products and services...</td>\n",
       "      <td>Amazon primary customer sets are consumers, se...</td>\n",
       "      <td>[{'name': 'factual_knowledge', 'value': 0}]</td>\n",
       "      <td>factual_knowledge</td>\n",
       "      <td>0</td>\n",
       "    </tr>\n",
       "    <tr>\n",
       "      <th>10</th>\n",
       "      <td>What did Amazon do with their common stock on ...</td>\n",
       "      <td>\\n\\nAmazon did not do anything with their comm...</td>\n",
       "      <td>On May 27, 2022, AMZN effected a 20-for-1 stoc...</td>\n",
       "      <td>[{'name': 'factual_knowledge', 'value': 0}]</td>\n",
       "      <td>factual_knowledge</td>\n",
       "      <td>0</td>\n",
       "    </tr>\n",
       "    <tr>\n",
       "      <th>11</th>\n",
       "      <td>What were the company's key areas of investment?</td>\n",
       "      <td>\\n\\nThe company's key areas of investment were...</td>\n",
       "      <td>Key areas of investment: devices; digital cont...</td>\n",
       "      <td>[{'name': 'factual_knowledge', 'value': 0}]</td>\n",
       "      <td>factual_knowledge</td>\n",
       "      <td>0</td>\n",
       "    </tr>\n",
       "    <tr>\n",
       "      <th>12</th>\n",
       "      <td>What is the international business operating i...</td>\n",
       "      <td>\\n\\nnot available\\n</td>\n",
       "      <td>Amazon internation business has a loss of $924...</td>\n",
       "      <td>[{'name': 'factual_knowledge', 'value': 0}]</td>\n",
       "      <td>factual_knowledge</td>\n",
       "      <td>0</td>\n",
       "    </tr>\n",
       "    <tr>\n",
       "      <th>13</th>\n",
       "      <td>How much was AWS sales growth in 2022?</td>\n",
       "      <td>\\n\\nAWS sales increased 29% in 2022, compared ...</td>\n",
       "      <td>AWS sales increased 29% in 2022, compared to t...</td>\n",
       "      <td>[{'name': 'factual_knowledge', 'value': 1}]</td>\n",
       "      <td>factual_knowledge</td>\n",
       "      <td>1</td>\n",
       "    </tr>\n",
       "    <tr>\n",
       "      <th>14</th>\n",
       "      <td>What is the total cash balance in the year 2022?</td>\n",
       "      <td>\\n\\n$54,253 million\\n</td>\n",
       "      <td>Per the balance sheet, cash balance ending 202...</td>\n",
       "      <td>[{'name': 'factual_knowledge', 'value': 0}]</td>\n",
       "      <td>factual_knowledge</td>\n",
       "      <td>0</td>\n",
       "    </tr>\n",
       "    <tr>\n",
       "      <th>15</th>\n",
       "      <td>Where are Amazon's international headquarters ...</td>\n",
       "      <td>\\n\\nAmazon's international headquarters are lo...</td>\n",
       "      <td>Amazon owns and leases corporate headquarters ...</td>\n",
       "      <td>[{'name': 'factual_knowledge', 'value': 0}]</td>\n",
       "      <td>factual_knowledge</td>\n",
       "      <td>0</td>\n",
       "    </tr>\n",
       "    <tr>\n",
       "      <th>16</th>\n",
       "      <td>What table shows supplemental cash flow inform...</td>\n",
       "      <td>\\n\\nTable of Contents\\nConsolidated Statements...</td>\n",
       "      <td>The Supplemental Cash Flow Information table s...</td>\n",
       "      <td>[{'name': 'factual_knowledge', 'value': 0}]</td>\n",
       "      <td>factual_knowledge</td>\n",
       "      <td>0</td>\n",
       "    </tr>\n",
       "    <tr>\n",
       "      <th>17</th>\n",
       "      <td>On what stock exchange are Amazon's common sha...</td>\n",
       "      <td>\\n\\nAmazon's common shares are traded on the N...</td>\n",
       "      <td>AMZN stock's common shares trade on the Nasdaq...</td>\n",
       "      <td>[{'name': 'factual_knowledge', 'value': 0}]</td>\n",
       "      <td>factual_knowledge</td>\n",
       "      <td>0</td>\n",
       "    </tr>\n",
       "    <tr>\n",
       "      <th>18</th>\n",
       "      <td>What are Amazon's four business principles?</td>\n",
       "      <td>\\n\\n- Low prices\\n- Fast and free delivery\\n- ...</td>\n",
       "      <td>Amazon is guided by four principles: customer ...</td>\n",
       "      <td>[{'name': 'factual_knowledge', 'value': 0}]</td>\n",
       "      <td>factual_knowledge</td>\n",
       "      <td>0</td>\n",
       "    </tr>\n",
       "    <tr>\n",
       "      <th>19</th>\n",
       "      <td>What was the amount of cash paid for income ta...</td>\n",
       "      <td>\\n\\n$2,863 million\\n</td>\n",
       "      <td>In 2020, the amount of cash paid for income ta...</td>\n",
       "      <td>[{'name': 'factual_knowledge', 'value': 0}]</td>\n",
       "      <td>factual_knowledge</td>\n",
       "      <td>0</td>\n",
       "    </tr>\n",
       "    <tr>\n",
       "      <th>20</th>\n",
       "      <td>What is making it hard for Amazon to hire and ...</td>\n",
       "      <td>\\n\\nRegional labor market and global supply ch...</td>\n",
       "      <td>Labor market and supply chain constraints are ...</td>\n",
       "      <td>[{'name': 'factual_knowledge', 'value': 0}]</td>\n",
       "      <td>factual_knowledge</td>\n",
       "      <td>0</td>\n",
       "    </tr>\n",
       "  </tbody>\n",
       "</table>\n",
       "</div>"
      ],
      "text/plain": [
       "                                          model_input  \\\n",
       "0   What is the name of Amazon's satellite broadba...   \n",
       "1          What shipping challenges does Amazon face?   \n",
       "2   How much outstanding borrowings is under Amazo...   \n",
       "3   Where in the financial statements is the forei...   \n",
       "4   What external events could negatively impact A...   \n",
       "5   Wjat is the total square footage of office spa...   \n",
       "6   What was the total cash paid for income taxes ...   \n",
       "7   Who is Amazon's Senior Vice President and Gene...   \n",
       "8           What is Amazon's operating income in 2021   \n",
       "9   What are the three primary customer sets Amazo...   \n",
       "10  What did Amazon do with their common stock on ...   \n",
       "11   What were the company's key areas of investment?   \n",
       "12  What is the international business operating i...   \n",
       "13             How much was AWS sales growth in 2022?   \n",
       "14   What is the total cash balance in the year 2022?   \n",
       "15  Where are Amazon's international headquarters ...   \n",
       "16  What table shows supplemental cash flow inform...   \n",
       "17  On what stock exchange are Amazon's common sha...   \n",
       "18        What are Amazon's four business principles?   \n",
       "19  What was the amount of cash paid for income ta...   \n",
       "20  What is making it hard for Amazon to hire and ...   \n",
       "\n",
       "                                         model_output  \\\n",
       "0                                \\n\\nProject Kuiper\\n   \n",
       "1   \\n\\nAmazon faces several shipping challenges, ...   \n",
       "2                                  \\n\\n$6.8 billion\\n   \n",
       "3   \\n\\nThe foreign exchange rate effect informati...   \n",
       "4   \\n\\nNatural or human-caused disasters (includi...   \n",
       "5                                        \\n\\n30,611\\n   \n",
       "6   \\n\\nThe total cash paid for income taxes in 20...   \n",
       "7                             \\n\\nDavid A. Zapolsky\\n   \n",
       "8                               \\n\\n$33,364 million\\n   \n",
       "9   \\n\\n- Customers (who buy products and services...   \n",
       "10  \\n\\nAmazon did not do anything with their comm...   \n",
       "11  \\n\\nThe company's key areas of investment were...   \n",
       "12                                \\n\\nnot available\\n   \n",
       "13  \\n\\nAWS sales increased 29% in 2022, compared ...   \n",
       "14                              \\n\\n$54,253 million\\n   \n",
       "15  \\n\\nAmazon's international headquarters are lo...   \n",
       "16  \\n\\nTable of Contents\\nConsolidated Statements...   \n",
       "17  \\n\\nAmazon's common shares are traded on the N...   \n",
       "18  \\n\\n- Low prices\\n- Fast and free delivery\\n- ...   \n",
       "19                               \\n\\n$2,863 million\\n   \n",
       "20  \\n\\nRegional labor market and global supply ch...   \n",
       "\n",
       "                                        target_output  \\\n",
       "0   There is not enough information available to a...   \n",
       "1   Amazon faces a number of shipping challenges. ...   \n",
       "2   $6.8 billion of borrowings outstanding under t...   \n",
       "3   It is provided under the header \"Effect of For...   \n",
       "4   Natural disasters, extreme weather, geopolitic...   \n",
       "5   Total office space leased in north america is ...   \n",
       "6   The total cash paid for income taxes is $6.035...   \n",
       "7   David A. Zapolsky is the Senior Vice President...   \n",
       "8   Amazon's operating income in 2021 is $24,879 m...   \n",
       "9   Amazon primary customer sets are consumers, se...   \n",
       "10  On May 27, 2022, AMZN effected a 20-for-1 stoc...   \n",
       "11  Key areas of investment: devices; digital cont...   \n",
       "12  Amazon internation business has a loss of $924...   \n",
       "13  AWS sales increased 29% in 2022, compared to t...   \n",
       "14  Per the balance sheet, cash balance ending 202...   \n",
       "15  Amazon owns and leases corporate headquarters ...   \n",
       "16  The Supplemental Cash Flow Information table s...   \n",
       "17  AMZN stock's common shares trade on the Nasdaq...   \n",
       "18  Amazon is guided by four principles: customer ...   \n",
       "19  In 2020, the amount of cash paid for income ta...   \n",
       "20  Labor market and supply chain constraints are ...   \n",
       "\n",
       "                                         scores          eval_algo  eval_score  \n",
       "0   [{'name': 'factual_knowledge', 'value': 0}]  factual_knowledge           0  \n",
       "1   [{'name': 'factual_knowledge', 'value': 0}]  factual_knowledge           0  \n",
       "2   [{'name': 'factual_knowledge', 'value': 0}]  factual_knowledge           0  \n",
       "3   [{'name': 'factual_knowledge', 'value': 0}]  factual_knowledge           0  \n",
       "4   [{'name': 'factual_knowledge', 'value': 0}]  factual_knowledge           0  \n",
       "5   [{'name': 'factual_knowledge', 'value': 0}]  factual_knowledge           0  \n",
       "6   [{'name': 'factual_knowledge', 'value': 0}]  factual_knowledge           0  \n",
       "7   [{'name': 'factual_knowledge', 'value': 0}]  factual_knowledge           0  \n",
       "8   [{'name': 'factual_knowledge', 'value': 0}]  factual_knowledge           0  \n",
       "9   [{'name': 'factual_knowledge', 'value': 0}]  factual_knowledge           0  \n",
       "10  [{'name': 'factual_knowledge', 'value': 0}]  factual_knowledge           0  \n",
       "11  [{'name': 'factual_knowledge', 'value': 0}]  factual_knowledge           0  \n",
       "12  [{'name': 'factual_knowledge', 'value': 0}]  factual_knowledge           0  \n",
       "13  [{'name': 'factual_knowledge', 'value': 1}]  factual_knowledge           1  \n",
       "14  [{'name': 'factual_knowledge', 'value': 0}]  factual_knowledge           0  \n",
       "15  [{'name': 'factual_knowledge', 'value': 0}]  factual_knowledge           0  \n",
       "16  [{'name': 'factual_knowledge', 'value': 0}]  factual_knowledge           0  \n",
       "17  [{'name': 'factual_knowledge', 'value': 0}]  factual_knowledge           0  \n",
       "18  [{'name': 'factual_knowledge', 'value': 0}]  factual_knowledge           0  \n",
       "19  [{'name': 'factual_knowledge', 'value': 0}]  factual_knowledge           0  \n",
       "20  [{'name': 'factual_knowledge', 'value': 0}]  factual_knowledge           0  "
      ]
     },
     "execution_count": 101,
     "metadata": {},
     "output_type": "execute_result"
    }
   ],
   "source": [
    "# Create a Pandas DataFrame to visualize the results\n",
    "import pandas as pd\n",
    "\n",
    "data = []\n",
    "\n",
    "# We obtain the path to the results file from \"output_path\" in the cell above\n",
    "with open(\"/tmp/eval_results/factual_knowledge_rag_claude_with_model_outputs.jsonl\", \"r\") as file:\n",
    "    for line in file:\n",
    "        data.append(json.loads(line))\n",
    "df = pd.DataFrame(data)\n",
    "df['eval_algo'] = df['scores'].apply(lambda x: x[0]['name'])\n",
    "df['eval_score'] = df['scores'].apply(lambda x: x[0]['value'])\n",
    "df.head(22)"
   ]
  }
 ],
 "metadata": {
  "availableInstances": [
   {
    "_defaultOrder": 0,
    "_isFastLaunch": true,
    "category": "General purpose",
    "gpuNum": 0,
    "hideHardwareSpecs": false,
    "memoryGiB": 4,
    "name": "ml.t3.medium",
    "vcpuNum": 2
   },
   {
    "_defaultOrder": 1,
    "_isFastLaunch": false,
    "category": "General purpose",
    "gpuNum": 0,
    "hideHardwareSpecs": false,
    "memoryGiB": 8,
    "name": "ml.t3.large",
    "vcpuNum": 2
   },
   {
    "_defaultOrder": 2,
    "_isFastLaunch": false,
    "category": "General purpose",
    "gpuNum": 0,
    "hideHardwareSpecs": false,
    "memoryGiB": 16,
    "name": "ml.t3.xlarge",
    "vcpuNum": 4
   },
   {
    "_defaultOrder": 3,
    "_isFastLaunch": false,
    "category": "General purpose",
    "gpuNum": 0,
    "hideHardwareSpecs": false,
    "memoryGiB": 32,
    "name": "ml.t3.2xlarge",
    "vcpuNum": 8
   },
   {
    "_defaultOrder": 4,
    "_isFastLaunch": true,
    "category": "General purpose",
    "gpuNum": 0,
    "hideHardwareSpecs": false,
    "memoryGiB": 8,
    "name": "ml.m5.large",
    "vcpuNum": 2
   },
   {
    "_defaultOrder": 5,
    "_isFastLaunch": false,
    "category": "General purpose",
    "gpuNum": 0,
    "hideHardwareSpecs": false,
    "memoryGiB": 16,
    "name": "ml.m5.xlarge",
    "vcpuNum": 4
   },
   {
    "_defaultOrder": 6,
    "_isFastLaunch": false,
    "category": "General purpose",
    "gpuNum": 0,
    "hideHardwareSpecs": false,
    "memoryGiB": 32,
    "name": "ml.m5.2xlarge",
    "vcpuNum": 8
   },
   {
    "_defaultOrder": 7,
    "_isFastLaunch": false,
    "category": "General purpose",
    "gpuNum": 0,
    "hideHardwareSpecs": false,
    "memoryGiB": 64,
    "name": "ml.m5.4xlarge",
    "vcpuNum": 16
   },
   {
    "_defaultOrder": 8,
    "_isFastLaunch": false,
    "category": "General purpose",
    "gpuNum": 0,
    "hideHardwareSpecs": false,
    "memoryGiB": 128,
    "name": "ml.m5.8xlarge",
    "vcpuNum": 32
   },
   {
    "_defaultOrder": 9,
    "_isFastLaunch": false,
    "category": "General purpose",
    "gpuNum": 0,
    "hideHardwareSpecs": false,
    "memoryGiB": 192,
    "name": "ml.m5.12xlarge",
    "vcpuNum": 48
   },
   {
    "_defaultOrder": 10,
    "_isFastLaunch": false,
    "category": "General purpose",
    "gpuNum": 0,
    "hideHardwareSpecs": false,
    "memoryGiB": 256,
    "name": "ml.m5.16xlarge",
    "vcpuNum": 64
   },
   {
    "_defaultOrder": 11,
    "_isFastLaunch": false,
    "category": "General purpose",
    "gpuNum": 0,
    "hideHardwareSpecs": false,
    "memoryGiB": 384,
    "name": "ml.m5.24xlarge",
    "vcpuNum": 96
   },
   {
    "_defaultOrder": 12,
    "_isFastLaunch": false,
    "category": "General purpose",
    "gpuNum": 0,
    "hideHardwareSpecs": false,
    "memoryGiB": 8,
    "name": "ml.m5d.large",
    "vcpuNum": 2
   },
   {
    "_defaultOrder": 13,
    "_isFastLaunch": false,
    "category": "General purpose",
    "gpuNum": 0,
    "hideHardwareSpecs": false,
    "memoryGiB": 16,
    "name": "ml.m5d.xlarge",
    "vcpuNum": 4
   },
   {
    "_defaultOrder": 14,
    "_isFastLaunch": false,
    "category": "General purpose",
    "gpuNum": 0,
    "hideHardwareSpecs": false,
    "memoryGiB": 32,
    "name": "ml.m5d.2xlarge",
    "vcpuNum": 8
   },
   {
    "_defaultOrder": 15,
    "_isFastLaunch": false,
    "category": "General purpose",
    "gpuNum": 0,
    "hideHardwareSpecs": false,
    "memoryGiB": 64,
    "name": "ml.m5d.4xlarge",
    "vcpuNum": 16
   },
   {
    "_defaultOrder": 16,
    "_isFastLaunch": false,
    "category": "General purpose",
    "gpuNum": 0,
    "hideHardwareSpecs": false,
    "memoryGiB": 128,
    "name": "ml.m5d.8xlarge",
    "vcpuNum": 32
   },
   {
    "_defaultOrder": 17,
    "_isFastLaunch": false,
    "category": "General purpose",
    "gpuNum": 0,
    "hideHardwareSpecs": false,
    "memoryGiB": 192,
    "name": "ml.m5d.12xlarge",
    "vcpuNum": 48
   },
   {
    "_defaultOrder": 18,
    "_isFastLaunch": false,
    "category": "General purpose",
    "gpuNum": 0,
    "hideHardwareSpecs": false,
    "memoryGiB": 256,
    "name": "ml.m5d.16xlarge",
    "vcpuNum": 64
   },
   {
    "_defaultOrder": 19,
    "_isFastLaunch": false,
    "category": "General purpose",
    "gpuNum": 0,
    "hideHardwareSpecs": false,
    "memoryGiB": 384,
    "name": "ml.m5d.24xlarge",
    "vcpuNum": 96
   },
   {
    "_defaultOrder": 20,
    "_isFastLaunch": false,
    "category": "General purpose",
    "gpuNum": 0,
    "hideHardwareSpecs": true,
    "memoryGiB": 0,
    "name": "ml.geospatial.interactive",
    "supportedImageNames": [
     "sagemaker-geospatial-v1-0"
    ],
    "vcpuNum": 0
   },
   {
    "_defaultOrder": 21,
    "_isFastLaunch": true,
    "category": "Compute optimized",
    "gpuNum": 0,
    "hideHardwareSpecs": false,
    "memoryGiB": 4,
    "name": "ml.c5.large",
    "vcpuNum": 2
   },
   {
    "_defaultOrder": 22,
    "_isFastLaunch": false,
    "category": "Compute optimized",
    "gpuNum": 0,
    "hideHardwareSpecs": false,
    "memoryGiB": 8,
    "name": "ml.c5.xlarge",
    "vcpuNum": 4
   },
   {
    "_defaultOrder": 23,
    "_isFastLaunch": false,
    "category": "Compute optimized",
    "gpuNum": 0,
    "hideHardwareSpecs": false,
    "memoryGiB": 16,
    "name": "ml.c5.2xlarge",
    "vcpuNum": 8
   },
   {
    "_defaultOrder": 24,
    "_isFastLaunch": false,
    "category": "Compute optimized",
    "gpuNum": 0,
    "hideHardwareSpecs": false,
    "memoryGiB": 32,
    "name": "ml.c5.4xlarge",
    "vcpuNum": 16
   },
   {
    "_defaultOrder": 25,
    "_isFastLaunch": false,
    "category": "Compute optimized",
    "gpuNum": 0,
    "hideHardwareSpecs": false,
    "memoryGiB": 72,
    "name": "ml.c5.9xlarge",
    "vcpuNum": 36
   },
   {
    "_defaultOrder": 26,
    "_isFastLaunch": false,
    "category": "Compute optimized",
    "gpuNum": 0,
    "hideHardwareSpecs": false,
    "memoryGiB": 96,
    "name": "ml.c5.12xlarge",
    "vcpuNum": 48
   },
   {
    "_defaultOrder": 27,
    "_isFastLaunch": false,
    "category": "Compute optimized",
    "gpuNum": 0,
    "hideHardwareSpecs": false,
    "memoryGiB": 144,
    "name": "ml.c5.18xlarge",
    "vcpuNum": 72
   },
   {
    "_defaultOrder": 28,
    "_isFastLaunch": false,
    "category": "Compute optimized",
    "gpuNum": 0,
    "hideHardwareSpecs": false,
    "memoryGiB": 192,
    "name": "ml.c5.24xlarge",
    "vcpuNum": 96
   },
   {
    "_defaultOrder": 29,
    "_isFastLaunch": true,
    "category": "Accelerated computing",
    "gpuNum": 1,
    "hideHardwareSpecs": false,
    "memoryGiB": 16,
    "name": "ml.g4dn.xlarge",
    "vcpuNum": 4
   },
   {
    "_defaultOrder": 30,
    "_isFastLaunch": false,
    "category": "Accelerated computing",
    "gpuNum": 1,
    "hideHardwareSpecs": false,
    "memoryGiB": 32,
    "name": "ml.g4dn.2xlarge",
    "vcpuNum": 8
   },
   {
    "_defaultOrder": 31,
    "_isFastLaunch": false,
    "category": "Accelerated computing",
    "gpuNum": 1,
    "hideHardwareSpecs": false,
    "memoryGiB": 64,
    "name": "ml.g4dn.4xlarge",
    "vcpuNum": 16
   },
   {
    "_defaultOrder": 32,
    "_isFastLaunch": false,
    "category": "Accelerated computing",
    "gpuNum": 1,
    "hideHardwareSpecs": false,
    "memoryGiB": 128,
    "name": "ml.g4dn.8xlarge",
    "vcpuNum": 32
   },
   {
    "_defaultOrder": 33,
    "_isFastLaunch": false,
    "category": "Accelerated computing",
    "gpuNum": 4,
    "hideHardwareSpecs": false,
    "memoryGiB": 192,
    "name": "ml.g4dn.12xlarge",
    "vcpuNum": 48
   },
   {
    "_defaultOrder": 34,
    "_isFastLaunch": false,
    "category": "Accelerated computing",
    "gpuNum": 1,
    "hideHardwareSpecs": false,
    "memoryGiB": 256,
    "name": "ml.g4dn.16xlarge",
    "vcpuNum": 64
   },
   {
    "_defaultOrder": 35,
    "_isFastLaunch": false,
    "category": "Accelerated computing",
    "gpuNum": 1,
    "hideHardwareSpecs": false,
    "memoryGiB": 61,
    "name": "ml.p3.2xlarge",
    "vcpuNum": 8
   },
   {
    "_defaultOrder": 36,
    "_isFastLaunch": false,
    "category": "Accelerated computing",
    "gpuNum": 4,
    "hideHardwareSpecs": false,
    "memoryGiB": 244,
    "name": "ml.p3.8xlarge",
    "vcpuNum": 32
   },
   {
    "_defaultOrder": 37,
    "_isFastLaunch": false,
    "category": "Accelerated computing",
    "gpuNum": 8,
    "hideHardwareSpecs": false,
    "memoryGiB": 488,
    "name": "ml.p3.16xlarge",
    "vcpuNum": 64
   },
   {
    "_defaultOrder": 38,
    "_isFastLaunch": false,
    "category": "Accelerated computing",
    "gpuNum": 8,
    "hideHardwareSpecs": false,
    "memoryGiB": 768,
    "name": "ml.p3dn.24xlarge",
    "vcpuNum": 96
   },
   {
    "_defaultOrder": 39,
    "_isFastLaunch": false,
    "category": "Memory Optimized",
    "gpuNum": 0,
    "hideHardwareSpecs": false,
    "memoryGiB": 16,
    "name": "ml.r5.large",
    "vcpuNum": 2
   },
   {
    "_defaultOrder": 40,
    "_isFastLaunch": false,
    "category": "Memory Optimized",
    "gpuNum": 0,
    "hideHardwareSpecs": false,
    "memoryGiB": 32,
    "name": "ml.r5.xlarge",
    "vcpuNum": 4
   },
   {
    "_defaultOrder": 41,
    "_isFastLaunch": false,
    "category": "Memory Optimized",
    "gpuNum": 0,
    "hideHardwareSpecs": false,
    "memoryGiB": 64,
    "name": "ml.r5.2xlarge",
    "vcpuNum": 8
   },
   {
    "_defaultOrder": 42,
    "_isFastLaunch": false,
    "category": "Memory Optimized",
    "gpuNum": 0,
    "hideHardwareSpecs": false,
    "memoryGiB": 128,
    "name": "ml.r5.4xlarge",
    "vcpuNum": 16
   },
   {
    "_defaultOrder": 43,
    "_isFastLaunch": false,
    "category": "Memory Optimized",
    "gpuNum": 0,
    "hideHardwareSpecs": false,
    "memoryGiB": 256,
    "name": "ml.r5.8xlarge",
    "vcpuNum": 32
   },
   {
    "_defaultOrder": 44,
    "_isFastLaunch": false,
    "category": "Memory Optimized",
    "gpuNum": 0,
    "hideHardwareSpecs": false,
    "memoryGiB": 384,
    "name": "ml.r5.12xlarge",
    "vcpuNum": 48
   },
   {
    "_defaultOrder": 45,
    "_isFastLaunch": false,
    "category": "Memory Optimized",
    "gpuNum": 0,
    "hideHardwareSpecs": false,
    "memoryGiB": 512,
    "name": "ml.r5.16xlarge",
    "vcpuNum": 64
   },
   {
    "_defaultOrder": 46,
    "_isFastLaunch": false,
    "category": "Memory Optimized",
    "gpuNum": 0,
    "hideHardwareSpecs": false,
    "memoryGiB": 768,
    "name": "ml.r5.24xlarge",
    "vcpuNum": 96
   },
   {
    "_defaultOrder": 47,
    "_isFastLaunch": false,
    "category": "Accelerated computing",
    "gpuNum": 1,
    "hideHardwareSpecs": false,
    "memoryGiB": 16,
    "name": "ml.g5.xlarge",
    "vcpuNum": 4
   },
   {
    "_defaultOrder": 48,
    "_isFastLaunch": false,
    "category": "Accelerated computing",
    "gpuNum": 1,
    "hideHardwareSpecs": false,
    "memoryGiB": 32,
    "name": "ml.g5.2xlarge",
    "vcpuNum": 8
   },
   {
    "_defaultOrder": 49,
    "_isFastLaunch": false,
    "category": "Accelerated computing",
    "gpuNum": 1,
    "hideHardwareSpecs": false,
    "memoryGiB": 64,
    "name": "ml.g5.4xlarge",
    "vcpuNum": 16
   },
   {
    "_defaultOrder": 50,
    "_isFastLaunch": false,
    "category": "Accelerated computing",
    "gpuNum": 1,
    "hideHardwareSpecs": false,
    "memoryGiB": 128,
    "name": "ml.g5.8xlarge",
    "vcpuNum": 32
   },
   {
    "_defaultOrder": 51,
    "_isFastLaunch": false,
    "category": "Accelerated computing",
    "gpuNum": 1,
    "hideHardwareSpecs": false,
    "memoryGiB": 256,
    "name": "ml.g5.16xlarge",
    "vcpuNum": 64
   },
   {
    "_defaultOrder": 52,
    "_isFastLaunch": false,
    "category": "Accelerated computing",
    "gpuNum": 4,
    "hideHardwareSpecs": false,
    "memoryGiB": 192,
    "name": "ml.g5.12xlarge",
    "vcpuNum": 48
   },
   {
    "_defaultOrder": 53,
    "_isFastLaunch": false,
    "category": "Accelerated computing",
    "gpuNum": 4,
    "hideHardwareSpecs": false,
    "memoryGiB": 384,
    "name": "ml.g5.24xlarge",
    "vcpuNum": 96
   },
   {
    "_defaultOrder": 54,
    "_isFastLaunch": false,
    "category": "Accelerated computing",
    "gpuNum": 8,
    "hideHardwareSpecs": false,
    "memoryGiB": 768,
    "name": "ml.g5.48xlarge",
    "vcpuNum": 192
   },
   {
    "_defaultOrder": 55,
    "_isFastLaunch": false,
    "category": "Accelerated computing",
    "gpuNum": 8,
    "hideHardwareSpecs": false,
    "memoryGiB": 1152,
    "name": "ml.p4d.24xlarge",
    "vcpuNum": 96
   },
   {
    "_defaultOrder": 56,
    "_isFastLaunch": false,
    "category": "Accelerated computing",
    "gpuNum": 8,
    "hideHardwareSpecs": false,
    "memoryGiB": 1152,
    "name": "ml.p4de.24xlarge",
    "vcpuNum": 96
   },
   {
    "_defaultOrder": 57,
    "_isFastLaunch": false,
    "category": "Accelerated computing",
    "gpuNum": 0,
    "hideHardwareSpecs": false,
    "memoryGiB": 32,
    "name": "ml.trn1.2xlarge",
    "vcpuNum": 8
   },
   {
    "_defaultOrder": 58,
    "_isFastLaunch": false,
    "category": "Accelerated computing",
    "gpuNum": 0,
    "hideHardwareSpecs": false,
    "memoryGiB": 512,
    "name": "ml.trn1.32xlarge",
    "vcpuNum": 128
   },
   {
    "_defaultOrder": 59,
    "_isFastLaunch": false,
    "category": "Accelerated computing",
    "gpuNum": 0,
    "hideHardwareSpecs": false,
    "memoryGiB": 512,
    "name": "ml.trn1n.32xlarge",
    "vcpuNum": 128
   }
  ],
  "instance_type": "ml.t3.medium",
  "kernelspec": {
   "display_name": "rag-eval",
   "language": "python",
   "name": "python3"
  },
  "language_info": {
   "codemirror_mode": {
    "name": "ipython",
    "version": 3
   },
   "file_extension": ".py",
   "mimetype": "text/x-python",
   "name": "python",
   "nbconvert_exporter": "python",
   "pygments_lexer": "ipython3",
   "version": "3.10.13"
  },
  "toc-autonumbering": true,
  "toc-showmarkdowntxt": false
 },
 "nbformat": 4,
 "nbformat_minor": 5
}
